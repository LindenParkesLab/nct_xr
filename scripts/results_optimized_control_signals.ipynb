{
 "cells": [
  {
   "cell_type": "code",
   "execution_count": 1,
   "metadata": {
    "ExecuteTime": {
     "end_time": "2023-11-25T18:08:53.684862Z",
     "start_time": "2023-11-25T18:08:53.483907Z"
    },
    "collapsed": false
   },
   "outputs": [],
   "source": [
    "# import\n",
    "import os, sys\n",
    "import numpy as np\n",
    "import pandas as pd\n",
    "import scipy as sp\n",
    "from scipy import stats\n",
    "from scipy.spatial import distance\n",
    "from sklearn.cluster import KMeans\n",
    "from sklearn.decomposition import PCA\n",
    "from sklearn.linear_model import LinearRegression\n",
    "from tqdm import tqdm\n",
    "import bct\n",
    "\n",
    "# import plotting libraries\n",
    "import matplotlib.pyplot as plt\n",
    "\n",
    "plt.rcParams.update({\"font.size\": 8})\n",
    "plt.rcParams[\"svg.fonttype\"] = \"none\"\n",
    "import seaborn as sns\n",
    "from nilearn import datasets\n",
    "from nilearn import plotting\n",
    "\n",
    "sys.path.extend([r'/home/lindenmp/research_projects/snaplab_tools'])\n",
    "sys.path.extend([r'/home/lindenmp/research_projects/nctpy/src'])\n",
    "\n",
    "# import functions\n",
    "from snaplab_tools.plotting.plotting import categorical_kde_plot, reg_plot, brain_scatter_plot, paired_line_plot\n",
    "from snaplab_tools.plotting.utils import get_my_colors, get_p_val_string\n",
    "from nctpy.energies import get_control_inputs, integrate_u\n",
    "from nctpy.utils import normalize_state, matrix_normalization\n",
    "from snaplab_tools.utils import get_schaefer_system_mask, get_null_p, get_fdr_p\n",
    "from src.utils import get_yeo_control_set\n",
    "\n",
    "from brainsmash.mapgen.base import Base"
   ]
  },
  {
   "cell_type": "code",
   "execution_count": 2,
   "metadata": {},
   "outputs": [
    {
     "data": {
      "text/plain": [
       "128"
      ]
     },
     "execution_count": 2,
     "metadata": {},
     "output_type": "execute_result"
    }
   ],
   "source": [
    "import psutil \n",
    "psutil.cpu_count(logical=True)"
   ]
  },
  {
   "cell_type": "markdown",
   "metadata": {
    "collapsed": false
   },
   "source": [
    "## Load data"
   ]
  },
  {
   "cell_type": "code",
   "execution_count": 3,
   "metadata": {},
   "outputs": [],
   "source": [
    "# directory where data is stored\n",
    "indir = '/home/lindenmp/research_projects/nct_xr/data'\n",
    "outdir = '/home/lindenmp/research_projects/nct_xr/results'\n",
    "fmri_concat = np.load(os.path.join(outdir, 'fmri_clusters_fmri_concat.npy'))\n",
    "fmri_concat_subjidx = np.load(os.path.join(outdir, 'fmri_clusters_fmri_concat_subjidx.npy'))"
   ]
  },
  {
   "cell_type": "code",
   "execution_count": 4,
   "metadata": {},
   "outputs": [
    {
     "name": "stdout",
     "output_type": "stream",
     "text": [
      "                     R   A   S\n",
      "ROI Name                      \n",
      "7Networks_LH_Vis_1 -33 -42 -21\n",
      "7Networks_LH_Vis_2 -30 -33 -18\n",
      "7Networks_LH_Vis_3 -36 -62 -17\n",
      "7Networks_LH_Vis_4 -24 -55  -8\n",
      "7Networks_LH_Vis_5 -23 -73 -10\n"
     ]
    }
   ],
   "source": [
    "# extract cluster centers. These represent dominant patterns of recurrent activity over time\n",
    "parc_centroids = pd.read_csv(os.path.join(indir, 'schaefer400-7_centroids.csv'), index_col=0)\n",
    "print(parc_centroids.head())\n",
    "\n",
    "distance_matrix = distance.pdist(\n",
    "    parc_centroids, \"euclidean\"\n",
    ")  # get euclidean distances between nodes\n",
    "distance_matrix = distance.squareform(distance_matrix)  # reshape to square matrix"
   ]
  },
  {
   "cell_type": "code",
   "execution_count": 5,
   "metadata": {},
   "outputs": [
    {
     "data": {
      "text/plain": [
       "(400,)"
      ]
     },
     "execution_count": 5,
     "metadata": {},
     "output_type": "execute_result"
    }
   ],
   "source": [
    "system = 'continuous'\n",
    "adjacency = np.load(os.path.join(indir, 'hcp_schaefer400-7_Am-features_schaefer_streamcount_areanorm_log.npy'))\n",
    "adjacency_norm = matrix_normalization(adjacency, system=system)\n",
    "n_nodes = adjacency.shape[0]\n",
    "\n",
    "tmp_list = ['Default', 'SomMot', 'Cont', 'DorsAttn', 'SalVentAttn', 'Vis', 'Limbic']\n",
    "ci = np.zeros(n_nodes)\n",
    "for i in np.arange(len(tmp_list)):\n",
    "    system_mask = get_schaefer_system_mask(list(parc_centroids.index), system=tmp_list[i])\n",
    "    ci = ci + system_mask * (i + 1)\n",
    "\n",
    "participation_coefficient = bct.participation_coef(adjacency, ci=ci, degree='undirected')\n",
    "# participation_coefficient = participation_coefficient[np.diag(control_set == 1)]\n",
    "participation_coefficient.shape\n",
    "\n",
    "# participation_coefficient_matrix = np.zeros((n_nodes, n_nodes))\n",
    "# for ii in np.arange(n_nodes):\n",
    "#     for jj in np.arange(n_nodes):\n",
    "#         participation_coefficient_matrix[ii, jj] = participation_coefficient[ii] - participation_coefficient[jj]\n",
    "\n",
    "# participation_coefficient_matrix = participation_coefficient_matrix[np.diag(control_set == 1), :][:, np.diag(control_set == 1)]\n",
    "# participation_coefficient_matrix.shape"
   ]
  },
  {
   "cell_type": "code",
   "execution_count": 6,
   "metadata": {
    "collapsed": false
   },
   "outputs": [
    {
     "name": "stdout",
     "output_type": "stream",
     "text": [
      "hcp-Am_optimal-optimized-energy_k-7_c-1_T-1_rho-1_refstate-xf_initweights-one_nsteps-1000_lr-0.01_eigweight-1.0_regweight-0.0001_regtype-l2\n"
     ]
    },
    {
     "data": {
      "text/plain": [
       "dict_keys(['state_trajectory', 'control_signals', 'numerical_error', 'control_energy', 'loss', 'eigen_values', 'optimized_weights', 'state_trajectory_variable_decay', 'control_signals_variable_decay', 'numerical_error_variable_decay', 'control_energy_variable_decay', 'state_trajectory_static_decay', 'numerical_error_static_decay', 'control_energy_static_decay', 'control_signals_corr_partial', 'control_energy_partial', 'numerical_error_partial', 'xfcorr_partial', 'control_signals_corr_partial_variable_decay', 'control_energy_partial_variable_decay', 'numerical_error_partial_variable_decay', 'xfcorr_partial_variable_decay', 'control_signals_system', 'control_signals_corr_system', 'control_energy_system', 'numerical_error_system', 'xfcorr_system', 'control_signals_system_variable_decay', 'control_signals_corr_system_variable_decay', 'control_energy_system_variable_decay', 'numerical_error_system_variable_decay', 'xfcorr_system_variable_decay'])"
      ]
     },
     "execution_count": 6,
     "metadata": {},
     "output_type": "execute_result"
    }
   ],
   "source": [
    "file_prefix = 'hcp-Am_optimal-'\n",
    "\n",
    "n_states = 7\n",
    "c = 1\n",
    "time_horizon = 1\n",
    "rho = 1\n",
    "reference_state = 'xf'\n",
    "init_weights = 'one'\n",
    "n_steps = 1000\n",
    "lr = 0.01\n",
    "eig_weight = 1.0\n",
    "reg_weight = 0.0001\n",
    "reg_type = 'l2'\n",
    "\n",
    "file_str = '{0}optimized-energy_k-{1}_c-{2}_T-{3}_rho-{4}_refstate-{5}_initweights-{6}_nsteps-{7}_lr-{8}_eigweight-{9}_regweight-{10}_regtype-{11}'.format(file_prefix, \n",
    "                                                                                                                                                            n_states, \n",
    "                                                                                                                                                            c, time_horizon, rho,\n",
    "                                                                                                                                                            reference_state, init_weights,\n",
    "                                                                                                                                                            n_steps, lr, eig_weight, reg_weight, reg_type)\n",
    "print(file_str)\n",
    "log_args = np.load(os.path.join(outdir, file_str + '.npy'), allow_pickle=True).item()\n",
    "log_args.keys()"
   ]
  },
  {
   "cell_type": "code",
   "execution_count": 7,
   "metadata": {},
   "outputs": [
    {
     "name": "stdout",
     "output_type": "stream",
     "text": [
      "dict_keys(['centroids', 'labels', 'inertia', 'centroid_subj_frac', 'variance_explained'])\n",
      "n_states, 7; n_labels, 873600; n_nodes, 400\n"
     ]
    }
   ],
   "source": [
    "# load fMRI data\n",
    "fmri_ts = np.load(os.path.join(outdir, 'fmri_clusters_fmri_concat.npy'))\n",
    "fmri_ts_subjidx = np.load(os.path.join(outdir, 'fmri_clusters_fmri_concat_subjidx.npy'))\n",
    "\n",
    "# load rsfMRI clusters\n",
    "fmri_clusters_file = 'hcp_fmri_clusters_k-{0}.npy'.format(n_states)\n",
    "fmri_clusters = np.load(os.path.join(outdir, fmri_clusters_file), allow_pickle=True).item()\n",
    "print(fmri_clusters.keys())\n",
    "centroids = fmri_clusters['centroids']\n",
    "labels = fmri_clusters['labels']\n",
    "n_states = centroids.shape[0]\n",
    "n_nodes = centroids.shape[1]\n",
    "n_transitions = n_states * n_states\n",
    "n_timepoints = time_horizon * 1000 + 1\n",
    "\n",
    "n_labels = labels.shape[0]\n",
    "print('n_states, {0}; n_labels, {1}; n_nodes, {2}'.format(n_states, n_labels, n_nodes))"
   ]
  },
  {
   "cell_type": "markdown",
   "metadata": {},
   "source": [
    "# Helper functions"
   ]
  },
  {
   "cell_type": "code",
   "execution_count": 8,
   "metadata": {},
   "outputs": [],
   "source": [
    "def np_pearson_cor(x, y):\n",
    "    xv = x - x.mean(axis=0)\n",
    "    yv = y - y.mean(axis=0)\n",
    "    xvss = (xv * xv).sum(axis=0)\n",
    "    yvss = (yv * yv).sum(axis=0)\n",
    "    result = np.matmul(xv.transpose(), yv) / np.sqrt(np.outer(xvss, yvss))\n",
    "    \n",
    "    return np.maximum(np.minimum(result, 1.0), -1.0)\n",
    "\n",
    "\n",
    "def compute_control_sig_corr(control_signals):\n",
    "    n_transitions = control_signals.shape[0]\n",
    "    n_nodes = control_signals.shape[-1]\n",
    "\n",
    "    control_signals_corr = np.zeros((n_transitions, n_nodes, n_nodes))\n",
    "    for i in np.arange(n_transitions):\n",
    "        # control_signals_corr[i] = np_pearson_cor(control_signals[i], control_signals[i])\n",
    "        control_signals_corr[i] = np.corrcoef(control_signals[i].T)\n",
    "\n",
    "    return control_signals_corr"
   ]
  },
  {
   "cell_type": "markdown",
   "metadata": {},
   "source": [
    "# Control signals"
   ]
  },
  {
   "cell_type": "code",
   "execution_count": 9,
   "metadata": {},
   "outputs": [
    {
     "data": {
      "text/plain": [
       "(7, 7, 1001, 400)"
      ]
     },
     "execution_count": 9,
     "metadata": {},
     "output_type": "execute_result"
    }
   ],
   "source": [
    "log_args['control_signals'].shape"
   ]
  },
  {
   "cell_type": "code",
   "execution_count": 10,
   "metadata": {},
   "outputs": [
    {
     "name": "stdout",
     "output_type": "stream",
     "text": [
      "(49, 1001, 400) (49, 1001, 400)\n",
      "INTuniform      0.862684\n",
      "INToptimized    0.962247\n",
      "dtype: float64\n",
      "TtestResult(statistic=-13.22175621506295, pvalue=1.2838586852436609e-17, df=48)\n"
     ]
    },
    {
     "data": {
      "image/png": "[encoded data removed]",
      "text/plain": [
       "<Figure size 300x125 with 2 Axes>"
      ]
     },
     "metadata": {},
     "output_type": "display_data"
    }
   ],
   "source": [
    "control_signals = log_args['control_signals'].reshape(n_transitions, n_timepoints, n_nodes)\n",
    "control_signals_variable_decay = log_args['control_signals_variable_decay'].reshape(n_transitions, n_timepoints, n_nodes)\n",
    "print(control_signals.shape, control_signals_variable_decay.shape)\n",
    "\n",
    "control_signals_corr = compute_control_sig_corr(control_signals)\n",
    "control_signals_variable_decay_corr = compute_control_sig_corr(control_signals_variable_decay)\n",
    "\n",
    "my_colors = get_my_colors(cat_trio=True, as_list=True)\n",
    "\n",
    "df_plot = pd.DataFrame()\n",
    "x, y = [], []\n",
    "for i in np.arange(n_transitions):\n",
    "    x.append(np.abs(control_signals_corr[i][np.triu_indices(n_nodes, k=1)]).mean())\n",
    "    y.append(np.abs(control_signals_variable_decay_corr[i][np.triu_indices(n_nodes, k=1)]).mean())\n",
    "df_plot['INTuniform'] = x\n",
    "df_plot['INToptimized'] = y\n",
    "print(df_plot.mean())\n",
    "print(sp.stats.ttest_rel(df_plot['INTuniform'], df_plot['INToptimized']))\n",
    "\n",
    "df_plot = df_plot.melt()\n",
    "df_plot.rename(columns={'value': 'Control signal coupling'}, inplace=True)\n",
    "f = categorical_kde_plot(df=df_plot, variable='Control signal coupling', category='variable', horizontal=True, color_palette=my_colors, rug=False, fig_width=3, fig_height=1.25)\n",
    "f.savefig(os.path.join(outdir, 'control_signals_self_corr.svg'), dpi=600, bbox_inches=\"tight\", pad_inches=0.01)"
   ]
  },
  {
   "cell_type": "code",
   "execution_count": 11,
   "metadata": {},
   "outputs": [
    {
     "data": {
      "image/png": "[encoded data removed]",
      "text/plain": [
       "<Figure size 100x125 with 1 Axes>"
      ]
     },
     "metadata": {},
     "output_type": "display_data"
    }
   ],
   "source": [
    "f = brain_scatter_plot(parcel_coords=parc_centroids, node_data=np.ones(n_nodes),\n",
    "                       vmin=0, vmax=1, add_colorbar=False, cmap='Grays')\n",
    "f.savefig(os.path.join(outdir, 'uniform_full_control_set.svg'), dpi=600, bbox_inches=\"tight\", pad_inches=0.01)"
   ]
  },
  {
   "cell_type": "markdown",
   "metadata": {},
   "source": [
    "## Partial control set"
   ]
  },
  {
   "cell_type": "markdown",
   "metadata": {},
   "source": [
    "### Partial control set: random nodes"
   ]
  },
  {
   "cell_type": "code",
   "execution_count": 12,
   "metadata": {},
   "outputs": [
    {
     "name": "stdout",
     "output_type": "stream",
     "text": [
      "[  5  12  20  28  36  44  52  60  68  76  84  92 100 108 116 124 132 140\n",
      " 148 156 164 172 180 188 196 203 211 219 227 235 243 251 259 267 275 283\n",
      " 291 299 307 315 323 331 339 347 355 363 371 379 387 395]\n"
     ]
    }
   ],
   "source": [
    "control_signals_corr_partial = log_args['control_signals_corr_partial']\n",
    "control_energy_partial = log_args['control_energy_partial']\n",
    "error_partial = log_args['numerical_error_partial']\n",
    "xfcorr_partial = log_args['xfcorr_partial']\n",
    "\n",
    "control_signals_corr_partial_variable_decay = log_args['control_signals_corr_partial_variable_decay']\n",
    "control_energy_partial_variable_decay = log_args['control_energy_partial_variable_decay']\n",
    "error_partial_variable_decay = log_args['numerical_error_partial_variable_decay']\n",
    "xfcorr_partial_variable_decay = log_args['xfcorr_partial_variable_decay']\n",
    "\n",
    "n_control_nodes = np.linspace(5, n_nodes-5, control_energy_partial.shape[2]).astype(int)\n",
    "print(n_control_nodes)"
   ]
  },
  {
   "cell_type": "code",
   "execution_count": 13,
   "metadata": {},
   "outputs": [],
   "source": [
    "# legend_txt = ['INTuniform', 'INToptimized']\n",
    "# f, ax = plt.subplots(4, 1, figsize=(3.5, 5))\n",
    "# # f, ax = plt.subplots(3, 1, figsize=(10, 8))\n",
    "# paired_line_plot(n_control_nodes, control_energy_partial.mean(axis=0).mean(axis=0), control_energy_partial_variable_decay.mean(axis=0).mean(axis=0), legend_txt[0], legend_txt[1], ax[2])\n",
    "# ax[2].set_ylabel('Energy')\n",
    "# ax[2].set_yscale('log')\n",
    "\n",
    "# paired_line_plot(n_control_nodes, error_partial.mean(axis=0).mean(axis=0), error_partial_variable_decay.mean(axis=0).mean(axis=0), legend_txt[0], legend_txt[1], ax[1])\n",
    "# ax[1].set_ylabel('Reconstruction error')\n",
    "# ax[1].set_yscale('log')\n",
    "# thr = 1e-2\n",
    "# ax[1].axhline(y=thr, linestyle=':', c='gray')\n",
    "\n",
    "# paired_line_plot(n_control_nodes, xfcorr_partial.mean(axis=0).mean(axis=0), xfcorr_partial_variable_decay.mean(axis=0).mean(axis=0), legend_txt[0], legend_txt[1], ax[0])\n",
    "# vline_idx = n_control_nodes[np.where(xfcorr_partial.mean(axis=0).mean(axis=0).mean(axis=-1) > .99)[0][0]]\n",
    "# print(vline_idx)\n",
    "# ax[0].axvline(x=vline_idx, linestyle=':', c='gray')\n",
    "# vline_idx = n_control_nodes[np.where(xfcorr_partial_variable_decay.mean(axis=0).mean(axis=0).mean(axis=-1) > .99)[0][0]]\n",
    "# print(vline_idx)\n",
    "# ax[0].axvline(x=vline_idx, linestyle=':', c='gray')\n",
    "# ax[0].set_ylabel(r'$Pearson (x(T), x_{T})$')\n",
    "# ax[0].legend()\n",
    "\n",
    "# paired_line_plot(n_control_nodes, control_signals_corr_partial.mean(axis=0).mean(axis=0), control_signals_corr_partial_variable_decay.mean(axis=0).mean(axis=0), legend_txt[0], legend_txt[1], ax[3], plot_diff=False)\n",
    "# # ax[3].set_ylabel('corr(x(T), xf)')\n",
    "\n",
    "# # for this_ax in ax:\n",
    "#     # this_ax.set_xlabel('number of random control nodes')\n",
    "# ax[-1].set_xlabel('number of random control nodes')\n",
    "\n",
    "# f.tight_layout()\n",
    "# # f.savefig(os.path.join(outdir, 'control_energy_partial.svg'), dpi=600, bbox_inches=\"tight\", pad_inches=0.01)v"
   ]
  },
  {
   "cell_type": "markdown",
   "metadata": {},
   "source": [
    "### Partial control set: Yeo system"
   ]
  },
  {
   "cell_type": "code",
   "execution_count": 14,
   "metadata": {},
   "outputs": [],
   "source": [
    "yeo_systems = ['Vis', 'SomMot', 'DorsAttn', 'SalVentAttn', 'Limbic', 'Cont', 'Default']\n",
    "# yeo_systems = ['Default', 'SomMot', 'Cont', 'DorsAttn', 'SalVentAttn', 'Vis', 'Limbic']\n",
    "# yeo_systems = ['Default', 'SomMot', 'Cont', 'DorsAttn']\n",
    "# yeo_systems = ['Cont', ]\n",
    "# yeo_systems = ['Cont',]\n",
    "n_systems = len(yeo_systems)"
   ]
  },
  {
   "cell_type": "code",
   "execution_count": 15,
   "metadata": {},
   "outputs": [],
   "source": [
    "control_signals_corr_system = log_args['control_signals_corr_system']\n",
    "control_energy_system = log_args['control_energy_system']\n",
    "numerical_error_system = log_args['numerical_error_system']\n",
    "xfcorr_system = log_args['xfcorr_system']\n",
    "\n",
    "control_signals_corr_system_variable_decay = log_args['control_signals_corr_system_variable_decay']\n",
    "control_energy_system_variable_decay = log_args['control_energy_system_variable_decay']\n",
    "numerical_error_system_variable_decay = log_args['numerical_error_system_variable_decay']\n",
    "xfcorr_system_variable_decay = log_args['xfcorr_system_variable_decay'] "
   ]
  },
  {
   "cell_type": "code",
   "execution_count": 16,
   "metadata": {},
   "outputs": [
    {
     "name": "stdout",
     "output_type": "stream",
     "text": [
      "Cont\n",
      "INTuniform      0.886640\n",
      "INToptimized    0.738893\n",
      "dtype: float64\n",
      "TtestResult(statistic=12.79583479813026, pvalue=4.3976170501463496e-17, df=48)\n"
     ]
    },
    {
     "data": {
      "image/png": "[encoded data removed]",
      "text/plain": [
       "<Figure size 300x125 with 2 Axes>"
      ]
     },
     "metadata": {},
     "output_type": "display_data"
    }
   ],
   "source": [
    "i = 5\n",
    "print(yeo_systems[i])\n",
    "my_colors = get_my_colors(cat_trio=True, as_list=True)\n",
    "\n",
    "df_plot = pd.DataFrame()\n",
    "x, y = [], []\n",
    "for j in np.arange(n_transitions):\n",
    "    x.append(control_signals_corr_system.reshape(n_transitions, n_systems)[j, i])\n",
    "    y.append(control_signals_corr_system_variable_decay.reshape(n_transitions, n_systems)[j, i])\n",
    "df_plot['INTuniform'] = x\n",
    "df_plot['INToptimized'] = y\n",
    "print(df_plot.mean())\n",
    "print(sp.stats.ttest_rel(df_plot['INTuniform'], df_plot['INToptimized']))\n",
    "\n",
    "df_plot = df_plot.melt()\n",
    "df_plot.rename(columns={'value': 'Control signal coupling'}, inplace=True)\n",
    "f = categorical_kde_plot(df=df_plot, variable='Control signal coupling', category='variable', horizontal=True, color_palette=my_colors, rug=False, fig_width=3, fig_height=1.25)\n",
    "f.savefig(os.path.join(outdir, 'control_signals_system_self_corr.svg'), dpi=600, bbox_inches=\"tight\", pad_inches=0.01)\n"
   ]
  },
  {
   "cell_type": "code",
   "execution_count": 17,
   "metadata": {},
   "outputs": [
    {
     "data": {
      "image/png": "[encoded data removed]",
      "text/plain": [
       "<Figure size 100x125 with 1 Axes>"
      ]
     },
     "metadata": {},
     "output_type": "display_data"
    }
   ],
   "source": [
    "control_set = get_yeo_control_set(list(parc_centroids.index), yeo_systems[i], add_small_control=True)\n",
    "f = brain_scatter_plot(parcel_coords=parc_centroids, node_data=np.diag(control_set),\n",
    "                       vmin=0, vmax=1, add_colorbar=False, cmap='Grays')\n",
    "f.savefig(os.path.join(outdir, 'fpn_control_set.svg'), dpi=600, bbox_inches=\"tight\", pad_inches=0.01)"
   ]
  },
  {
   "cell_type": "markdown",
   "metadata": {},
   "source": [
    "# Supplementary figures"
   ]
  },
  {
   "cell_type": "code",
   "execution_count": 18,
   "metadata": {},
   "outputs": [
    {
     "name": "stdout",
     "output_type": "stream",
     "text": [
      "Cont\n"
     ]
    }
   ],
   "source": [
    "i = 5\n",
    "print(yeo_systems[i])\n",
    "control_set_yeo = get_yeo_control_set(list(parc_centroids.index), yeo_systems[i], add_small_control=True)\n",
    "control_signals_system_variable_decay = log_args['control_signals_system_variable_decay']"
   ]
  },
  {
   "cell_type": "code",
   "execution_count": 19,
   "metadata": {},
   "outputs": [
    {
     "name": "stdout",
     "output_type": "stream",
     "text": [
      "(52, 52)\n"
     ]
    },
    {
     "data": {
      "image/png": "[encoded data removed]",
      "text/plain": [
       "<Figure size 300x100 with 1 Axes>"
      ]
     },
     "metadata": {},
     "output_type": "display_data"
    }
   ],
   "source": [
    "corr_old_new = np_pearson_cor(control_signals_variable_decay.mean(axis=0)[:, np.diag(control_set_yeo == 1)], control_signals_system_variable_decay.mean(axis=0).mean(axis=0)[:, np.diag(control_set_yeo == 1), i])\n",
    "print(corr_old_new.shape)\n",
    "\n",
    "f, ax = plt.subplots(1, 1, figsize=(3, 1))\n",
    "plot_data = corr_old_new[np.triu_indices(corr_old_new.shape[0], k=1)]\n",
    "sns.kdeplot(plot_data, color=my_colors[0], bw_adjust=1, fill=True, alpha=1, linewidth=1, ax=ax)\n",
    "sns.despine(ax=ax)\n",
    "ax.axvline(x=plot_data.mean(), ymax=0.5, color='white', linewidth=2)\n",
    "ax.set_xlabel('Control signal coupling (Pearsons r)')\n",
    "f.savefig(os.path.join(outdir, 'fpn_control_signals_corr_with_uniform.svg'), dpi=600, bbox_inches=\"tight\", pad_inches=0.01)"
   ]
  }
 ],
 "metadata": {
  "kernelspec": {
   "display_name": "Python 3",
   "language": "python",
   "name": "python3"
  },
  "language_info": {
   "codemirror_mode": {
    "name": "ipython",
    "version": 3
   },
   "file_extension": ".py",
   "mimetype": "text/x-python",
   "name": "python",
   "nbconvert_exporter": "python",
   "pygments_lexer": "ipython3",
   "version": "3.10.13"
  }
 },
 "nbformat": 4,
 "nbformat_minor": 0
}
