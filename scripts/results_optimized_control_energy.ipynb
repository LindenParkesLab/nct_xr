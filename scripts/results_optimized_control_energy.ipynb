{
 "cells": [
  {
   "cell_type": "code",
   "execution_count": 1,
   "metadata": {
    "ExecuteTime": {
     "end_time": "2023-11-25T18:08:53.684862Z",
     "start_time": "2023-11-25T18:08:53.483907Z"
    },
    "collapsed": false
   },
   "outputs": [],
   "source": [
    "# import\n",
    "import os, sys\n",
    "import numpy as np\n",
    "import pandas as pd\n",
    "import scipy as sp\n",
    "from scipy import stats\n",
    "from scipy.spatial import distance\n",
    "from sklearn.cluster import KMeans\n",
    "from sklearn.decomposition import PCA\n",
    "from sklearn.linear_model import LinearRegression\n",
    "from tqdm import tqdm\n",
    "\n",
    "# import plotting libraries\n",
    "import matplotlib.pyplot as plt\n",
    "\n",
    "plt.rcParams.update({\"font.size\": 8})\n",
    "plt.rcParams[\"svg.fonttype\"] = \"none\"\n",
    "import seaborn as sns\n",
    "from nilearn import datasets\n",
    "from nilearn import plotting\n",
    "\n",
    "sys.path.extend([r'/home/lindenmp/research_projects/snaplab_tools'])\n",
    "sys.path.extend([r'/home/lindenmp/research_projects/nctpy/src'])\n",
    "\n",
    "# import nctpy functions\n",
    "from snaplab_tools.plotting.plotting import categorical_kde_plot, reg_plot, brain_scatter_plot, paired_line_plot\n",
    "from snaplab_tools.plotting.utils import get_my_colors, get_p_val_string\n",
    "from nctpy.utils import matrix_normalization\n",
    "from snaplab_tools.utils import get_schaefer_system_mask, get_null_p, get_fdr_p\n",
    "\n",
    "from brainsmash.mapgen.base import Base"
   ]
  },
  {
   "cell_type": "markdown",
   "metadata": {
    "collapsed": false
   },
   "source": [
    "## Load data"
   ]
  },
  {
   "cell_type": "code",
   "execution_count": 2,
   "metadata": {},
   "outputs": [],
   "source": [
    "# directory where data is stored\n",
    "indir = '/home/lindenmp/research_projects/nct_xr/data'\n",
    "outdir = '/home/lindenmp/research_projects/nct_xr/results'\n",
    "fmri_concat = np.load(os.path.join(outdir, 'fmri_clusters_fmri_concat.npy'))\n",
    "fmri_concat_subjidx = np.load(os.path.join(outdir, 'fmri_clusters_fmri_concat_subjidx.npy'))"
   ]
  },
  {
   "cell_type": "code",
   "execution_count": 3,
   "metadata": {},
   "outputs": [
    {
     "name": "stdout",
     "output_type": "stream",
     "text": [
      "                     R   A   S\n",
      "ROI Name                      \n",
      "7Networks_LH_Vis_1 -33 -42 -21\n",
      "7Networks_LH_Vis_2 -30 -33 -18\n",
      "7Networks_LH_Vis_3 -36 -62 -17\n",
      "7Networks_LH_Vis_4 -24 -55  -8\n",
      "7Networks_LH_Vis_5 -23 -73 -10\n"
     ]
    }
   ],
   "source": [
    "# extract cluster centers. These represent dominant patterns of recurrent activity over time\n",
    "parc_centroids = pd.read_csv(os.path.join(indir, 'schaefer400-7_centroids.csv'), index_col=0)\n",
    "print(parc_centroids.head())\n",
    "\n",
    "distance_matrix = distance.pdist(\n",
    "    parc_centroids, \"euclidean\"\n",
    ")  # get euclidean distances between nodes\n",
    "distance_matrix = distance.squareform(distance_matrix)  # reshape to square matrix"
   ]
  },
  {
   "cell_type": "code",
   "execution_count": 4,
   "metadata": {
    "collapsed": false
   },
   "outputs": [
    {
     "name": "stdout",
     "output_type": "stream",
     "text": [
      "hcp-Am_optimal-optimized-energy_k-7_c-1_T-1_rho-1_refstate-xf_initweights-one_nsteps-1000_lr-0.01_eigweight-1.0_regweight-0.0001_regtype-l2\n"
     ]
    },
    {
     "data": {
      "text/plain": [
       "dict_keys(['state_trajectory', 'control_signals', 'numerical_error', 'control_energy', 'loss', 'eigen_values', 'optimized_weights', 'state_trajectory_variable_decay', 'control_signals_variable_decay', 'numerical_error_variable_decay', 'control_energy_variable_decay', 'state_trajectory_static_decay', 'numerical_error_static_decay', 'control_energy_static_decay', 'control_signals_corr_partial', 'control_energy_partial', 'numerical_error_partial', 'xfcorr_partial', 'control_signals_corr_partial_variable_decay', 'control_energy_partial_variable_decay', 'numerical_error_partial_variable_decay', 'xfcorr_partial_variable_decay', 'control_signals_corr_system', 'control_energy_system', 'numerical_error_system', 'xfcorr_system', 'control_signals_corr_system_variable_decay', 'control_energy_system_variable_decay', 'numerical_error_system_variable_decay', 'xfcorr_system_variable_decay'])"
      ]
     },
     "execution_count": 4,
     "metadata": {},
     "output_type": "execute_result"
    }
   ],
   "source": [
    "file_prefix = 'hcp-Am_optimal-'\n",
    "\n",
    "n_states = 7\n",
    "c = 1\n",
    "time_horizon = 1\n",
    "rho = 1\n",
    "reference_state = 'xf'\n",
    "init_weights = 'one'\n",
    "n_steps = 1000\n",
    "lr = 0.01\n",
    "eig_weight = 1.0\n",
    "reg_weight = 0.0001\n",
    "reg_type = 'l2'\n",
    "\n",
    "file_str = '{0}optimized-energy_k-{1}_c-{2}_T-{3}_rho-{4}_refstate-{5}_initweights-{6}_nsteps-{7}_lr-{8}_eigweight-{9}_regweight-{10}_regtype-{11}'.format(file_prefix, \n",
    "                                                                                                                                                            n_states, \n",
    "                                                                                                                                                            c, time_horizon, rho,\n",
    "                                                                                                                                                            reference_state, init_weights,\n",
    "                                                                                                                                                            n_steps, lr, eig_weight, reg_weight, reg_type)\n",
    "print(file_str)\n",
    "log_args = np.load(os.path.join(outdir, file_str + '.npy'), allow_pickle=True).item()\n",
    "log_args.keys()"
   ]
  },
  {
   "cell_type": "code",
   "execution_count": 5,
   "metadata": {},
   "outputs": [
    {
     "name": "stdout",
     "output_type": "stream",
     "text": [
      "dict_keys(['centroids', 'labels', 'inertia', 'centroid_subj_frac', 'variance_explained'])\n",
      "n_states, 7; n_labels, 873600; n_nodes, 400\n"
     ]
    }
   ],
   "source": [
    "# load fMRI data\n",
    "fmri_ts = np.load(os.path.join(outdir, 'fmri_clusters_fmri_concat.npy'))\n",
    "fmri_ts_subjidx = np.load(os.path.join(outdir, 'fmri_clusters_fmri_concat_subjidx.npy'))\n",
    "\n",
    "# load rsfMRI clusters\n",
    "fmri_clusters_file = 'hcp_fmri_clusters_k-{0}.npy'.format(n_states)\n",
    "fmri_clusters = np.load(os.path.join(outdir, fmri_clusters_file), allow_pickle=True).item()\n",
    "print(fmri_clusters.keys())\n",
    "centroids = fmri_clusters['centroids']\n",
    "labels = fmri_clusters['labels']\n",
    "n_states = centroids.shape[0]\n",
    "n_nodes = centroids.shape[1]\n",
    "n_transitions = n_states * n_states\n",
    "\n",
    "n_labels = labels.shape[0]\n",
    "print('n_states, {0}; n_labels, {1}; n_nodes, {2}'.format(n_states, n_labels, n_nodes))"
   ]
  },
  {
   "cell_type": "markdown",
   "metadata": {},
   "source": [
    "# Control energy"
   ]
  },
  {
   "cell_type": "code",
   "execution_count": 6,
   "metadata": {},
   "outputs": [],
   "source": [
    "mask = np.zeros((n_states, n_states)).astype(bool)\n",
    "mask[np.eye(n_states) == 1] = True"
   ]
  },
  {
   "cell_type": "code",
   "execution_count": 7,
   "metadata": {},
   "outputs": [],
   "source": [
    "brain_state_corr = np.zeros((n_states, n_states))\n",
    "for state_i in np.arange(n_states):\n",
    "    for state_j in np.arange(n_states):\n",
    "        brain_state_corr[state_i, state_j] = sp.stats.pearsonr(centroids[state_i, :], centroids[state_j, :])[0]"
   ]
  },
  {
   "cell_type": "code",
   "execution_count": 8,
   "metadata": {},
   "outputs": [
    {
     "name": "stdout",
     "output_type": "stream",
     "text": [
      "-742.4827106028206\n",
      "TtestResult(statistic=-18.021104399158023, pvalue=4.305192475171507e-21, df=41)\n",
      "0.8571428571428571\n"
     ]
    },
    {
     "data": {
      "image/png": "[encoded data removed]",
      "text/plain": [
       "<Figure size 300x150 with 2 Axes>"
      ]
     },
     "metadata": {},
     "output_type": "display_data"
    },
    {
     "data": {
      "text/html": [
       "<div>\n",
       "<style scoped>\n",
       "    .dataframe tbody tr th:only-of-type {\n",
       "        vertical-align: middle;\n",
       "    }\n",
       "\n",
       "    .dataframe tbody tr th {\n",
       "        vertical-align: top;\n",
       "    }\n",
       "\n",
       "    .dataframe thead th {\n",
       "        text-align: right;\n",
       "    }\n",
       "</style>\n",
       "<table border=\"1\" class=\"dataframe\">\n",
       "  <thead>\n",
       "    <tr style=\"text-align: right;\">\n",
       "      <th></th>\n",
       "      <th>variable</th>\n",
       "      <th>Energy, E</th>\n",
       "    </tr>\n",
       "  </thead>\n",
       "  <tbody>\n",
       "    <tr>\n",
       "      <th>0</th>\n",
       "      <td>Homogenous inhibition</td>\n",
       "      <td>5397.720824</td>\n",
       "    </tr>\n",
       "    <tr>\n",
       "      <th>1</th>\n",
       "      <td>Homogenous inhibition</td>\n",
       "      <td>3744.327099</td>\n",
       "    </tr>\n",
       "    <tr>\n",
       "      <th>2</th>\n",
       "      <td>Homogenous inhibition</td>\n",
       "      <td>3699.540088</td>\n",
       "    </tr>\n",
       "    <tr>\n",
       "      <th>3</th>\n",
       "      <td>Homogenous inhibition</td>\n",
       "      <td>3653.082622</td>\n",
       "    </tr>\n",
       "    <tr>\n",
       "      <th>4</th>\n",
       "      <td>Homogenous inhibition</td>\n",
       "      <td>4069.701845</td>\n",
       "    </tr>\n",
       "  </tbody>\n",
       "</table>\n",
       "</div>"
      ],
      "text/plain": [
       "                variable    Energy, E\n",
       "0  Homogenous inhibition  5397.720824\n",
       "1  Homogenous inhibition  3744.327099\n",
       "2  Homogenous inhibition  3699.540088\n",
       "3  Homogenous inhibition  3653.082622\n",
       "4  Homogenous inhibition  4069.701845"
      ]
     },
     "execution_count": 8,
     "metadata": {},
     "output_type": "execute_result"
    }
   ],
   "source": [
    "my_colors = get_my_colors(cat_trio=True, as_list=True)\n",
    "df = pd.DataFrame(index=np.arange((n_states * n_states) - n_states))\n",
    "df['Homogenous inhibition'] = log_args['control_energy_static_decay'][~mask]\n",
    "# df['Homogenous inhibition'] = log_args['control_energy'][~mask]\n",
    "df['Heterogenous inhibition'] = log_args['control_energy_variable_decay'][~mask]\n",
    "print(np.sum(df['Heterogenous inhibition'].mean() - df['Homogenous inhibition'].mean()))\n",
    "print(sp.stats.ttest_rel(df['Heterogenous inhibition'], df['Homogenous inhibition']))\n",
    "print(np.sum(df['Heterogenous inhibition'] < df['Homogenous inhibition']) / n_transitions)\n",
    "df = df.melt()\n",
    "df.rename(columns={'value': 'Energy, E'}, inplace=True)\n",
    "f = categorical_kde_plot(df=df, variable='Energy, E', category='variable', horizontal=True, color_palette=my_colors, rug=False, fig_width=3, fig_height=1.5)\n",
    "f.savefig(os.path.join(outdir, 'energy_violin.svg'), dpi=600, bbox_inches=\"tight\", pad_inches=0.01)\n",
    "df.head()"
   ]
  },
  {
   "cell_type": "code",
   "execution_count": 9,
   "metadata": {},
   "outputs": [
    {
     "data": {
      "image/png": "[encoded data removed]",
      "text/plain": [
       "<Figure size 175x150 with 1 Axes>"
      ]
     },
     "metadata": {},
     "output_type": "display_data"
    }
   ],
   "source": [
    "f, ax = plt.subplots(1, 1, figsize=(1.75, 1.5))\n",
    "energy_matrix = log_args['control_energy_static_decay']\n",
    "# energy_matrix = log_args['control_energy']\n",
    "optimized_energy_matrix = log_args['control_energy_variable_decay']\n",
    "\n",
    "x = energy_matrix[~mask]\n",
    "y = optimized_energy_matrix[~mask]\n",
    "data = np.concatenate((x, y))\n",
    "x = (x - np.min(data)) / (np.max(data) - np.min(data))\n",
    "y = (y - np.min(data)) / (np.max(data) - np.min(data))\n",
    "\n",
    "ax.scatter(x=x, y=y, s=5, c=brain_state_corr[~mask], cmap='coolwarm')\n",
    "ax.set_xlabel('E, homogenous')\n",
    "ax.set_ylabel('E, heterogenous')\n",
    "ax.set_xlim([-0.05, 1.05])\n",
    "ax.set_ylim([-0.05, 1.05])\n",
    "plt.axline((0, 0), slope=1, linestyle=':', color='gray')\n",
    "sns.despine(ax=ax)\n",
    "r, r_p = sp.stats.pearsonr(x, y)\n",
    "textstr = '$\\mathit{:}$ = {:.2f},\\n{:}'.format('{r}', r, get_p_val_string(r_p))\n",
    "# textstr = '$\\mathit{:}$ = {:.2f}'.format('{r}', r)\n",
    "ax.text(0.05, 1, textstr, transform=ax.transAxes, verticalalignment='top')\n",
    "\n",
    "f.tight_layout()\n",
    "f.savefig(os.path.join(outdir, 'energy_correlation_identity.svg'), dpi=600, bbox_inches=\"tight\", pad_inches=0.01)\n",
    "plt.show()\n"
   ]
  },
  {
   "cell_type": "markdown",
   "metadata": {},
   "source": [
    "## Partial control set"
   ]
  },
  {
   "cell_type": "markdown",
   "metadata": {},
   "source": [
    "### Partial control set: random nodes"
   ]
  },
  {
   "cell_type": "code",
   "execution_count": 10,
   "metadata": {},
   "outputs": [
    {
     "name": "stdout",
     "output_type": "stream",
     "text": [
      "[  5  12  20  28  36  44  52  60  68  76  84  92 100 108 116 124 132 140\n",
      " 148 156 164 172 180 188 196 203 211 219 227 235 243 251 259 267 275 283\n",
      " 291 299 307 315 323 331 339 347 355 363 371 379 387 395]\n"
     ]
    }
   ],
   "source": [
    "control_signals_corr_partial = log_args['control_signals_corr_partial']\n",
    "control_energy_partial = log_args['control_energy_partial']\n",
    "error_partial = log_args['numerical_error_partial']\n",
    "xfcorr_partial = log_args['xfcorr_partial']\n",
    "\n",
    "control_signals_corr_partial_variable_decay = log_args['control_signals_corr_partial_variable_decay']\n",
    "control_energy_partial_variable_decay = log_args['control_energy_partial_variable_decay']\n",
    "error_partial_variable_decay = log_args['numerical_error_partial_variable_decay']\n",
    "xfcorr_partial_variable_decay = log_args['xfcorr_partial_variable_decay']\n",
    "\n",
    "n_control_nodes = np.linspace(5, n_nodes-5, control_energy_partial.shape[2]).astype(int)\n",
    "print(n_control_nodes)"
   ]
  },
  {
   "cell_type": "code",
   "execution_count": 11,
   "metadata": {},
   "outputs": [
    {
     "name": "stdout",
     "output_type": "stream",
     "text": [
      "140\n",
      "108\n"
     ]
    },
    {
     "data": {
      "image/png": "[encoded data removed]",
      "text/plain": [
       "<Figure size 350x450 with 3 Axes>"
      ]
     },
     "metadata": {},
     "output_type": "display_data"
    }
   ],
   "source": [
    "legend_txt = ['INTuniform', 'INToptimized']\n",
    "f, ax = plt.subplots(3, 1, figsize=(3.5, 4.5))\n",
    "# f, ax = plt.subplots(3, 1, figsize=(10, 8))\n",
    "paired_line_plot(n_control_nodes, control_energy_partial.mean(axis=0).mean(axis=0), control_energy_partial_variable_decay.mean(axis=0).mean(axis=0), legend_txt[0], legend_txt[1], ax[2])\n",
    "ax[2].set_ylabel('Energy')\n",
    "ax[2].set_yscale('log')\n",
    "\n",
    "paired_line_plot(n_control_nodes, error_partial.mean(axis=0).mean(axis=0), error_partial_variable_decay.mean(axis=0).mean(axis=0), legend_txt[0], legend_txt[1], ax[1])\n",
    "ax[1].set_ylabel('Reconstruction error')\n",
    "ax[1].set_yscale('log')\n",
    "thr = 1e-2\n",
    "ax[1].axhline(y=thr, linestyle=':', c='gray')\n",
    "\n",
    "paired_line_plot(n_control_nodes, xfcorr_partial.mean(axis=0).mean(axis=0), xfcorr_partial_variable_decay.mean(axis=0).mean(axis=0), legend_txt[0], legend_txt[1], ax[0])\n",
    "vline_idx = n_control_nodes[np.where(xfcorr_partial.mean(axis=0).mean(axis=0).mean(axis=-1) > .99)[0][0]]\n",
    "print(vline_idx)\n",
    "ax[0].axvline(x=vline_idx, linestyle=':', c='gray')\n",
    "vline_idx = n_control_nodes[np.where(xfcorr_partial_variable_decay.mean(axis=0).mean(axis=0).mean(axis=-1) > .99)[0][0]]\n",
    "print(vline_idx)\n",
    "ax[0].axvline(x=vline_idx, linestyle=':', c='gray')\n",
    "ax[0].set_ylabel(r'$Pearson (x(T), x_{T})$')\n",
    "ax[0].legend()\n",
    "\n",
    "# for this_ax in ax:\n",
    "    # this_ax.set_xlabel('number of random control nodes')\n",
    "ax[-1].set_xlabel('number of random control nodes')\n",
    "\n",
    "f.tight_layout()\n",
    "f.savefig(os.path.join(outdir, 'control_energy_partial.svg'), dpi=600, bbox_inches=\"tight\", pad_inches=0.01)\n"
   ]
  },
  {
   "cell_type": "markdown",
   "metadata": {},
   "source": [
    "### Partial control set: Yeo system"
   ]
  },
  {
   "cell_type": "code",
   "execution_count": 12,
   "metadata": {},
   "outputs": [],
   "source": [
    "yeo_systems = ['Vis', 'SomMot', 'DorsAttn', 'SalVentAttn', 'Limbic', 'Cont', 'Default']\n",
    "n_systems = len(yeo_systems)"
   ]
  },
  {
   "cell_type": "code",
   "execution_count": 13,
   "metadata": {},
   "outputs": [],
   "source": [
    "control_energy_system = log_args['control_energy_system']\n",
    "control_energy_system_variable_decay = log_args['control_energy_system_variable_decay']"
   ]
  },
  {
   "cell_type": "code",
   "execution_count": 14,
   "metadata": {},
   "outputs": [
    {
     "name": "stdout",
     "output_type": "stream",
     "text": [
      "Cont\n"
     ]
    },
    {
     "data": {
      "image/png": "[encoded data removed]",
      "text/plain": [
       "<Figure size 375x250 with 6 Axes>"
      ]
     },
     "metadata": {},
     "output_type": "display_data"
    }
   ],
   "source": [
    "i = 5\n",
    "print(yeo_systems[i])\n",
    "f, ax = plt.subplots(1, 3, figsize=(3.75, 2.5))\n",
    "if control_energy_system[:, :, i].max() > control_energy_system_variable_decay[:, :, i].max():\n",
    "    vmax = control_energy_system[:, :, i].max()\n",
    "else:\n",
    "    vmax = control_energy_system_variable_decay[:, :, i].max()\n",
    "\n",
    "sns.heatmap(control_energy_system[:, :, i], ax=ax[0], square=True, cmap='rocket', vmax=vmax, cbar_kws={'shrink': .2, 'label': 'Energy'})\n",
    "sns.heatmap(control_energy_system_variable_decay[:, :, i], ax=ax[1], square=True, cmap='rocket', vmax=vmax, cbar_kws={'shrink': .2, 'label': 'Energy'})\n",
    "sns.heatmap(control_energy_system_variable_decay[:, :, i] - control_energy_system[:, :, i], ax=ax[2], square=True, cmap='RdBu_r', center=0, cbar_kws={'shrink': .2, 'label': 'Energy delta'})\n",
    "\n",
    "ax[0].set_ylabel('Initial state', size=6)\n",
    "for this_ax in ax:\n",
    "    this_ax.set_xlabel('Target state', size=6)\n",
    "    # this_ax.set_ylabel('Initial state', size=6)\n",
    "    this_ax.set_xticks(np.arange(n_states)+1 - 0.5)\n",
    "    this_ax.set_yticks(np.arange(n_states)+1 - 0.5)\n",
    "    this_ax.set_xticklabels(np.arange(n_states)+1, size=6)\n",
    "    this_ax.set_yticklabels(np.arange(n_states)+1, size=6)\n",
    "    cbar = this_ax.collections[0].colorbar\n",
    "    cbar.ax.tick_params(labelsize=6)\n",
    "\n",
    "f.tight_layout()\n",
    "f.savefig(os.path.join(outdir, 'control_energy_system.svg'), dpi=600, bbox_inches=\"tight\", pad_inches=0.01)\n",
    "\n",
    "# print(sp.stats.ttest_rel(control_energy_system.reshape(n_transitions, n_systems), control_energy_system_variable_decay.reshape(n_transitions, n_systems)))\n"
   ]
  }
 ],
 "metadata": {
  "kernelspec": {
   "display_name": "Python 3",
   "language": "python",
   "name": "python3"
  },
  "language_info": {
   "codemirror_mode": {
    "name": "ipython",
    "version": 3
   },
   "file_extension": ".py",
   "mimetype": "text/x-python",
   "name": "python",
   "nbconvert_exporter": "python",
   "pygments_lexer": "ipython3",
   "version": "3.10.13"
  }
 },
 "nbformat": 4,
 "nbformat_minor": 0
}
