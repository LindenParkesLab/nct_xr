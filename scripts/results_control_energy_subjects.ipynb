{
 "cells": [
  {
   "cell_type": "code",
   "execution_count": 1,
   "metadata": {
    "ExecuteTime": {
     "end_time": "2023-11-25T18:08:53.684862Z",
     "start_time": "2023-11-25T18:08:53.483907Z"
    },
    "collapsed": false
   },
   "outputs": [],
   "source": [
    "# import\n",
    "import os, sys, glob\n",
    "import numpy as np\n",
    "import pandas as pd\n",
    "import scipy as sp\n",
    "from scipy import stats\n",
    "from scipy.spatial import distance\n",
    "from sklearn.cluster import KMeans\n",
    "from tqdm import tqdm\n",
    "\n",
    "# import plotting libraries\n",
    "import matplotlib.pyplot as plt\n",
    "\n",
    "plt.rcParams.update({\"font.size\": 8})\n",
    "plt.rcParams[\"svg.fonttype\"] = \"none\"\n",
    "import seaborn as sns\n",
    "from nilearn import datasets\n",
    "from nilearn import plotting\n",
    "\n",
    "sys.path.extend([r'/home/lindenmp/research_projects/snaplab_tools'])\n",
    "sys.path.extend([r'/home/lindenmp/research_projects/nctpy/src'])\n",
    "\n",
    "# import nctpy functions\n",
    "from snaplab_tools.plotting.plotting import categorical_kde_plot, reg_plot, brain_scatter_plot, null_plot\n",
    "from snaplab_tools.plotting.utils import get_my_colors, get_p_val_string\n",
    "from snaplab_tools.prediction.regression import Regression\n",
    "from snaplab_tools.utils import get_null_p"
   ]
  },
  {
   "cell_type": "markdown",
   "metadata": {
    "collapsed": false
   },
   "source": [
    "## Load data"
   ]
  },
  {
   "cell_type": "code",
   "execution_count": 2,
   "metadata": {},
   "outputs": [
    {
     "name": "stdout",
     "output_type": "stream",
     "text": [
      "960\n",
      "(400, 400, 960)\n",
      "(400, 960)\n"
     ]
    }
   ],
   "source": [
    "# directory where data is stored\n",
    "indir = '/home/lindenmp/research_projects/nct_xr/data'\n",
    "which_data = 'HCPYA'\n",
    "outdir = '/home/lindenmp/research_projects/nct_xr/results/{0}'.format(which_data)\n",
    "\n",
    "atlas = 'Schaefer4007'\n",
    "if atlas == 'Schaefer4007':\n",
    "    n_parcels = 400\n",
    "elif atlas == 'Schaefer2007':\n",
    "    n_parcels = 200\n",
    "elif atlas == 'Schaefer1007':\n",
    "    n_parcels = 100\n",
    "\n",
    "subjects_file = os.path.join(indir, 'HCPYA_{0}_subjids.txt'.format(atlas))\n",
    "subject_ids = np.loadtxt(subjects_file, dtype=int)\n",
    "n_subs = len(subject_ids)\n",
    "print(n_subs)\n",
    "\n",
    "A_file = os.path.join(indir, 'HCPYA_{0}_A.npy'.format(atlas))\n",
    "adjacency = np.load(A_file)\n",
    "print(adjacency.shape)\n",
    "\n",
    "myelin_file = os.path.join(indir, 'HCPYA_{0}_myelin.npy'.format(atlas))\n",
    "myelin = np.load(myelin_file)\n",
    "print(myelin.shape)\n",
    "\n",
    "n_nodes = adjacency.shape[0]"
   ]
  },
  {
   "cell_type": "code",
   "execution_count": 3,
   "metadata": {},
   "outputs": [],
   "source": [
    "# hcp_cog_measures = [\n",
    "#     'PMAT24_A_CR', # fluid intelligence\n",
    "#     'VSPLOT_TC', # spatial orientation\n",
    "#     'ListSort_Unadj', # working memory\n",
    "#     'DDisc_AUC_40K', # delay discounting\n",
    "#     'Flanker_Unadj', # executive function\n",
    "# ]\n",
    "hcp_cog_measures = [\n",
    "    'PMAT24_A_CR', # fluid intelligence\n",
    "    'VSPLOT_TC', # spatial orientation\n",
    "    'ListSort_Unadj', # working memory\n",
    "]\n",
    "\n",
    "# restricted data for age\n",
    "df_rest = pd.read_csv(glob.glob(os.path.join(indir, 'RESTRICTED_lindenmp*.csv'))[0])\n",
    "df_rest.set_index('Subject', inplace=True)\n",
    "df_rest = df_rest[['Age_in_Yrs', 'Family_ID']]\n",
    "\n",
    "# unrestricted data for sex and behavioral measures\n",
    "df_unrest = pd.read_csv(glob.glob(os.path.join(indir, 'unrestricted_lindenmp*.csv'))[0])\n",
    "df_unrest.set_index('Subject', inplace=True)\n",
    "df_sex = df_unrest['Gender']\n",
    "df_unrest = df_unrest[hcp_cog_measures]\n",
    "df = pd.merge(df_rest, df_sex, left_index=True, right_index=True)\n",
    "df = pd.merge(df, df_unrest, left_index=True, right_index=True)\n",
    "\n",
    "df = df.loc[subject_ids, :]\n",
    "# df"
   ]
  },
  {
   "cell_type": "code",
   "execution_count": 4,
   "metadata": {},
   "outputs": [
    {
     "data": {
      "text/plain": [
       "28.7"
      ]
     },
     "execution_count": 4,
     "metadata": {},
     "output_type": "execute_result"
    }
   ],
   "source": [
    "np.round(df['Age_in_Yrs'].mean(), 2)"
   ]
  },
  {
   "cell_type": "code",
   "execution_count": 5,
   "metadata": {},
   "outputs": [
    {
     "data": {
      "text/plain": [
       "3.72"
      ]
     },
     "execution_count": 5,
     "metadata": {},
     "output_type": "execute_result"
    }
   ],
   "source": [
    "np.round(df['Age_in_Yrs'].std(), 2)"
   ]
  },
  {
   "cell_type": "code",
   "execution_count": 6,
   "metadata": {},
   "outputs": [
    {
     "data": {
      "text/plain": [
       "22"
      ]
     },
     "execution_count": 6,
     "metadata": {},
     "output_type": "execute_result"
    }
   ],
   "source": [
    "df['Age_in_Yrs'].min()"
   ]
  },
  {
   "cell_type": "code",
   "execution_count": 7,
   "metadata": {},
   "outputs": [
    {
     "data": {
      "text/plain": [
       "37"
      ]
     },
     "execution_count": 7,
     "metadata": {},
     "output_type": "execute_result"
    }
   ],
   "source": [
    "df['Age_in_Yrs'].max()"
   ]
  },
  {
   "cell_type": "code",
   "execution_count": 8,
   "metadata": {},
   "outputs": [
    {
     "data": {
      "text/plain": [
       "53.0"
      ]
     },
     "execution_count": 8,
     "metadata": {},
     "output_type": "execute_result"
    }
   ],
   "source": [
    "np.round(np.sum(df['Gender'] == 'F') / n_subs * 100, 0)"
   ]
  },
  {
   "cell_type": "code",
   "execution_count": 9,
   "metadata": {},
   "outputs": [
    {
     "name": "stdout",
     "output_type": "stream",
     "text": [
      "                     R   A   S\n",
      "ROI Name                      \n",
      "7Networks_LH_Vis_1 -33 -42 -21\n",
      "7Networks_LH_Vis_2 -30 -33 -18\n",
      "7Networks_LH_Vis_3 -36 -62 -17\n",
      "7Networks_LH_Vis_4 -24 -55  -8\n",
      "7Networks_LH_Vis_5 -23 -73 -10\n"
     ]
    }
   ],
   "source": [
    "# extract cluster centers. These represent dominant patterns of recurrent activity over time\n",
    "parc_centroids = pd.read_csv(os.path.join(indir, 'Schaefer2018_{0}Parcels_7Networks_order_FSLMNI152_1mm.Centroid_RAS.csv'.format(n_parcels)), index_col=1)\n",
    "parc_centroids.drop(columns=['ROI Label'], inplace=True)\n",
    "print(parc_centroids.head())\n",
    "\n",
    "distance_matrix = distance.pdist(\n",
    "    parc_centroids, \"euclidean\"\n",
    ")  # get euclidean distances between nodes\n",
    "distance_matrix = distance.squareform(distance_matrix)  # reshape to square matrix"
   ]
  },
  {
   "cell_type": "code",
   "execution_count": 10,
   "metadata": {
    "collapsed": false
   },
   "outputs": [],
   "source": [
    "file_prefix = '{0}-{1}-Am_optimal-'.format(which_data, atlas)\n",
    "\n",
    "n_states = 7\n",
    "\n",
    "c = 1\n",
    "time_horizon = 1\n",
    "rho = 1\n",
    "reference_state = 'xf'\n",
    "init_weights = 'one'\n",
    "n_steps = 1000\n",
    "lr = 0.01\n",
    "eig_weight = 1.0\n",
    "reg_weight = 0.0001\n",
    "reg_type = 'l2'"
   ]
  },
  {
   "cell_type": "code",
   "execution_count": 11,
   "metadata": {},
   "outputs": [],
   "source": [
    "mask = np.zeros((n_states, n_states)).astype(bool)\n",
    "mask[np.eye(n_states) == 1] = True\n",
    "n_transitions = n_states * n_states"
   ]
  },
  {
   "cell_type": "code",
   "execution_count": 12,
   "metadata": {},
   "outputs": [
    {
     "name": "stderr",
     "output_type": "stream",
     "text": [
      "100%|██████████| 960/960 [00:00<00:00, 5784.22it/s]"
     ]
    },
    {
     "name": "stdout",
     "output_type": "stream",
     "text": [
      "(7, 7, 960) (7, 7, 960) (7, 7, 960) (7, 7, 400, 960)\n"
     ]
    },
    {
     "name": "stderr",
     "output_type": "stream",
     "text": [
      "\n"
     ]
    }
   ],
   "source": [
    "control_energy = np.zeros((n_states, n_states, n_subs))\n",
    "control_energy_variable_decay = np.zeros((n_states, n_states, n_subs))\n",
    "control_energy_static_decay = np.zeros((n_states, n_states, n_subs))\n",
    "\n",
    "adjacency_weights = np.zeros((n_states, n_states, n_nodes, n_subs))\n",
    "\n",
    "for i in tqdm(np.arange(n_subs)):\n",
    "    file_str = 'HCPYA-{0}-adj-{1}_optimal-optimized-energy_k-{2}_c-{3}_T-{4}_rho-{5}_refstate-{6}_initweights-{7}_nsteps-{8}_lr-{9}_eigweight-{10}_regweight-{11}_regtype-{12}'.format(atlas,  i, \n",
    "                                                                                                                                                                                       n_states, \n",
    "                                                                                                                                                                                       c, time_horizon, rho,\n",
    "                                                                                                                                                                                       reference_state, init_weights,\n",
    "                                                                                                                                                                                       n_steps, lr, eig_weight, reg_weight, reg_type)\n",
    "    log_args = np.load(os.path.join(outdir, 'subjects', file_str + '.npy'), allow_pickle=True).item()\n",
    "    \n",
    "    control_energy[:, :, i] = log_args['control_energy']\n",
    "    control_energy_variable_decay[:, :, i] = log_args['control_energy_variable_decay']\n",
    "    control_energy_static_decay[:, :, i] = log_args['control_energy_static_decay']\n",
    "    adjacency_weights[:, :, :, i] = -0 - log_args['optimized_weights']\n",
    "\n",
    "print(control_energy.shape, control_energy_variable_decay.shape, control_energy_static_decay.shape, adjacency_weights.shape)"
   ]
  },
  {
   "cell_type": "markdown",
   "metadata": {},
   "source": [
    "# Optimized decay rates"
   ]
  },
  {
   "cell_type": "code",
   "execution_count": 13,
   "metadata": {},
   "outputs": [
    {
     "name": "stderr",
     "output_type": "stream",
     "text": [
      "  0%|          | 0/3 [00:00<?, ?it/s]"
     ]
    },
    {
     "data": {
      "image/png": "[encoded data removed]",
      "text/plain": [
       "<Figure size 80x100 with 1 Axes>"
      ]
     },
     "metadata": {},
     "output_type": "display_data"
    },
    {
     "data": {
      "image/png": "[encoded data removed]",
      "text/plain": [
       "<Figure size 80x100 with 1 Axes>"
      ]
     },
     "metadata": {},
     "output_type": "display_data"
    },
    {
     "data": {
      "image/png": "[encoded data removed]",
      "text/plain": [
       "<Figure size 80x100 with 1 Axes>"
      ]
     },
     "metadata": {},
     "output_type": "display_data"
    },
    {
     "name": "stderr",
     "output_type": "stream",
     "text": [
      "100%|██████████| 3/3 [00:00<00:00, 44.13it/s]\n"
     ]
    }
   ],
   "source": [
    "for i in tqdm(np.arange(3)):\n",
    "    f = brain_scatter_plot(parcel_coords=parc_centroids, node_data=adjacency_weights[:, :, :, i].mean(axis=0).mean(axis=0), fig_height=1, add_colorbar=False)\n",
    "    # f.savefig(os.path.join(outdir, 'opt_weights-subj-{0}_brain_map.svg'.format(i)), dpi=600, bbox_inches=\"tight\", pad_inches=0.01)"
   ]
  },
  {
   "cell_type": "markdown",
   "metadata": {},
   "source": [
    "# Control energy"
   ]
  },
  {
   "cell_type": "code",
   "execution_count": 14,
   "metadata": {},
   "outputs": [
    {
     "name": "stdout",
     "output_type": "stream",
     "text": [
      "-745.4001520238198\n",
      "TtestResult(statistic=-12419.214467539972, pvalue=0.0, df=959)\n",
      "19.591836734693878\n"
     ]
    }
   ],
   "source": [
    "my_colors = get_my_colors(cat_trio=True, as_list=True)\n",
    "\n",
    "# df['INT_uniform'] = control_energy[~mask].mean(axis=0)\n",
    "df['INT_uniform'] = control_energy_static_decay[~mask].mean(axis=0)\n",
    "df['INT_optimized'] = control_energy_variable_decay[~mask].mean(axis=0)\n",
    "df['adjacency_weights'] = adjacency_weights.mean(axis=0).mean(axis=0).mean(axis=0)\n",
    "\n",
    "# df['INT_uniform'] = control_energy[1, 2]\n",
    "# df['INT_uniform'] = control_energy_static_decay[1, 2]\n",
    "# df['INT_optimized'] = control_energy_variable_decay[1, 2]\n",
    "print(np.sum(df['INT_optimized'].mean() - df['INT_uniform'].mean()))\n",
    "print(sp.stats.ttest_rel(df['INT_optimized'], df['INT_uniform']))\n",
    "print(np.sum(df['INT_optimized'] < df['INT_uniform']) / n_transitions)\n",
    "# df.head()"
   ]
  },
  {
   "cell_type": "code",
   "execution_count": 15,
   "metadata": {},
   "outputs": [
    {
     "data": {
      "application/vnd.microsoft.datawrangler.viewer.v0+json": {
       "columns": [
        {
         "name": "index",
         "rawType": "int64",
         "type": "integer"
        },
        {
         "name": "variable",
         "rawType": "object",
         "type": "string"
        },
        {
         "name": "Energy, E",
         "rawType": "float64",
         "type": "float"
        }
       ],
       "ref": "be28e895-c02d-467a-a3ee-84e900d74d87",
       "rows": [
        [
         "0",
         "INT_uniform",
         "4412.750545801236"
        ],
        [
         "1",
         "INT_uniform",
         "4404.3365662957085"
        ],
        [
         "2",
         "INT_uniform",
         "4405.899647672363"
        ],
        [
         "3",
         "INT_uniform",
         "4410.339519573164"
        ],
        [
         "4",
         "INT_uniform",
         "4394.232049225196"
        ]
       ],
       "shape": {
        "columns": 2,
        "rows": 5
       }
      },
      "text/html": [
       "<div>\n",
       "<style scoped>\n",
       "    .dataframe tbody tr th:only-of-type {\n",
       "        vertical-align: middle;\n",
       "    }\n",
       "\n",
       "    .dataframe tbody tr th {\n",
       "        vertical-align: top;\n",
       "    }\n",
       "\n",
       "    .dataframe thead th {\n",
       "        text-align: right;\n",
       "    }\n",
       "</style>\n",
       "<table border=\"1\" class=\"dataframe\">\n",
       "  <thead>\n",
       "    <tr style=\"text-align: right;\">\n",
       "      <th></th>\n",
       "      <th>variable</th>\n",
       "      <th>Energy, E</th>\n",
       "    </tr>\n",
       "  </thead>\n",
       "  <tbody>\n",
       "    <tr>\n",
       "      <th>0</th>\n",
       "      <td>INT_uniform</td>\n",
       "      <td>4412.750546</td>\n",
       "    </tr>\n",
       "    <tr>\n",
       "      <th>1</th>\n",
       "      <td>INT_uniform</td>\n",
       "      <td>4404.336566</td>\n",
       "    </tr>\n",
       "    <tr>\n",
       "      <th>2</th>\n",
       "      <td>INT_uniform</td>\n",
       "      <td>4405.899648</td>\n",
       "    </tr>\n",
       "    <tr>\n",
       "      <th>3</th>\n",
       "      <td>INT_uniform</td>\n",
       "      <td>4410.339520</td>\n",
       "    </tr>\n",
       "    <tr>\n",
       "      <th>4</th>\n",
       "      <td>INT_uniform</td>\n",
       "      <td>4394.232049</td>\n",
       "    </tr>\n",
       "  </tbody>\n",
       "</table>\n",
       "</div>"
      ],
      "text/plain": [
       "      variable    Energy, E\n",
       "0  INT_uniform  4412.750546\n",
       "1  INT_uniform  4404.336566\n",
       "2  INT_uniform  4405.899648\n",
       "3  INT_uniform  4410.339520\n",
       "4  INT_uniform  4394.232049"
      ]
     },
     "execution_count": 15,
     "metadata": {},
     "output_type": "execute_result"
    },
    {
     "data": {
      "image/png": "[encoded data removed]",
      "text/plain": [
       "<Figure size 300x150 with 2 Axes>"
      ]
     },
     "metadata": {},
     "output_type": "display_data"
    }
   ],
   "source": [
    "df_plot = df[['INT_uniform', 'INT_optimized']].melt()\n",
    "df_plot.rename(columns={'value': 'Energy, E'}, inplace=True)\n",
    "f = categorical_kde_plot(df=df_plot, variable='Energy, E', category='variable', horizontal=True, color_palette=my_colors, rug=False, fig_width=3, fig_height=1.5)\n",
    "# f.savefig(os.path.join(outdir, 'energy_violin.svg'), dpi=600, bbox_inches=\"tight\", pad_inches=0.01)\n",
    "df_plot.head()"
   ]
  },
  {
   "cell_type": "code",
   "execution_count": 16,
   "metadata": {},
   "outputs": [
    {
     "name": "stdout",
     "output_type": "stream",
     "text": [
      "['PMAT24_A_CR', 'VSPLOT_TC', 'ListSort_Unadj'] 3\n"
     ]
    },
    {
     "name": "stderr",
     "output_type": "stream",
     "text": [
      "/tmp/ipykernel_993491/363599521.py:33: UserWarning: Tight layout not applied. The bottom and top margins cannot be made large enough to accommodate all axes decorations.\n",
      "  f.tight_layout()\n"
     ]
    },
    {
     "data": {
      "image/png": "[encoded data removed]",
      "text/plain": [
       "<Figure size 90x100 with 2 Axes>"
      ]
     },
     "metadata": {},
     "output_type": "display_data"
    }
   ],
   "source": [
    "y_vars = hcp_cog_measures.copy()\n",
    "# df['cog_mean'] = df[y_vars].mean(axis=1)\n",
    "# y_vars.append('cog_mean')\n",
    "\n",
    "n_vars = len(y_vars)\n",
    "print(y_vars, n_vars)\n",
    "\n",
    "corr_matrix = np.zeros((n_vars, 2))\n",
    "for i in np.arange(n_vars):\n",
    "    try:\n",
    "        nan_mask = np.isnan(df[y_vars[i]])\n",
    "        # corr_matrix[i, 0] = sp.stats.spearmanr(df[y_vars[i]], df['INT_uniform'])[0]\n",
    "        # corr_matrix[i, 1] = sp.stats.spearmanr(df[y_vars[i]], df['INT_optimized'])[0]\n",
    "        corr_matrix[i, 0] = sp.stats.pearsonr(df[y_vars[i]][~nan_mask], df['INT_uniform'][~nan_mask])[0]\n",
    "        corr_matrix[i, 1] = sp.stats.pearsonr(df[y_vars[i]][~nan_mask], df['INT_optimized'][~nan_mask])[0]\n",
    "    except:\n",
    "        corr_matrix[i, 0] = np.nan\n",
    "        corr_matrix[i, 1] = np.nan\n",
    "\n",
    "corr_diff = np.abs(corr_matrix[:, 1]) - np.abs(corr_matrix[:, 0])\n",
    "sort_idx = np.argsort(corr_diff)[::-1]\n",
    "corr_diff = corr_diff[sort_idx]\n",
    "corr_diff = corr_diff[:, np.newaxis]\n",
    "\n",
    "f, ax = plt.subplots(1, 1, figsize=(n_vars*.3, 1))\n",
    "sns.heatmap(corr_diff.T, ax=ax, square=False, cmap='coolwarm', center=0, cbar_kws={'shrink': 0.5})\n",
    "# ax.set_xlabel('Transition')\n",
    "# ax.set_ylabel('Gene map')\n",
    "# ax.set_xticklabels(['INT_uniform', 'INT_optimized'], rotation=90)\n",
    "ax.set_xticks(np.arange(n_vars)+0.5)\n",
    "my_list = [y_vars[i] for i in sort_idx]\n",
    "ax.set_xticklabels(my_list, rotation=90)\n",
    "f.tight_layout()\n",
    "plt.show()"
   ]
  },
  {
   "cell_type": "code",
   "execution_count": 17,
   "metadata": {},
   "outputs": [
    {
     "data": {
      "application/vnd.microsoft.datawrangler.viewer.v0+json": {
       "columns": [
        {
         "name": "Subject",
         "rawType": "int64",
         "type": "integer"
        },
        {
         "name": "PMAT24_A_CR",
         "rawType": "float64",
         "type": "float"
        },
        {
         "name": "VSPLOT_TC",
         "rawType": "float64",
         "type": "float"
        },
        {
         "name": "ListSort_Unadj",
         "rawType": "float64",
         "type": "float"
        }
       ],
       "ref": "1bc65f33-cd89-4ba0-a216-e2975bf3e136",
       "rows": [
        [
         "100206",
         "20.0",
         "12.0",
         "112.89"
        ],
        [
         "100307",
         "17.0",
         "9.0",
         "108.06"
        ],
        [
         "100408",
         "7.0",
         "17.0",
         "108.06"
        ],
        [
         "100610",
         "23.0",
         "18.0",
         "117.39"
        ],
        [
         "101006",
         "11.0",
         "20.0",
         "93.9"
        ]
       ],
       "shape": {
        "columns": 3,
        "rows": 5
       }
      },
      "text/html": [
       "<div>\n",
       "<style scoped>\n",
       "    .dataframe tbody tr th:only-of-type {\n",
       "        vertical-align: middle;\n",
       "    }\n",
       "\n",
       "    .dataframe tbody tr th {\n",
       "        vertical-align: top;\n",
       "    }\n",
       "\n",
       "    .dataframe thead th {\n",
       "        text-align: right;\n",
       "    }\n",
       "</style>\n",
       "<table border=\"1\" class=\"dataframe\">\n",
       "  <thead>\n",
       "    <tr style=\"text-align: right;\">\n",
       "      <th></th>\n",
       "      <th>PMAT24_A_CR</th>\n",
       "      <th>VSPLOT_TC</th>\n",
       "      <th>ListSort_Unadj</th>\n",
       "    </tr>\n",
       "    <tr>\n",
       "      <th>Subject</th>\n",
       "      <th></th>\n",
       "      <th></th>\n",
       "      <th></th>\n",
       "    </tr>\n",
       "  </thead>\n",
       "  <tbody>\n",
       "    <tr>\n",
       "      <th>100206</th>\n",
       "      <td>20.0</td>\n",
       "      <td>12.0</td>\n",
       "      <td>112.89</td>\n",
       "    </tr>\n",
       "    <tr>\n",
       "      <th>100307</th>\n",
       "      <td>17.0</td>\n",
       "      <td>9.0</td>\n",
       "      <td>108.06</td>\n",
       "    </tr>\n",
       "    <tr>\n",
       "      <th>100408</th>\n",
       "      <td>7.0</td>\n",
       "      <td>17.0</td>\n",
       "      <td>108.06</td>\n",
       "    </tr>\n",
       "    <tr>\n",
       "      <th>100610</th>\n",
       "      <td>23.0</td>\n",
       "      <td>18.0</td>\n",
       "      <td>117.39</td>\n",
       "    </tr>\n",
       "    <tr>\n",
       "      <th>101006</th>\n",
       "      <td>11.0</td>\n",
       "      <td>20.0</td>\n",
       "      <td>93.90</td>\n",
       "    </tr>\n",
       "  </tbody>\n",
       "</table>\n",
       "</div>"
      ],
      "text/plain": [
       "         PMAT24_A_CR  VSPLOT_TC  ListSort_Unadj\n",
       "Subject                                        \n",
       "100206          20.0       12.0          112.89\n",
       "100307          17.0        9.0          108.06\n",
       "100408           7.0       17.0          108.06\n",
       "100610          23.0       18.0          117.39\n",
       "101006          11.0       20.0           93.90"
      ]
     },
     "execution_count": 17,
     "metadata": {},
     "output_type": "execute_result"
    }
   ],
   "source": [
    "y_vars[:] = [y_vars[i] for i in sort_idx]\n",
    "df[y_vars].head()"
   ]
  },
  {
   "cell_type": "code",
   "execution_count": 18,
   "metadata": {},
   "outputs": [
    {
     "name": "stdout",
     "output_type": "stream",
     "text": [
      "[[27 0]\n",
      " [27 0]\n",
      " [33 0]\n",
      " ...\n",
      " [29 0]\n",
      " [30 0]\n",
      " [28 0]]\n"
     ]
    }
   ],
   "source": [
    "# (self, X, y, c=None, alg='rr', score='rmse', n_splits=10, runpca=False, n_rand_splits=100)'\n",
    "alg = 'rr'\n",
    "score = 'r2'\n",
    "secondary_score = 'corr'\n",
    "# secondary_score = 'rmse'\n",
    "n_splits = 5\n",
    "runpca = False\n",
    "n_rand_splits = 100\n",
    "n_perm = 5000\n",
    "# n_perm = 5\n",
    "\n",
    "# covs = ['age', 'sex', 'A_d']\n",
    "covs = ['Age_in_Yrs', 'Gender']\n",
    "# covs = ['Gender', ]\n",
    "c = df[covs]\n",
    "c.loc[:, 'Gender'] = c['Gender'] == 'Male'\n",
    "c.loc[:, 'Gender'] = c['Gender'].values.astype(int)\n",
    "c = c.values\n",
    "print(c)"
   ]
  },
  {
   "cell_type": "code",
   "execution_count": 19,
   "metadata": {},
   "outputs": [
    {
     "data": {
      "text/plain": [
       "2"
      ]
     },
     "execution_count": 19,
     "metadata": {},
     "output_type": "execute_result"
    }
   ],
   "source": [
    "strength = np.sum(adjacency, axis=0).T\n",
    "include_strength = False\n",
    "include_weights = False\n",
    "include_joint = False\n",
    "\n",
    "X_features = [control_energy_static_decay[~mask].T, control_energy_variable_decay[~mask].T]\n",
    "\n",
    "list_counter = len(X_features)\n",
    "if include_strength is True:\n",
    "    X_features.append(strength)\n",
    "    strength_index = list_counter\n",
    "    list_counter += 1\n",
    "    print(strength_index)\n",
    "if include_weights is True:\n",
    "    X_features.append(adjacency_weights[~mask].mean(axis=1).T)\n",
    "    weights_index = list_counter\n",
    "    list_counter += 1\n",
    "    print(weights_index)\n",
    "if include_joint is True:\n",
    "    X_joint = np.concatenate((control_energy_variable_decay[~mask].T, adjacency_weights[~mask].mean(axis=1).T), axis=1)\n",
    "    X_features.append(X_joint)\n",
    "    joint_index = list_counter\n",
    "    list_counter += 1\n",
    "    print(joint_index)\n",
    "\n",
    "len(X_features)"
   ]
  },
  {
   "cell_type": "code",
   "execution_count": 20,
   "metadata": {},
   "outputs": [
    {
     "name": "stdout",
     "output_type": "stream",
     "text": [
      "(960, 42)\n",
      "PMAT24_A_CR\n",
      "Pipeline: regression (out-of-sample regression)\n",
      "\tsettings:\n",
      "\t\talg: rr\n",
      "\t\tscore: r2\n",
      "\t\tsecondary score: corr\n",
      "\t\tn_splits: 5\n",
      "\t\trunpca: False\n",
      "\t\tn_rand_splits: 100\n"
     ]
    },
    {
     "name": "stderr",
     "output_type": "stream",
     "text": [
      "100%|██████████| 100/100 [00:01<00:00, 78.63it/s]\n"
     ]
    },
    {
     "name": "stdout",
     "output_type": "stream",
     "text": [
      "Average prediction accuracy: 0.03+/-0.03 \n",
      "\tAverage prediction accuracy (secondary): 0.20+/-0.05 \n",
      "Pipeline: prediction, permutation test\n"
     ]
    },
    {
     "name": "stderr",
     "output_type": "stream",
     "text": [
      "100%|██████████| 5000/5000 [01:01<00:00, 81.88it/s]\n"
     ]
    },
    {
     "name": "stdout",
     "output_type": "stream",
     "text": [
      "VSPLOT_TC\n",
      "Pipeline: regression (out-of-sample regression)\n",
      "\tsettings:\n",
      "\t\talg: rr\n",
      "\t\tscore: r2\n",
      "\t\tsecondary score: corr\n",
      "\t\tn_splits: 5\n",
      "\t\trunpca: False\n",
      "\t\tn_rand_splits: 100\n"
     ]
    },
    {
     "name": "stderr",
     "output_type": "stream",
     "text": [
      "100%|██████████| 100/100 [00:01<00:00, 79.69it/s]\n"
     ]
    },
    {
     "name": "stdout",
     "output_type": "stream",
     "text": [
      "Average prediction accuracy: 0.04+/-0.03 \n",
      "\tAverage prediction accuracy (secondary): 0.22+/-0.06 \n",
      "Pipeline: prediction, permutation test\n"
     ]
    },
    {
     "name": "stderr",
     "output_type": "stream",
     "text": [
      "100%|██████████| 5000/5000 [01:02<00:00, 80.35it/s]\n"
     ]
    },
    {
     "name": "stdout",
     "output_type": "stream",
     "text": [
      "ListSort_Unadj\n",
      "Pipeline: regression (out-of-sample regression)\n",
      "\tsettings:\n",
      "\t\talg: rr\n",
      "\t\tscore: r2\n",
      "\t\tsecondary score: corr\n",
      "\t\tn_splits: 5\n",
      "\t\trunpca: False\n",
      "\t\tn_rand_splits: 100\n"
     ]
    },
    {
     "name": "stderr",
     "output_type": "stream",
     "text": [
      "100%|██████████| 100/100 [00:01<00:00, 78.06it/s]\n"
     ]
    },
    {
     "name": "stdout",
     "output_type": "stream",
     "text": [
      "Average prediction accuracy: 0.01+/-0.03 \n",
      "\tAverage prediction accuracy (secondary): 0.14+/-0.06 \n",
      "Pipeline: prediction, permutation test\n"
     ]
    },
    {
     "name": "stderr",
     "output_type": "stream",
     "text": [
      "100%|██████████| 5000/5000 [01:01<00:00, 80.88it/s]\n"
     ]
    },
    {
     "name": "stdout",
     "output_type": "stream",
     "text": [
      "(960, 42)\n",
      "PMAT24_A_CR\n",
      "Pipeline: regression (out-of-sample regression)\n",
      "\tsettings:\n",
      "\t\talg: rr\n",
      "\t\tscore: r2\n",
      "\t\tsecondary score: corr\n",
      "\t\tn_splits: 5\n",
      "\t\trunpca: False\n",
      "\t\tn_rand_splits: 100\n"
     ]
    },
    {
     "name": "stderr",
     "output_type": "stream",
     "text": [
      "100%|██████████| 100/100 [00:01<00:00, 78.80it/s]\n"
     ]
    },
    {
     "name": "stdout",
     "output_type": "stream",
     "text": [
      "Average prediction accuracy: 0.04+/-0.03 \n",
      "\tAverage prediction accuracy (secondary): 0.22+/-0.06 \n",
      "Pipeline: prediction, permutation test\n"
     ]
    },
    {
     "name": "stderr",
     "output_type": "stream",
     "text": [
      "100%|██████████| 5000/5000 [01:02<00:00, 79.69it/s]\n"
     ]
    },
    {
     "name": "stdout",
     "output_type": "stream",
     "text": [
      "VSPLOT_TC\n",
      "Pipeline: regression (out-of-sample regression)\n",
      "\tsettings:\n",
      "\t\talg: rr\n",
      "\t\tscore: r2\n",
      "\t\tsecondary score: corr\n",
      "\t\tn_splits: 5\n",
      "\t\trunpca: False\n",
      "\t\tn_rand_splits: 100\n"
     ]
    },
    {
     "name": "stderr",
     "output_type": "stream",
     "text": [
      "100%|██████████| 100/100 [00:01<00:00, 79.88it/s]\n"
     ]
    },
    {
     "name": "stdout",
     "output_type": "stream",
     "text": [
      "Average prediction accuracy: 0.05+/-0.03 \n",
      "\tAverage prediction accuracy (secondary): 0.24+/-0.06 \n",
      "Pipeline: prediction, permutation test\n"
     ]
    },
    {
     "name": "stderr",
     "output_type": "stream",
     "text": [
      "100%|██████████| 5000/5000 [01:02<00:00, 80.15it/s]\n"
     ]
    },
    {
     "name": "stdout",
     "output_type": "stream",
     "text": [
      "ListSort_Unadj\n",
      "Pipeline: regression (out-of-sample regression)\n",
      "\tsettings:\n",
      "\t\talg: rr\n",
      "\t\tscore: r2\n",
      "\t\tsecondary score: corr\n",
      "\t\tn_splits: 5\n",
      "\t\trunpca: False\n",
      "\t\tn_rand_splits: 100\n"
     ]
    },
    {
     "name": "stderr",
     "output_type": "stream",
     "text": [
      "100%|██████████| 100/100 [00:01<00:00, 77.77it/s]\n"
     ]
    },
    {
     "name": "stdout",
     "output_type": "stream",
     "text": [
      "Average prediction accuracy: 0.02+/-0.03 \n",
      "\tAverage prediction accuracy (secondary): 0.17+/-0.06 \n",
      "Pipeline: prediction, permutation test\n"
     ]
    },
    {
     "name": "stderr",
     "output_type": "stream",
     "text": [
      "100%|██████████| 5000/5000 [01:02<00:00, 80.46it/s]\n"
     ]
    }
   ],
   "source": [
    "n_X_features = len(X_features)\n",
    "# y_vars = ['cog_mean',]\n",
    "# n_y_vars = len(hcp_cog_measures)\n",
    "n_y_vars = len(y_vars)\n",
    "\n",
    "accuracy = np.zeros((n_X_features, n_y_vars, n_rand_splits))\n",
    "accuracy_perm = np.zeros((n_X_features, n_y_vars, n_perm))\n",
    "\n",
    "secondary_accuracy = np.zeros((n_X_features, n_y_vars, n_rand_splits))\n",
    "secondary_accuracy_perm = np.zeros((n_X_features, n_y_vars, n_perm))\n",
    "\n",
    "for i in np.arange(n_X_features):\n",
    "    X = X_features[i]\n",
    "    print(X.shape)\n",
    "    for j in np.arange(n_y_vars):\n",
    "        y_var = y_vars[j]\n",
    "        print(y_var)\n",
    "        y = df[y_var].values\n",
    "        nan_mask = np.isnan(y)\n",
    "        regression = Regression(X=X[~nan_mask], y=y[~nan_mask], c=c, alg=alg, score=score, secondary_score=secondary_score, n_splits=n_splits, runpca=runpca, n_rand_splits=n_rand_splits, verbose=True)\n",
    "        regression.run()\n",
    "        accuracy[i, j] = regression.accuracy_mean.copy()\n",
    "        secondary_accuracy[i, j] = regression.secondary_accuracy_mean.copy()\n",
    "        if n_perm > 0:\n",
    "            regression.run_perm(n_perm=n_perm)\n",
    "            accuracy_perm[i, j] = regression.accuracy_perm.copy()\n",
    "            secondary_accuracy_perm[i, j] = regression.secondary_accuracy_perm.copy()"
   ]
  },
  {
   "cell_type": "code",
   "execution_count": 21,
   "metadata": {},
   "outputs": [
    {
     "name": "stdout",
     "output_type": "stream",
     "text": [
      "0.09999999999999998\n",
      "0.020000000000000018\n",
      "0.0\n",
      "0.0\n",
      "0.040000000000000036\n",
      "0.0\n"
     ]
    },
    {
     "data": {
      "image/png": "[encoded data removed]",
      "text/plain": [
       "<Figure size 162.5x200 with 2 Axes>"
      ]
     },
     "metadata": {},
     "output_type": "display_data"
    },
    {
     "data": {
      "image/png": "[encoded data removed]",
      "text/plain": [
       "<Figure size 162.5x200 with 2 Axes>"
      ]
     },
     "metadata": {},
     "output_type": "display_data"
    },
    {
     "data": {
      "image/png": "[encoded data removed]",
      "text/plain": [
       "<Figure size 162.5x200 with 2 Axes>"
      ]
     },
     "metadata": {},
     "output_type": "display_data"
    },
    {
     "data": {
      "image/png": "[encoded data removed]",
      "text/plain": [
       "<Figure size 162.5x200 with 2 Axes>"
      ]
     },
     "metadata": {},
     "output_type": "display_data"
    },
    {
     "data": {
      "image/png": "[encoded data removed]",
      "text/plain": [
       "<Figure size 162.5x200 with 2 Axes>"
      ]
     },
     "metadata": {},
     "output_type": "display_data"
    },
    {
     "data": {
      "image/png": "[encoded data removed]",
      "text/plain": [
       "<Figure size 162.5x200 with 2 Axes>"
      ]
     },
     "metadata": {},
     "output_type": "display_data"
    }
   ],
   "source": [
    "my_colors = get_my_colors(cat_trio=False, as_list=True)\n",
    "\n",
    "for j in np.arange(n_y_vars):\n",
    "    # primary score\n",
    "    df_plot = pd.DataFrame(index=np.arange(n_rand_splits))\n",
    "    df_plot['$INT_{uniform}$'] = accuracy[0, j]\n",
    "    df_plot['$INT_{optimized}$'] = accuracy[1, j]\n",
    "    fig_height = 1.625\n",
    "    if include_strength:\n",
    "        df_plot['Strength'] = accuracy[strength_index, j]\n",
    "        fig_height = accuracy.shape[0]\n",
    "    if include_weights:\n",
    "        df_plot['Weights'] = accuracy[weights_index, j]\n",
    "        fig_height = accuracy.shape[0]\n",
    "    if include_joint:\n",
    "        df_plot['Energy + Weights'] = accuracy[joint_index, j]\n",
    "        fig_height = accuracy.shape[0]\n",
    "    print(1 - np.sum(df_plot['$INT_{optimized}$'] > df_plot['$INT_{uniform}$']) / n_rand_splits)\n",
    "    # print(1 - np.sum(df_plot['Energy + Weights'] > df_plot['$INT_{optimized}$']) / n_rand_splits)\n",
    "    # print(1 - np.sum(df_plot['Energy + Weights'] > df_plot['Weights']) / n_rand_splits)\n",
    "\n",
    "    df_plot = df_plot.melt()\n",
    "    value = '{0} ({1})'.format(score, y_vars[j])\n",
    "    df_plot.rename(columns={'value': value}, inplace=True)\n",
    "    successful_prediction = np.median(df_plot.iloc[:, 1]) > 0\n",
    "    if successful_prediction == True:\n",
    "        fig, axes = categorical_kde_plot(df=df_plot, variable=value, category='variable', horizontal=False, color_palette=my_colors, rug=False, fig_width=2, fig_height=fig_height)\n",
    "        fig.savefig(os.path.join(outdir, 'hcp_prediction_violin_r2_{0}.svg'.format(y_vars[j])), dpi=600, bbox_inches=\"tight\", pad_inches=0.01)\n",
    "\n",
    "        # secondary score\n",
    "        df_plot = pd.DataFrame(index=np.arange(n_rand_splits))\n",
    "        df_plot['$INT_{uniform}$'] = secondary_accuracy[0, j]\n",
    "        df_plot['$INT_{optimized}$'] = secondary_accuracy[1, j]\n",
    "        if include_strength:\n",
    "            df_plot['Strength'] = secondary_accuracy[strength_index, j]\n",
    "        if include_weights:\n",
    "            df_plot['Weights'] = secondary_accuracy[weights_index, j]\n",
    "        if include_joint:\n",
    "            df_plot['Energy + Weights'] = secondary_accuracy[joint_index, j]\n",
    "        print(1 - np.sum(df_plot['$INT_{optimized}$'] > df_plot['$INT_{uniform}$']) / n_rand_splits)\n",
    "\n",
    "        df_plot = df_plot.melt()\n",
    "        value = '{0} ({1})'.format(secondary_score, y_vars[j])\n",
    "        df_plot.rename(columns={'value': value}, inplace=True)\n",
    "        # f = categorical_kde_plot(df=df_plot, variable=value, category='variable', horizontal=True, color_palette=my_colors, rug=False, fig_width=2.5, fig_height=1.25)\n",
    "        fig, axes = categorical_kde_plot(df=df_plot, variable=value, category='variable', horizontal=False, color_palette=my_colors, rug=False, fig_width=2, fig_height=fig_height)\n",
    "        fig.savefig(os.path.join(outdir, 'hcp_prediction_violin_{0}.svg'.format(y_vars[j])), dpi=600, bbox_inches=\"tight\", pad_inches=0.01)"
   ]
  },
  {
   "cell_type": "code",
   "execution_count": 22,
   "metadata": {},
   "outputs": [
    {
     "name": "stdout",
     "output_type": "stream",
     "text": [
      "PMAT24_A_CR\n",
      "0.03 $\\mathit{p}$=0e+00\n"
     ]
    },
    {
     "data": {
      "image/png": "[encoded data removed]",
      "text/plain": [
       "<Figure size 45x25 with 1 Axes>"
      ]
     },
     "metadata": {},
     "output_type": "display_data"
    },
    {
     "name": "stdout",
     "output_type": "stream",
     "text": [
      "0.04 $\\mathit{p}$=0e+00\n"
     ]
    },
    {
     "data": {
      "image/png": "[encoded data removed]",
      "text/plain": [
       "<Figure size 45x25 with 1 Axes>"
      ]
     },
     "metadata": {},
     "output_type": "display_data"
    },
    {
     "name": "stdout",
     "output_type": "stream",
     "text": [
      "VSPLOT_TC\n",
      "0.04 $\\mathit{p}$=0e+00\n"
     ]
    },
    {
     "data": {
      "image/png": "[encoded data removed]",
      "text/plain": [
       "<Figure size 45x25 with 1 Axes>"
      ]
     },
     "metadata": {},
     "output_type": "display_data"
    },
    {
     "name": "stdout",
     "output_type": "stream",
     "text": [
      "0.05 $\\mathit{p}$=0e+00\n"
     ]
    },
    {
     "data": {
      "image/png": "[encoded data removed]",
      "text/plain": [
       "<Figure size 45x25 with 1 Axes>"
      ]
     },
     "metadata": {},
     "output_type": "display_data"
    },
    {
     "name": "stdout",
     "output_type": "stream",
     "text": [
      "ListSort_Unadj\n",
      "0.01 $\\mathit{p}$=8e-04\n"
     ]
    },
    {
     "data": {
      "image/png": "[encoded data removed]",
      "text/plain": [
       "<Figure size 45x25 with 1 Axes>"
      ]
     },
     "metadata": {},
     "output_type": "display_data"
    },
    {
     "name": "stdout",
     "output_type": "stream",
     "text": [
      "0.02 $\\mathit{p}$=0e+00\n"
     ]
    },
    {
     "data": {
      "image/png": "[encoded data removed]",
      "text/plain": [
       "<Figure size 45x25 with 1 Axes>"
      ]
     },
     "metadata": {},
     "output_type": "display_data"
    }
   ],
   "source": [
    "for j in np.arange(n_y_vars):\n",
    "    print(y_vars[j])\n",
    "    for i in np.arange(n_X_features):\n",
    "        observed = accuracy[i, j].mean()\n",
    "        null = accuracy_perm[i, j]\n",
    "        # observed = secondary_accuracy[i, j].mean()\n",
    "        # null = secondary_accuracy_perm[i, j]\n",
    "        p_val = get_null_p(observed, null)\n",
    "        print(np.round(observed, 2), get_p_val_string(p_val))\n",
    "        f, ax = plt.subplots(1, 1, figsize=(.45, .25))\n",
    "        null_plot(observed, null, '', ax=ax, p_val=p_val, add_text=False, use_kde=True)\n",
    "        # ax.set_xlim([-0.2, 0.25])\n",
    "        ax.tick_params(axis='x', which='both', bottom=False, labelbottom=False)\n",
    "        ax.tick_params(axis='y', which='both', left=False, labelleft=False)\n",
    "        ax.set_ylabel('')\n",
    "        sns.despine(left=True, ax=ax)\n",
    "        # if i == n_X_features-1:\n",
    "            # ax.set_xlabel('empirical null')\n",
    "        plt.show()\n",
    "        f.savefig(os.path.join(outdir, 'hcp_prediction_null_{0}_{1}.svg'.format(i, y_vars[j])), dpi=600, bbox_inches=\"tight\", pad_inches=0.01)"
   ]
  }
 ],
 "metadata": {
  "kernelspec": {
   "display_name": "nct_xr",
   "language": "python",
   "name": "python3"
  },
  "language_info": {
   "codemirror_mode": {
    "name": "ipython",
    "version": 3
   },
   "file_extension": ".py",
   "mimetype": "text/x-python",
   "name": "python",
   "nbconvert_exporter": "python",
   "pygments_lexer": "ipython3",
   "version": "3.10.13"
  }
 },
 "nbformat": 4,
 "nbformat_minor": 0
}
