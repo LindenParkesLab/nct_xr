{
 "cells": [
  {
   "cell_type": "code",
   "execution_count": 1,
   "metadata": {
    "ExecuteTime": {
     "end_time": "2023-11-25T18:08:53.684862Z",
     "start_time": "2023-11-25T18:08:53.483907Z"
    },
    "collapsed": false
   },
   "outputs": [],
   "source": [
    "# import\n",
    "import os, sys, glob\n",
    "import numpy as np\n",
    "import pandas as pd\n",
    "import scipy as sp\n",
    "from scipy.spatial import distance\n",
    "from tqdm import tqdm\n",
    "from sklearn.decomposition import PCA\n",
    "\n",
    "# import plotting libraries\n",
    "import matplotlib.pyplot as plt\n",
    "\n",
    "plt.rcParams.update({\"font.size\": 8})\n",
    "plt.rcParams[\"svg.fonttype\"] = \"none\"\n",
    "\n",
    "sys.path.extend([r'/home/lindenmp/research_projects/snaplab_tools'])\n",
    "sys.path.extend([r'/home/lindenmp/research_projects/nctpy/src'])\n",
    "\n",
    "# import nctpy functions\n",
    "from snaplab_tools.plotting.plotting import categorical_kde_plot, reg_plot\n",
    "from snaplab_tools.plotting.utils import get_my_colors\n",
    "from snaplab_tools.derivs import compute_acf"
   ]
  },
  {
   "cell_type": "markdown",
   "metadata": {
    "collapsed": false
   },
   "source": [
    "## Load data"
   ]
  },
  {
   "cell_type": "code",
   "execution_count": 2,
   "metadata": {},
   "outputs": [
    {
     "name": "stdout",
     "output_type": "stream",
     "text": [
      "960\n",
      "(400, 400, 960)\n"
     ]
    },
    {
     "name": "stderr",
     "output_type": "stream",
     "text": [
      "100%|██████████| 960/960 [00:29<00:00, 32.25it/s]"
     ]
    },
    {
     "name": "stdout",
     "output_type": "stream",
     "text": [
      "(400, 960) (400,)\n"
     ]
    },
    {
     "name": "stderr",
     "output_type": "stream",
     "text": [
      "\n"
     ]
    }
   ],
   "source": [
    "# directory where data is stored\n",
    "indir = '/home/lindenmp/research_projects/nct_xr/data'\n",
    "which_data = 'HCPYA'\n",
    "outdir = '/home/lindenmp/research_projects/nct_xr/results/{0}'.format(which_data)\n",
    "\n",
    "atlas = 'Schaefer4007'\n",
    "if atlas == 'Schaefer4007':\n",
    "    n_parcels = 400\n",
    "elif atlas == 'Schaefer2007':\n",
    "    n_parcels = 200\n",
    "elif atlas == 'Schaefer1007':\n",
    "    n_parcels = 100\n",
    "\n",
    "subjects_file = os.path.join(indir, 'HCPYA_{0}_subjids.txt'.format(atlas))\n",
    "subject_ids = np.loadtxt(subjects_file, dtype=int)\n",
    "n_subs = len(subject_ids)\n",
    "print(n_subs)\n",
    "\n",
    "A_file = os.path.join(indir, 'HCPYA_{0}_A.npy'.format(atlas))\n",
    "adjacency = np.load(A_file)\n",
    "n_nodes = adjacency.shape[0]\n",
    "print(adjacency.shape)\n",
    "\n",
    "rsts = np.load(os.path.join(indir, '{0}_{1}_rsts.npy'.format(which_data, atlas)))\n",
    "n_scans = rsts.shape[2]\n",
    "timescales = np.zeros((n_nodes, n_scans, n_subs))\n",
    "for i in tqdm(np.arange(n_subs)):\n",
    "    for j in np.arange(n_scans):\n",
    "        for k in np.arange(n_nodes):\n",
    "            try:\n",
    "                _, timescales[k, j, i] = compute_acf(rsts[:, k, j, i])\n",
    "            except:\n",
    "                timescales[k, j, i] = np.nan\n",
    "timescales = timescales[:, 0, :]\n",
    "timescales_mean = np.nanmean(timescales, axis=1)\n",
    "print(timescales.shape, timescales_mean.shape)"
   ]
  },
  {
   "cell_type": "code",
   "execution_count": 3,
   "metadata": {
    "collapsed": false
   },
   "outputs": [],
   "source": [
    "file_prefix = '{0}-{1}-Am_optimal-'.format(which_data, atlas)\n",
    "\n",
    "n_states = 7\n",
    "\n",
    "c = 1\n",
    "time_horizon = 1\n",
    "rho = 1\n",
    "reference_state = 'xf'\n",
    "init_weights = 'one'\n",
    "n_steps = 1000\n",
    "lr = 0.01\n",
    "eig_weight = 1.0\n",
    "reg_weight = 0.0001\n",
    "reg_type = 'l2'"
   ]
  },
  {
   "cell_type": "code",
   "execution_count": 4,
   "metadata": {},
   "outputs": [
    {
     "name": "stderr",
     "output_type": "stream",
     "text": [
      "100%|██████████| 960/960 [00:00<00:00, 4314.08it/s]"
     ]
    },
    {
     "name": "stdout",
     "output_type": "stream",
     "text": [
      "(7, 7, 400, 960)\n"
     ]
    },
    {
     "name": "stderr",
     "output_type": "stream",
     "text": [
      "\n"
     ]
    }
   ],
   "source": [
    "adjacency_weights = np.zeros((n_states, n_states, n_nodes, n_subs))\n",
    "\n",
    "for i in tqdm(np.arange(n_subs)):\n",
    "    file_str = 'HCPYA-{0}-adj-{1}_optimal-optimized-energy_k-{2}_c-{3}_T-{4}_rho-{5}_refstate-{6}_initweights-{7}_nsteps-{8}_lr-{9}_eigweight-{10}_regweight-{11}_regtype-{12}'.format(atlas,  i, \n",
    "                                                                                                                                                                                       n_states, \n",
    "                                                                                                                                                                                       c, time_horizon, rho,\n",
    "                                                                                                                                                                                       reference_state, init_weights,\n",
    "                                                                                                                                                                                       n_steps, lr, eig_weight, reg_weight, reg_type)\n",
    "    log_args = np.load(os.path.join(outdir, 'subjects', file_str + '.npy'), allow_pickle=True).item()\n",
    "    \n",
    "    adjacency_weights[:, :, :, i] = -0 - log_args['optimized_weights']\n",
    "\n",
    "print(adjacency_weights.shape)"
   ]
  },
  {
   "cell_type": "code",
   "execution_count": 5,
   "metadata": {},
   "outputs": [
    {
     "name": "stdout",
     "output_type": "stream",
     "text": [
      "dict_keys(['centroids', 'labels', 'inertia', 'centroid_subj_frac', 'variance_explained'])\n",
      "n_states, 7; n_nodes, 400\n"
     ]
    }
   ],
   "source": [
    "# load rsfMRI clusters\n",
    "k = n_states\n",
    "fmri_clusters_file = '{0}_{1}_rsts_fmri_clusters_k-{2}.npy'.format(which_data, atlas, k)\n",
    "fmri_clusters = np.load(os.path.join(outdir, fmri_clusters_file), allow_pickle=True).item()\n",
    "print(fmri_clusters.keys())\n",
    "\n",
    "centroids = fmri_clusters['centroids']\n",
    "cluster_labels = fmri_clusters['labels']\n",
    "n_states = centroids.shape[0]\n",
    "n_transitions = n_states * n_states\n",
    "\n",
    "print('n_states, {0}; n_nodes, {1}'.format(n_states, n_nodes))"
   ]
  },
  {
   "cell_type": "code",
   "execution_count": 6,
   "metadata": {},
   "outputs": [
    {
     "name": "stdout",
     "output_type": "stream",
     "text": [
      "(1152000,) (1152000,)\n"
     ]
    }
   ],
   "source": [
    "fmri_concat_subjidx_file = '{0}_{1}_rsts_fmri_clusters_fmri_concat_subjidx.npy'.format(which_data, atlas)\n",
    "fmri_concat_subjidx = np.load(os.path.join(outdir, fmri_concat_subjidx_file))[:, 0]\n",
    "print(cluster_labels.shape, fmri_concat_subjidx.shape)"
   ]
  },
  {
   "cell_type": "markdown",
   "metadata": {},
   "source": [
    "# Optimized decay rates"
   ]
  },
  {
   "cell_type": "code",
   "execution_count": 7,
   "metadata": {},
   "outputs": [
    {
     "name": "stderr",
     "output_type": "stream",
     "text": [
      "100%|██████████| 960/960 [00:12<00:00, 79.90it/s]\n"
     ]
    },
    {
     "data": {
      "text/plain": [
       "(7, 7, 960)"
      ]
     },
     "execution_count": 7,
     "metadata": {},
     "output_type": "execute_result"
    }
   ],
   "source": [
    "corr_weights_timescales = np.zeros((n_states, n_states, n_subs))\n",
    "for i in tqdm(np.arange(n_subs)):\n",
    "    for init_state in np.arange(n_states):\n",
    "        for targ_state in np.arange(n_states):\n",
    "            if init_state != targ_state:\n",
    "                corr_weights_timescales[init_state, targ_state, i] = sp.stats.pearsonr(adjacency_weights[init_state, targ_state, :, i], timescales[:, i])[0]\n",
    "                # corr_weights_timescales[init_state, targ_state, i] = sp.stats.spearmanr(adjacency_weights[init_state, targ_state, :, i], timescales[:, i])[0]\n",
    "            else:\n",
    "                corr_weights_timescales[init_state, targ_state, i] = np.nan\n",
    "            \n",
    "corr_weights_timescales.shape"
   ]
  },
  {
   "cell_type": "code",
   "execution_count": 8,
   "metadata": {},
   "outputs": [],
   "source": [
    "def compute_transition_probabilities(cluster_labels, n_states):\n",
    "    n_frames = len(cluster_labels)\n",
    "\n",
    "    transition_prob = np.zeros((n_states, n_states))\n",
    "    for init_state in np.arange(n_states):\n",
    "        init_state_loc = np.where(cluster_labels == init_state)[0]\n",
    "        \n",
    "        if n_frames - 1 in init_state_loc:\n",
    "            init_state_loc = np.delete(init_state_loc, np.where(init_state_loc == n_frames - 1)[0])\n",
    "        \n",
    "        next_frame = cluster_labels[init_state_loc + 1]\n",
    "        # next_frame = np.delete(next_frame, np.where(next_frame == init_state)[0])\n",
    "        for targ_state in np.arange(n_states):\n",
    "            transition_prob[init_state, targ_state] = np.sum(next_frame == targ_state) / len(next_frame)\n",
    "            # transition_prob[init_state, targ_state] = np.sum(next_frame == targ_state)\n",
    "    transition_prob[np.eye(n_states) == 1] = np.nan\n",
    "\n",
    "    return transition_prob"
   ]
  },
  {
   "cell_type": "code",
   "execution_count": 9,
   "metadata": {},
   "outputs": [
    {
     "name": "stderr",
     "output_type": "stream",
     "text": [
      "100%|██████████| 960/960 [00:00<00:00, 2800.26it/s]\n"
     ]
    }
   ],
   "source": [
    "transition_prob = np.zeros((n_states, n_states, n_subs))\n",
    "\n",
    "for i in tqdm(np.arange(n_subs)):\n",
    "    subjidx_mask = fmri_concat_subjidx == i\n",
    "    transition_prob[:, :, i] = compute_transition_probabilities(cluster_labels[subjidx_mask], n_states)"
   ]
  },
  {
   "cell_type": "code",
   "execution_count": 10,
   "metadata": {},
   "outputs": [
    {
     "data": {
      "image/png": "[encoded data removed]",
      "text/plain": [
       "<Figure size 250x250 with 1 Axes>"
      ]
     },
     "metadata": {},
     "output_type": "display_data"
    }
   ],
   "source": [
    "mask = np.eye(n_states) == 0\n",
    "f, ax = plt.subplots(1, 1, figsize=(2.5, 2.5))\n",
    "reg_plot(transition_prob[mask].mean(axis=0), corr_weights_timescales[mask].mean(axis=0), xlabel='p', ylabel='corr($INT_{optimized}$, $ACF_{lag}$)', ax=ax, annotate='both')\n",
    "f.savefig(os.path.join(outdir, \"corr_transition_prob_ints_coupling.svg\"), dpi=600, bbox_inches=\"tight\", pad_inches=0.01)"
   ]
  },
  {
   "cell_type": "code",
   "execution_count": 11,
   "metadata": {},
   "outputs": [
    {
     "name": "stderr",
     "output_type": "stream",
     "text": [
      "100%|██████████| 960/960 [00:00<00:00, 4595.36it/s]"
     ]
    },
    {
     "name": "stdout",
     "output_type": "stream",
     "text": [
      "TtestResult(statistic=9.918484584951516, pvalue=3.8567639500910586e-22, df=959)\n"
     ]
    },
    {
     "name": "stderr",
     "output_type": "stream",
     "text": [
      "\n"
     ]
    },
    {
     "data": {
      "image/png": "[encoded data removed]",
      "text/plain": [
       "<Figure size 270x150 with 2 Axes>"
      ]
     },
     "metadata": {},
     "output_type": "display_data"
    }
   ],
   "source": [
    "my_colors = get_my_colors(cat_trio=True, as_list=True)\n",
    "\n",
    "my_df = pd.DataFrame(index=subject_ids)\n",
    "\n",
    "for i in tqdm(np.arange(n_subs)):\n",
    "    my_thresh = np.quantile(transition_prob[mask][:, i], 0.5)\n",
    "    transition_prob_upper = transition_prob[mask][:, i] > my_thresh\n",
    "    transition_prob_lower = transition_prob[mask][:, i] < my_thresh\n",
    "\n",
    "    my_df.loc[subject_ids[i], 'upper'] = np.mean(corr_weights_timescales[mask][transition_prob_upper, i])\n",
    "    my_df.loc[subject_ids[i], 'lower'] = np.mean(corr_weights_timescales[mask][transition_prob_lower, i])\n",
    "    \n",
    "print(sp.stats.ttest_rel(my_df['upper'], my_df['lower']))\n",
    "\n",
    "my_df = my_df.melt()\n",
    "my_df.rename(columns={'value': 'corr($INT_{optimized}$, $ACF_{lag}$)'}, inplace=True)\n",
    "fig, axes = categorical_kde_plot(df=my_df, variable='corr($INT_{optimized}$, $ACF_{lag}$)',\n",
    "                                 category='variable', horizontal=True, rug=False, fig_width=2.7, fig_height=1.5)\n",
    "for ax in axes:\n",
    "    ax.set_xlim([-0.055, .2])\n",
    "plt.show()\n",
    "fig.savefig(os.path.join(outdir, \"corr_transition_prob_ints_coupling_split.svg\"), dpi=600, bbox_inches=\"tight\", pad_inches=0.01)"
   ]
  }
 ],
 "metadata": {
  "kernelspec": {
   "display_name": "nct_xr",
   "language": "python",
   "name": "python3"
  },
  "language_info": {
   "codemirror_mode": {
    "name": "ipython",
    "version": 3
   },
   "file_extension": ".py",
   "mimetype": "text/x-python",
   "name": "python",
   "nbconvert_exporter": "python",
   "pygments_lexer": "ipython3",
   "version": "3.10.13"
  }
 },
 "nbformat": 4,
 "nbformat_minor": 0
}
