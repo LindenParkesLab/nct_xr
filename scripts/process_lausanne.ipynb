{
 "cells": [
  {
   "cell_type": "code",
   "execution_count": 1,
   "metadata": {},
   "outputs": [],
   "source": [
    "# import\n",
    "import os, sys\n",
    "import numpy as np\n",
    "import pandas as pd\n",
    "import scipy as sp\n",
    "from scipy import stats\n",
    "from scipy.spatial import distance\n",
    "from sklearn.cluster import KMeans\n",
    "from tqdm import tqdm\n",
    "\n",
    "# import plotting libraries\n",
    "import matplotlib.pyplot as plt\n",
    "\n",
    "plt.rcParams.update({\"font.size\": 8})\n",
    "plt.rcParams[\"svg.fonttype\"] = \"none\"\n",
    "import seaborn as sns\n",
    "from nilearn import datasets\n",
    "from nilearn import plotting\n",
    "\n",
    "sys.path.extend([r'/home/lindenmp/research_projects/snaplab_tools'])\n",
    "sys.path.extend([r'/home/lindenmp/research_projects/nctpy/src'])\n",
    "\n",
    "# import nctpy functions\n",
    "from snaplab_tools.plotting.plotting import categorical_kde_plot, reg_plot, brain_scatter_plot, null_plot\n",
    "from snaplab_tools.plotting.utils import get_my_colors, get_p_val_string\n",
    "from snaplab_tools.prediction.regression import Regression\n",
    "from snaplab_tools.utils import get_null_p"
   ]
  },
  {
   "cell_type": "markdown",
   "metadata": {},
   "source": [
    "## Load data"
   ]
  },
  {
   "cell_type": "code",
   "execution_count": 2,
   "metadata": {},
   "outputs": [
    {
     "name": "stdout",
     "output_type": "stream",
     "text": [
      "dict_keys(['__header__', '__version__', '__globals__', 'sc'])\n",
      "(1000, 1000)\n",
      "dict_keys(['__header__', '__version__', '__globals__', 'cent'])\n",
      "(11, 1000)\n"
     ]
    }
   ],
   "source": [
    "# directory where data is stored\n",
    "indir = '/home/lindenmp/research_projects/nct_xr/data/lausanne'\n",
    "outdir = '/home/lindenmp/research_projects/nct_xr/data'\n",
    "\n",
    "A_file = os.path.join(indir, 'structural_connectivity.mat')\n",
    "mat_data = sp.io.loadmat(A_file)\n",
    "print(mat_data.keys())\n",
    "\n",
    "adjacency = mat_data['sc']\n",
    "print(adjacency.shape)\n",
    "\n",
    "state_file = os.path.join(indir, 'brain_states.mat')\n",
    "mat_data = sp.io.loadmat(state_file)\n",
    "print(mat_data.keys())\n",
    "\n",
    "centroids = mat_data['cent'].T\n",
    "print(centroids.shape)"
   ]
  },
  {
   "cell_type": "markdown",
   "metadata": {},
   "source": [
    "## Save data"
   ]
  },
  {
   "cell_type": "code",
   "execution_count": 3,
   "metadata": {},
   "outputs": [],
   "source": [
    "file_str = 'lausanne_connectome'\n",
    "np.save(os.path.join(outdir, file_str), adjacency)\n",
    "\n",
    "my_dict = dict()\n",
    "my_dict['centroids'] = centroids\n",
    "file_str = 'lausanne_brain_states'\n",
    "np.save(os.path.join(outdir, file_str), my_dict)"
   ]
  }
 ],
 "metadata": {
  "kernelspec": {
   "display_name": "nct_xr",
   "language": "python",
   "name": "python3"
  },
  "language_info": {
   "codemirror_mode": {
    "name": "ipython",
    "version": 3
   },
   "file_extension": ".py",
   "mimetype": "text/x-python",
   "name": "python",
   "nbconvert_exporter": "python",
   "pygments_lexer": "ipython3",
   "version": "3.10.13"
  }
 },
 "nbformat": 4,
 "nbformat_minor": 2
}
