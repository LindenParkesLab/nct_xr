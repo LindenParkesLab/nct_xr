{
 "cells": [
  {
   "cell_type": "code",
   "execution_count": 1,
   "metadata": {
    "ExecuteTime": {
     "end_time": "2023-07-25T15:48:29.391968Z",
     "start_time": "2023-07-25T15:48:29.050955Z"
    },
    "collapsed": true
   },
   "outputs": [],
   "source": [
    "# import\n",
    "import os, sys\n",
    "import numpy as np\n",
    "import pandas as pd\n",
    "import scipy as sp\n",
    "\n",
    "# import plotting libraries\n",
    "import matplotlib.pyplot as plt\n",
    "\n",
    "plt.rcParams.update({\"font.size\": 8})\n",
    "plt.rcParams[\"svg.fonttype\"] = \"none\"\n",
    "import seaborn as sns\n",
    "\n",
    "sys.path.extend([r'/home/lindenmp/research_projects/snaplab_tools'])\n",
    "sys.path.extend([r'/home/lindenmp/research_projects/nctpy/src'])\n",
    "\n",
    "# import nctpy functions\n",
    "from snaplab_tools.plotting.plotting import reg_plot\n",
    "from nctpy.plotting import add_module_lines\n",
    "from nctpy.utils import convert_states_str2int"
   ]
  },
  {
   "cell_type": "markdown",
   "metadata": {},
   "source": [
    "## Load data"
   ]
  },
  {
   "cell_type": "code",
   "execution_count": 2,
   "metadata": {},
   "outputs": [],
   "source": [
    "# directory where data is stored\n",
    "indir = '/home/lindenmp/research_projects/nct_xr/data/mouse'\n",
    "outdir = '/home/lindenmp/research_projects/nct_xr/data'"
   ]
  },
  {
   "cell_type": "code",
   "execution_count": 3,
   "metadata": {},
   "outputs": [
    {
     "name": "stdout",
     "output_type": "stream",
     "text": [
      "(461, 461)\n",
      "False\n"
     ]
    }
   ],
   "source": [
    "A_file = os.path.join(indir, 'normalized_connection_strength_ipsi.csv')\n",
    "A = np.loadtxt(os.path.join(indir, A_file), dtype=float, delimiter=\",\", encoding=\"utf-8-sig\")\n",
    "A = A.T  # set rows=tagets and columns=sources. That is, Aij = edge from node j to node i\n",
    "print(A.shape)\n",
    "print(np.all(np.round(A, 4) == np.round(A.T, 4)))"
   ]
  },
  {
   "cell_type": "code",
   "execution_count": 4,
   "metadata": {},
   "outputs": [
    {
     "name": "stdout",
     "output_type": "stream",
     "text": [
      "(43, 43)\n",
      "1.0\n",
      "     Region  Class  Isocortex Isocortex_modules  sort_idx\n",
      "0      AUDv      0          1          Auditory        16\n",
      "1     AUDpo      0          1          Auditory        15\n",
      "2      AUDp      0          1          Auditory        14\n",
      "3      AUDd      0          1          Auditory        13\n",
      "4       ECT     12          1           Lateral        42\n",
      "5      PERI     12          1           Lateral        41\n",
      "6        GU     12          1           Lateral        11\n",
      "7       AId      0          1           Lateral        32\n",
      "8      VISC     12          1           Lateral        12\n",
      "9       AIv      0          1           Lateral        34\n",
      "10      TEa     12          1           Lateral        40\n",
      "11      AIp      0          1           Lateral        33\n",
      "12   RSPagl      0          1            Medial        35\n",
      "13     RSPd      0          1            Medial        36\n",
      "14     RSPv      0          1            Medial        37\n",
      "15     VISa      0          1            Medial        38\n",
      "16    VISam      0          1            Medial        18\n",
      "17    VISpm      0          1            Medial        22\n",
      "18    ORBvl      0          1               PFC        31\n",
      "19     ORBm      0          1               PFC        30\n",
      "20     ACAv      0          1               PFC        26\n",
      "21     ORBl      0          1               PFC        29\n",
      "22      ILA     12          1               PFC        28\n",
      "23       PL     12          1               PFC        27\n",
      "24     ACAd      0          1               PFC        25\n",
      "25      FRP     12          1               PFC         0\n",
      "26    SSp-m      0          1       Somatomotor         6\n",
      "27      MOp      0          1       Somatomotor         1\n",
      "28      MOs      0          1       Somatomotor         2\n",
      "29      SSs      0          1       Somatomotor        10\n",
      "30   SSp-un      0          1       Somatomotor         9\n",
      "31   SSp-tr      0          1       Somatomotor         8\n",
      "32   SSp-ul      0          1       Somatomotor         7\n",
      "33    SSp-n      0          1       Somatomotor         3\n",
      "34   SSp-ll      0          1       Somatomotor         5\n",
      "35  SSp-bfd      0          1       Somatomotor         4\n",
      "36    VISrl      0          1            Visual        39\n",
      "37    VISli      0          1            Visual        23\n",
      "38    VISal      0          1            Visual        17\n",
      "39     VISl      0          1            Visual        19\n",
      "40     VISp      0          1            Visual        20\n",
      "41   VISpor      0          1            Visual        24\n",
      "42    VISpl      0          1            Visual        21\n"
     ]
    }
   ],
   "source": [
    "# load region class\n",
    "region_class = pd.read_csv(os.path.join(indir, \"region_class.csv\"))\n",
    "\n",
    "# retain isocortex\n",
    "idx = region_class[\"Isocortex\"] == 1\n",
    "# subset A\n",
    "A = A[region_class[idx].index, :][:, region_class[idx].index]\n",
    "n_nodes = A.shape[0]\n",
    "print(A.shape)\n",
    "\n",
    "# get density including self connections\n",
    "density = np.count_nonzero(A) / A.shape[0] ** 2\n",
    "print(density)\n",
    "\n",
    "# subset region_class\n",
    "region_class = region_class[idx]\n",
    "\n",
    "# sort on Isocortex_modules\n",
    "region_class.reset_index(inplace=True, drop=True)\n",
    "region_class[\"sort_idx\"] = region_class.index\n",
    "region_class.sort_values(\"Isocortex_modules\", inplace=True)\n",
    "region_class.reset_index(inplace=True, drop=True)\n",
    "# sort A to match\n",
    "A = A[region_class.sort_idx, :][:, region_class.sort_idx]\n",
    "\n",
    "print(region_class)"
   ]
  },
  {
   "cell_type": "markdown",
   "metadata": {
    "collapsed": false,
    "pycharm": {
     "name": "#%% md\n"
    }
   },
   "source": [
    "### Plot adjacency"
   ]
  },
  {
   "cell_type": "code",
   "execution_count": 5,
   "metadata": {},
   "outputs": [],
   "source": [
    "A[np.eye(A.shape[0]) == 1] = 0"
   ]
  },
  {
   "cell_type": "code",
   "execution_count": 6,
   "metadata": {
    "ExecuteTime": {
     "end_time": "2023-07-25T15:48:30.139868Z",
     "start_time": "2023-07-25T15:48:29.416114Z"
    },
    "collapsed": false,
    "pycharm": {
     "name": "#%%\n"
    }
   },
   "outputs": [
    {
     "name": "stdout",
     "output_type": "stream",
     "text": [
      "['Auditory' 'Lateral' 'Medial' 'PFC' 'Somatomotor' 'Visual']\n"
     ]
    },
    {
     "name": "stderr",
     "output_type": "stream",
     "text": [
      "/tmp/ipykernel_3081404/1940861912.py:2: RuntimeWarning: divide by zero encountered in log\n",
      "  A_log = np.log(A)\n"
     ]
    },
    {
     "data": {
      "image/png": "[encoded data removed]",
      "text/plain": [
       "<Figure size 600x600 with 2 Axes>"
      ]
     },
     "metadata": {},
     "output_type": "display_data"
    }
   ],
   "source": [
    "# plot A matrix\n",
    "A_log = np.log(A)\n",
    "A_log[np.eye(A_log.shape[0]) == 1] = 0\n",
    "f, ax = plt.subplots(figsize=(6, 6))\n",
    "sns.heatmap(\n",
    "    A_log,\n",
    "    ax=ax,\n",
    "    square=True,\n",
    "    cmap=\"inferno\",\n",
    "    xticklabels=region_class.Region,\n",
    "    yticklabels=region_class.Region,\n",
    "    cbar_kws={\"label\": \"log10(connection strength)\", \"shrink\": 0.8},\n",
    ")\n",
    "ax.set_xticklabels(ax.get_xmajorticklabels(), fontsize=7)\n",
    "ax.set_yticklabels(ax.get_ymajorticklabels(), fontsize=7)\n",
    "add_module_lines(region_class[\"Isocortex_modules\"], ax)\n",
    "f.savefig(\n",
    "    os.path.join(outdir, \"mouse_connectome.png\"),\n",
    "    dpi=600,\n",
    "    bbox_inches=\"tight\",\n",
    "    pad_inches=0.01,\n",
    ")\n",
    "plt.show()"
   ]
  },
  {
   "cell_type": "code",
   "execution_count": 7,
   "metadata": {},
   "outputs": [
    {
     "data": {
      "application/vnd.microsoft.datawrangler.viewer.v0+json": {
       "columns": [
        {
         "name": "index",
         "rawType": "int64",
         "type": "integer"
        },
        {
         "name": "id",
         "rawType": "int64",
         "type": "integer"
        },
        {
         "name": "acronym",
         "rawType": "object",
         "type": "string"
        },
        {
         "name": "name",
         "rawType": "object",
         "type": "string"
        },
        {
         "name": "T1",
         "rawType": "float64",
         "type": "float"
        },
        {
         "name": "T2",
         "rawType": "float64",
         "type": "float"
        },
        {
         "name": "T1T2",
         "rawType": "float64",
         "type": "float"
        },
        {
         "name": "OLDT1T2",
         "rawType": "float64",
         "type": "float"
        },
        {
         "name": "cellCount",
         "rawType": "int64",
         "type": "integer"
        },
        {
         "name": "voxelCountCCF",
         "rawType": "int64",
         "type": "integer"
        }
       ],
       "conversionMethod": "pd.DataFrame",
       "ref": "9931aeb6-f9f6-4a3a-b473-42f175f0dabc",
       "rows": [
        [
         "0",
         "22",
         "PTLp",
         "Posterior parietal association areas",
         "10621.64674",
         "9681.412298",
         "1.097117488",
         "1.097117488",
         "504703",
         "89466"
        ],
        [
         "1",
         "39",
         "ACAd",
         "Anterior cingulate area, dorsal part",
         "10066.69546",
         "11177.44928",
         "0.900625465",
         "0.900625465",
         "349622",
         "397621"
        ],
        [
         "2",
         "44",
         "ILA",
         "Infralimbic area",
         "8505.800127",
         "13510.92",
         "0.629550033",
         "0.629550033",
         "205617",
         "50601"
        ],
        [
         "3",
         "48",
         "ACAv",
         "Anterior cingulate area, ventral part",
         "9137.063759",
         "13148.29073",
         "0.694924074",
         "0.694924074",
         "337285",
         "155849"
        ],
        [
         "4",
         "104",
         "AId",
         "Agranular insular area, dorsal part",
         "9394.407071",
         "10897.90091",
         "0.862038217",
         "0.862038217",
         "218853",
         "50745"
        ]
       ],
       "shape": {
        "columns": 9,
        "rows": 5
       }
      },
      "text/html": [
       "<div>\n",
       "<style scoped>\n",
       "    .dataframe tbody tr th:only-of-type {\n",
       "        vertical-align: middle;\n",
       "    }\n",
       "\n",
       "    .dataframe tbody tr th {\n",
       "        vertical-align: top;\n",
       "    }\n",
       "\n",
       "    .dataframe thead th {\n",
       "        text-align: right;\n",
       "    }\n",
       "</style>\n",
       "<table border=\"1\" class=\"dataframe\">\n",
       "  <thead>\n",
       "    <tr style=\"text-align: right;\">\n",
       "      <th></th>\n",
       "      <th>id</th>\n",
       "      <th>acronym</th>\n",
       "      <th>name</th>\n",
       "      <th>T1</th>\n",
       "      <th>T2</th>\n",
       "      <th>T1T2</th>\n",
       "      <th>OLDT1T2</th>\n",
       "      <th>cellCount</th>\n",
       "      <th>voxelCountCCF</th>\n",
       "    </tr>\n",
       "    <tr>\n",
       "      <th>index</th>\n",
       "      <th></th>\n",
       "      <th></th>\n",
       "      <th></th>\n",
       "      <th></th>\n",
       "      <th></th>\n",
       "      <th></th>\n",
       "      <th></th>\n",
       "      <th></th>\n",
       "      <th></th>\n",
       "    </tr>\n",
       "  </thead>\n",
       "  <tbody>\n",
       "    <tr>\n",
       "      <th>0</th>\n",
       "      <td>22</td>\n",
       "      <td>PTLp</td>\n",
       "      <td>Posterior parietal association areas</td>\n",
       "      <td>10621.646740</td>\n",
       "      <td>9681.412298</td>\n",
       "      <td>1.097117</td>\n",
       "      <td>1.097117</td>\n",
       "      <td>504703</td>\n",
       "      <td>89466</td>\n",
       "    </tr>\n",
       "    <tr>\n",
       "      <th>1</th>\n",
       "      <td>39</td>\n",
       "      <td>ACAd</td>\n",
       "      <td>Anterior cingulate area, dorsal part</td>\n",
       "      <td>10066.695460</td>\n",
       "      <td>11177.449280</td>\n",
       "      <td>0.900625</td>\n",
       "      <td>0.900625</td>\n",
       "      <td>349622</td>\n",
       "      <td>397621</td>\n",
       "    </tr>\n",
       "    <tr>\n",
       "      <th>2</th>\n",
       "      <td>44</td>\n",
       "      <td>ILA</td>\n",
       "      <td>Infralimbic area</td>\n",
       "      <td>8505.800127</td>\n",
       "      <td>13510.920000</td>\n",
       "      <td>0.629550</td>\n",
       "      <td>0.629550</td>\n",
       "      <td>205617</td>\n",
       "      <td>50601</td>\n",
       "    </tr>\n",
       "    <tr>\n",
       "      <th>3</th>\n",
       "      <td>48</td>\n",
       "      <td>ACAv</td>\n",
       "      <td>Anterior cingulate area, ventral part</td>\n",
       "      <td>9137.063759</td>\n",
       "      <td>13148.290730</td>\n",
       "      <td>0.694924</td>\n",
       "      <td>0.694924</td>\n",
       "      <td>337285</td>\n",
       "      <td>155849</td>\n",
       "    </tr>\n",
       "    <tr>\n",
       "      <th>4</th>\n",
       "      <td>104</td>\n",
       "      <td>AId</td>\n",
       "      <td>Agranular insular area, dorsal part</td>\n",
       "      <td>9394.407071</td>\n",
       "      <td>10897.900910</td>\n",
       "      <td>0.862038</td>\n",
       "      <td>0.862038</td>\n",
       "      <td>218853</td>\n",
       "      <td>50745</td>\n",
       "    </tr>\n",
       "  </tbody>\n",
       "</table>\n",
       "</div>"
      ],
      "text/plain": [
       "        id acronym                                   name            T1  \\\n",
       "index                                                                     \n",
       "0       22    PTLp   Posterior parietal association areas  10621.646740   \n",
       "1       39    ACAd   Anterior cingulate area, dorsal part  10066.695460   \n",
       "2       44     ILA                       Infralimbic area   8505.800127   \n",
       "3       48    ACAv  Anterior cingulate area, ventral part   9137.063759   \n",
       "4      104     AId    Agranular insular area, dorsal part   9394.407071   \n",
       "\n",
       "                 T2      T1T2   OLDT1T2  cellCount  voxelCountCCF  \n",
       "index                                                              \n",
       "0       9681.412298  1.097117  1.097117     504703          89466  \n",
       "1      11177.449280  0.900625  0.900625     349622         397621  \n",
       "2      13510.920000  0.629550  0.629550     205617          50601  \n",
       "3      13148.290730  0.694924  0.694924     337285         155849  \n",
       "4      10897.900910  0.862038  0.862038     218853          50745  "
      ]
     },
     "execution_count": 7,
     "metadata": {},
     "output_type": "execute_result"
    }
   ],
   "source": [
    "# load t1/t2 from Fulcher PNAS\n",
    "in_file = os.path.join(indir, 'T1T2Table.csv')\n",
    "mouse_myelin = pd.read_csv(in_file, index_col=0)\n",
    "mouse_myelin.index = mouse_myelin.index - 1\n",
    "\n",
    "mouse_myelin.head()"
   ]
  },
  {
   "cell_type": "code",
   "execution_count": 8,
   "metadata": {},
   "outputs": [
    {
     "data": {
      "application/vnd.microsoft.datawrangler.viewer.v0+json": {
       "columns": [
        {
         "name": "index",
         "rawType": "int64",
         "type": "integer"
        },
        {
         "name": "Region",
         "rawType": "object",
         "type": "string"
        },
        {
         "name": "Class",
         "rawType": "int64",
         "type": "integer"
        },
        {
         "name": "Isocortex",
         "rawType": "int64",
         "type": "integer"
        },
        {
         "name": "Isocortex_modules",
         "rawType": "object",
         "type": "string"
        },
        {
         "name": "sort_idx",
         "rawType": "int64",
         "type": "integer"
        },
        {
         "name": "T1T2",
         "rawType": "float64",
         "type": "float"
        }
       ],
       "conversionMethod": "pd.DataFrame",
       "ref": "a8bd022c-960f-4c6d-bb5a-866c1bf6925b",
       "rows": [
        [
         "0",
         "AUDv",
         "0",
         "1",
         "Auditory",
         "16",
         "0.905460304"
        ],
        [
         "1",
         "AUDpo",
         "0",
         "1",
         "Auditory",
         "15",
         "1.01445144"
        ],
        [
         "2",
         "AUDp",
         "0",
         "1",
         "Auditory",
         "14",
         "1.043727862"
        ],
        [
         "3",
         "AUDd",
         "0",
         "1",
         "Auditory",
         "13",
         "1.153093728"
        ],
        [
         "4",
         "ECT",
         "12",
         "1",
         "Lateral",
         "42",
         "0.787750061"
        ]
       ],
       "shape": {
        "columns": 6,
        "rows": 5
       }
      },
      "text/html": [
       "<div>\n",
       "<style scoped>\n",
       "    .dataframe tbody tr th:only-of-type {\n",
       "        vertical-align: middle;\n",
       "    }\n",
       "\n",
       "    .dataframe tbody tr th {\n",
       "        vertical-align: top;\n",
       "    }\n",
       "\n",
       "    .dataframe thead th {\n",
       "        text-align: right;\n",
       "    }\n",
       "</style>\n",
       "<table border=\"1\" class=\"dataframe\">\n",
       "  <thead>\n",
       "    <tr style=\"text-align: right;\">\n",
       "      <th></th>\n",
       "      <th>Region</th>\n",
       "      <th>Class</th>\n",
       "      <th>Isocortex</th>\n",
       "      <th>Isocortex_modules</th>\n",
       "      <th>sort_idx</th>\n",
       "      <th>T1T2</th>\n",
       "    </tr>\n",
       "  </thead>\n",
       "  <tbody>\n",
       "    <tr>\n",
       "      <th>0</th>\n",
       "      <td>AUDv</td>\n",
       "      <td>0</td>\n",
       "      <td>1</td>\n",
       "      <td>Auditory</td>\n",
       "      <td>16</td>\n",
       "      <td>0.905460</td>\n",
       "    </tr>\n",
       "    <tr>\n",
       "      <th>1</th>\n",
       "      <td>AUDpo</td>\n",
       "      <td>0</td>\n",
       "      <td>1</td>\n",
       "      <td>Auditory</td>\n",
       "      <td>15</td>\n",
       "      <td>1.014451</td>\n",
       "    </tr>\n",
       "    <tr>\n",
       "      <th>2</th>\n",
       "      <td>AUDp</td>\n",
       "      <td>0</td>\n",
       "      <td>1</td>\n",
       "      <td>Auditory</td>\n",
       "      <td>14</td>\n",
       "      <td>1.043728</td>\n",
       "    </tr>\n",
       "    <tr>\n",
       "      <th>3</th>\n",
       "      <td>AUDd</td>\n",
       "      <td>0</td>\n",
       "      <td>1</td>\n",
       "      <td>Auditory</td>\n",
       "      <td>13</td>\n",
       "      <td>1.153094</td>\n",
       "    </tr>\n",
       "    <tr>\n",
       "      <th>4</th>\n",
       "      <td>ECT</td>\n",
       "      <td>12</td>\n",
       "      <td>1</td>\n",
       "      <td>Lateral</td>\n",
       "      <td>42</td>\n",
       "      <td>0.787750</td>\n",
       "    </tr>\n",
       "  </tbody>\n",
       "</table>\n",
       "</div>"
      ],
      "text/plain": [
       "  Region  Class  Isocortex Isocortex_modules  sort_idx      T1T2\n",
       "0   AUDv      0          1          Auditory        16  0.905460\n",
       "1  AUDpo      0          1          Auditory        15  1.014451\n",
       "2   AUDp      0          1          Auditory        14  1.043728\n",
       "3   AUDd      0          1          Auditory        13  1.153094\n",
       "4    ECT     12          1           Lateral        42  0.787750"
      ]
     },
     "execution_count": 8,
     "metadata": {},
     "output_type": "execute_result"
    }
   ],
   "source": [
    "# append t1/t2 to region_class\n",
    "region_class['T1T2'] = np.nan\n",
    "for idx in region_class.index:\n",
    "    if region_class.loc[idx, 'Region'] in list(mouse_myelin['acronym']):  # if our region is in the mouse myelin matrix\n",
    "        loc_idx = np.where(mouse_myelin['acronym'] == region_class.loc[idx, 'Region'])[0][0]  # find the mitching region idx in the mouse myelin data\n",
    "        region_class.loc[idx, 'T1T2'] = mouse_myelin.loc[loc_idx, 'T1T2'].copy()  # copy myelin data to appropriate spot on our dataframe\n",
    "        \n",
    "region_class.head()"
   ]
  },
  {
   "cell_type": "code",
   "execution_count": 9,
   "metadata": {},
   "outputs": [
    {
     "name": "stderr",
     "output_type": "stream",
     "text": [
      "/home/lindenmp/anaconda3/envs/nct_xr/lib/python3.10/site-packages/scipy/io/matlab/_mio.py:227: MatReadWarning: Duplicate variable name \"None\" in stream - replacing previous with new\n",
      "Consider mio5.varmats_from_mat to split file into single variable files\n",
      "  matfile_dict = MR.get_variables(variable_names)\n"
     ]
    },
    {
     "data": {
      "application/vnd.microsoft.datawrangler.viewer.v0+json": {
       "columns": [
        {
         "name": "index",
         "rawType": "int64",
         "type": "integer"
        },
        {
         "name": "acronym",
         "rawType": "object",
         "type": "string"
        },
        {
         "name": "color_hex_triplet",
         "rawType": "object",
         "type": "string"
        },
        {
         "name": "id",
         "rawType": "int64",
         "type": "integer"
        },
        {
         "name": "name",
         "rawType": "object",
         "type": "string"
        },
        {
         "name": "divisionLabel",
         "rawType": "object",
         "type": "string"
        }
       ],
       "conversionMethod": "pd.DataFrame",
       "ref": "4f95f355-7eca-4aef-8330-11ea6a21b3ae",
       "rows": [
        [
         "0",
         "SSp-ll",
         "188064",
         "337",
         "Primary somatosensory area, lower limb",
         "Isocortex"
        ],
        [
         "1",
         "VISpm",
         "08858C",
         "533",
         "posteromedial visual area",
         "Isocortex"
        ],
        [
         "2",
         "ECT",
         "0D9F91",
         "895",
         "Ectorhinal area",
         "Isocortex"
        ],
        [
         "3",
         "AUDd",
         "019399",
         "1011",
         "Dorsal auditory area",
         "Isocortex"
        ],
        [
         "4",
         "SSp-bfd",
         "188064",
         "329",
         "Primary somatosensory area, barrel field",
         "Isocortex"
        ]
       ],
       "shape": {
        "columns": 5,
        "rows": 5
       }
      },
      "text/html": [
       "<div>\n",
       "<style scoped>\n",
       "    .dataframe tbody tr th:only-of-type {\n",
       "        vertical-align: middle;\n",
       "    }\n",
       "\n",
       "    .dataframe tbody tr th {\n",
       "        vertical-align: top;\n",
       "    }\n",
       "\n",
       "    .dataframe thead th {\n",
       "        text-align: right;\n",
       "    }\n",
       "</style>\n",
       "<table border=\"1\" class=\"dataframe\">\n",
       "  <thead>\n",
       "    <tr style=\"text-align: right;\">\n",
       "      <th></th>\n",
       "      <th>acronym</th>\n",
       "      <th>color_hex_triplet</th>\n",
       "      <th>id</th>\n",
       "      <th>name</th>\n",
       "      <th>divisionLabel</th>\n",
       "    </tr>\n",
       "  </thead>\n",
       "  <tbody>\n",
       "    <tr>\n",
       "      <th>0</th>\n",
       "      <td>SSp-ll</td>\n",
       "      <td>188064</td>\n",
       "      <td>337</td>\n",
       "      <td>Primary somatosensory area, lower limb</td>\n",
       "      <td>Isocortex</td>\n",
       "    </tr>\n",
       "    <tr>\n",
       "      <th>1</th>\n",
       "      <td>VISpm</td>\n",
       "      <td>08858C</td>\n",
       "      <td>533</td>\n",
       "      <td>posteromedial visual area</td>\n",
       "      <td>Isocortex</td>\n",
       "    </tr>\n",
       "    <tr>\n",
       "      <th>2</th>\n",
       "      <td>ECT</td>\n",
       "      <td>0D9F91</td>\n",
       "      <td>895</td>\n",
       "      <td>Ectorhinal area</td>\n",
       "      <td>Isocortex</td>\n",
       "    </tr>\n",
       "    <tr>\n",
       "      <th>3</th>\n",
       "      <td>AUDd</td>\n",
       "      <td>019399</td>\n",
       "      <td>1011</td>\n",
       "      <td>Dorsal auditory area</td>\n",
       "      <td>Isocortex</td>\n",
       "    </tr>\n",
       "    <tr>\n",
       "      <th>4</th>\n",
       "      <td>SSp-bfd</td>\n",
       "      <td>188064</td>\n",
       "      <td>329</td>\n",
       "      <td>Primary somatosensory area, barrel field</td>\n",
       "      <td>Isocortex</td>\n",
       "    </tr>\n",
       "  </tbody>\n",
       "</table>\n",
       "</div>"
      ],
      "text/plain": [
       "   acronym color_hex_triplet    id                                      name  \\\n",
       "0   SSp-ll            188064   337    Primary somatosensory area, lower limb   \n",
       "1    VISpm            08858C   533                 posteromedial visual area   \n",
       "2      ECT            0D9F91   895                           Ectorhinal area   \n",
       "3     AUDd            019399  1011                      Dorsal auditory area   \n",
       "4  SSp-bfd            188064   329  Primary somatosensory area, barrel field   \n",
       "\n",
       "  divisionLabel  \n",
       "0     Isocortex  \n",
       "1     Isocortex  \n",
       "2     Isocortex  \n",
       "3     Isocortex  \n",
       "4     Isocortex  "
      ]
     },
     "execution_count": 9,
     "metadata": {},
     "output_type": "execute_result"
    }
   ],
   "source": [
    "# load gene data from Fulcher PNAS\n",
    "in_file = os.path.join(indir, 'geneInfo.csv')\n",
    "mouse_gene_info = pd.read_csv(in_file)\n",
    "in_file = os.path.join(indir, 'structInfo.csv')\n",
    "mouse_struct_info = pd.read_csv(in_file)\n",
    "\n",
    "in_file = os.path.join(indir, 'PCAResults_bayesian_brainExpressed_scaledSigmoid_benCombo.mat')\n",
    "mouse_gene_data = sp.io.loadmat(in_file)\n",
    "# mouse_gene_data = mouse_gene_data['geneDataZ']\n",
    "mouse_gene_data = mouse_gene_data['normalizedGeneData']\n",
    "\n",
    "mouse_struct_info.head()"
   ]
  },
  {
   "cell_type": "code",
   "execution_count": 10,
   "metadata": {},
   "outputs": [
    {
     "data": {
      "application/vnd.microsoft.datawrangler.viewer.v0+json": {
       "columns": [
        {
         "name": "index",
         "rawType": "int64",
         "type": "integer"
        },
        {
         "name": "Region",
         "rawType": "object",
         "type": "string"
        },
        {
         "name": "Class",
         "rawType": "int64",
         "type": "integer"
        },
        {
         "name": "Isocortex",
         "rawType": "int64",
         "type": "integer"
        },
        {
         "name": "Isocortex_modules",
         "rawType": "object",
         "type": "string"
        },
        {
         "name": "sort_idx",
         "rawType": "int64",
         "type": "integer"
        },
        {
         "name": "T1T2",
         "rawType": "float64",
         "type": "float"
        },
        {
         "name": "Pvalb",
         "rawType": "float64",
         "type": "float"
        },
        {
         "name": "Sst",
         "rawType": "float64",
         "type": "float"
        }
       ],
       "conversionMethod": "pd.DataFrame",
       "ref": "bf6568d8-f8ad-4b3c-9067-8f7dc72e5fd6",
       "rows": [
        [
         "0",
         "AUDv",
         "0",
         "1",
         "Auditory",
         "16",
         "0.905460304",
         "0.14514978856349994",
         "1.0"
        ],
        [
         "1",
         "AUDpo",
         "0",
         "1",
         "Auditory",
         "15",
         "1.01445144",
         "0.46884197101789726",
         "0.8774962770418743"
        ],
        [
         "2",
         "AUDp",
         "0",
         "1",
         "Auditory",
         "14",
         "1.043727862",
         "0.2500700591606305",
         "0.8939639764615575"
        ],
        [
         "3",
         "AUDd",
         "0",
         "1",
         "Auditory",
         "13",
         "1.153093728",
         "0.5972722075351602",
         "0.8220205168395429"
        ],
        [
         "4",
         "ECT",
         "12",
         "1",
         "Lateral",
         "42",
         "0.787750061",
         "0.5795517618917747",
         "0.6701121725626263"
        ]
       ],
       "shape": {
        "columns": 8,
        "rows": 5
       }
      },
      "text/html": [
       "<div>\n",
       "<style scoped>\n",
       "    .dataframe tbody tr th:only-of-type {\n",
       "        vertical-align: middle;\n",
       "    }\n",
       "\n",
       "    .dataframe tbody tr th {\n",
       "        vertical-align: top;\n",
       "    }\n",
       "\n",
       "    .dataframe thead th {\n",
       "        text-align: right;\n",
       "    }\n",
       "</style>\n",
       "<table border=\"1\" class=\"dataframe\">\n",
       "  <thead>\n",
       "    <tr style=\"text-align: right;\">\n",
       "      <th></th>\n",
       "      <th>Region</th>\n",
       "      <th>Class</th>\n",
       "      <th>Isocortex</th>\n",
       "      <th>Isocortex_modules</th>\n",
       "      <th>sort_idx</th>\n",
       "      <th>T1T2</th>\n",
       "      <th>Pvalb</th>\n",
       "      <th>Sst</th>\n",
       "    </tr>\n",
       "  </thead>\n",
       "  <tbody>\n",
       "    <tr>\n",
       "      <th>0</th>\n",
       "      <td>AUDv</td>\n",
       "      <td>0</td>\n",
       "      <td>1</td>\n",
       "      <td>Auditory</td>\n",
       "      <td>16</td>\n",
       "      <td>0.905460</td>\n",
       "      <td>0.145150</td>\n",
       "      <td>1.000000</td>\n",
       "    </tr>\n",
       "    <tr>\n",
       "      <th>1</th>\n",
       "      <td>AUDpo</td>\n",
       "      <td>0</td>\n",
       "      <td>1</td>\n",
       "      <td>Auditory</td>\n",
       "      <td>15</td>\n",
       "      <td>1.014451</td>\n",
       "      <td>0.468842</td>\n",
       "      <td>0.877496</td>\n",
       "    </tr>\n",
       "    <tr>\n",
       "      <th>2</th>\n",
       "      <td>AUDp</td>\n",
       "      <td>0</td>\n",
       "      <td>1</td>\n",
       "      <td>Auditory</td>\n",
       "      <td>14</td>\n",
       "      <td>1.043728</td>\n",
       "      <td>0.250070</td>\n",
       "      <td>0.893964</td>\n",
       "    </tr>\n",
       "    <tr>\n",
       "      <th>3</th>\n",
       "      <td>AUDd</td>\n",
       "      <td>0</td>\n",
       "      <td>1</td>\n",
       "      <td>Auditory</td>\n",
       "      <td>13</td>\n",
       "      <td>1.153094</td>\n",
       "      <td>0.597272</td>\n",
       "      <td>0.822021</td>\n",
       "    </tr>\n",
       "    <tr>\n",
       "      <th>4</th>\n",
       "      <td>ECT</td>\n",
       "      <td>12</td>\n",
       "      <td>1</td>\n",
       "      <td>Lateral</td>\n",
       "      <td>42</td>\n",
       "      <td>0.787750</td>\n",
       "      <td>0.579552</td>\n",
       "      <td>0.670112</td>\n",
       "    </tr>\n",
       "  </tbody>\n",
       "</table>\n",
       "</div>"
      ],
      "text/plain": [
       "  Region  Class  Isocortex Isocortex_modules  sort_idx      T1T2     Pvalb  \\\n",
       "0   AUDv      0          1          Auditory        16  0.905460  0.145150   \n",
       "1  AUDpo      0          1          Auditory        15  1.014451  0.468842   \n",
       "2   AUDp      0          1          Auditory        14  1.043728  0.250070   \n",
       "3   AUDd      0          1          Auditory        13  1.153094  0.597272   \n",
       "4    ECT     12          1           Lateral        42  0.787750  0.579552   \n",
       "\n",
       "        Sst  \n",
       "0  1.000000  \n",
       "1  0.877496  \n",
       "2  0.893964  \n",
       "3  0.822021  \n",
       "4  0.670112  "
      ]
     },
     "execution_count": 10,
     "metadata": {},
     "output_type": "execute_result"
    }
   ],
   "source": [
    "# append gene data to region_class\n",
    "# gene_list = ['Pvalb', 'Grin3a', 'Sst']\n",
    "gene_list = ['Pvalb', 'Sst']\n",
    "\n",
    "for gene in gene_list:\n",
    "    region_class[gene] = np.nan\n",
    "\n",
    "    loc_idx_gene = np.where(mouse_gene_info['acronym'] == gene)[0][0]  # find gene location from 1055 genes using string search\n",
    "    for idx in region_class.index:\n",
    "        if region_class.loc[idx, 'Region'] in list(mouse_struct_info['acronym']):  # if our region is in the mouse gene matrix\n",
    "            loc_idx = np.where(mouse_struct_info['acronym'] == region_class.loc[idx, 'Region'])[0][0]  # find the mitching region idx in the mouse gene data\n",
    "            region_class.loc[idx, gene] = mouse_gene_data[loc_idx, loc_idx_gene]  # copy gene data to appropriate spot on our dataframe\n",
    "        \n",
    "region_class.head()"
   ]
  },
  {
   "cell_type": "code",
   "execution_count": 11,
   "metadata": {},
   "outputs": [
    {
     "data": {
      "image/png": "[encoded data removed]",
      "text/plain": [
       "<Figure size 200x200 with 1 Axes>"
      ]
     },
     "metadata": {},
     "output_type": "display_data"
    }
   ],
   "source": [
    "f, ax = plt.subplots(1, 1, figsize=(2, 2))\n",
    "nan_mask = np.isnan(region_class['T1T2'])\n",
    "reg_plot(region_class['T1T2'][~nan_mask], A.sum(axis=0)[~nan_mask], xlabel='T1/T2', ylabel='strength', ax=ax, annotate='both')"
   ]
  },
  {
   "cell_type": "code",
   "execution_count": 12,
   "metadata": {},
   "outputs": [
    {
     "data": {
      "image/png": "[encoded data removed]",
      "text/plain": [
       "<Figure size 200x200 with 1 Axes>"
      ]
     },
     "metadata": {},
     "output_type": "display_data"
    },
    {
     "data": {
      "image/png": "[encoded data removed]",
      "text/plain": [
       "<Figure size 200x200 with 1 Axes>"
      ]
     },
     "metadata": {},
     "output_type": "display_data"
    }
   ],
   "source": [
    "for gene in gene_list:\n",
    "    f, ax = plt.subplots(1, 1, figsize=(2, 2))\n",
    "    reg_plot(region_class['T1T2'][~nan_mask], region_class[gene][~nan_mask], xlabel='T1/T2', ylabel=gene, ax=ax, annotate='both')"
   ]
  },
  {
   "cell_type": "markdown",
   "metadata": {
    "collapsed": false
   },
   "source": [
    "### Get states"
   ]
  },
  {
   "cell_type": "code",
   "execution_count": 13,
   "metadata": {},
   "outputs": [
    {
     "name": "stdout",
     "output_type": "stream",
     "text": [
      "     Region  Class  Isocortex Isocortex_modules  sort_idx      T1T2     Pvalb  \\\n",
      "0      AUDv      0          1          Auditory        16  0.905460  0.145150   \n",
      "1     AUDpo      0          1          Auditory        15  1.014451  0.468842   \n",
      "2      AUDp      0          1          Auditory        14  1.043728  0.250070   \n",
      "3      AUDd      0          1          Auditory        13  1.153094  0.597272   \n",
      "4       ECT     12          1           Lateral        42  0.787750  0.579552   \n",
      "5      PERI     12          1           Lateral        41  0.879893  0.202851   \n",
      "6        GU     12          1           Lateral        11  0.877371  0.244098   \n",
      "7       AId      0          1           Lateral        32  0.862038  0.301833   \n",
      "8      VISC     12          1           Lateral        12  0.902017  0.158101   \n",
      "9       AIv      0          1           Lateral        34  0.805014  0.069891   \n",
      "10      TEa     12          1           Lateral        40  0.800036  0.392993   \n",
      "11      AIp      0          1           Lateral        33  0.758919  0.035725   \n",
      "12   RSPagl      0          1            Medial        35  0.887667  0.285564   \n",
      "13     RSPd      0          1            Medial        36  0.917903  0.615679   \n",
      "14     RSPv      0          1            Medial        37  0.895115  0.778586   \n",
      "15     VISa      0          1            Medial        38       NaN       NaN   \n",
      "16    VISam      0          1            Medial        18  1.077118  0.397747   \n",
      "17    VISpm      0          1            Medial        22  1.052817  0.742274   \n",
      "18    ORBvl      0          1               PFC        31  0.775871  0.433541   \n",
      "19     ORBm      0          1               PFC        30  0.744766  0.049276   \n",
      "20     ACAv      0          1               PFC        26  0.694924  0.272843   \n",
      "21     ORBl      0          1               PFC        29  0.826133  0.508203   \n",
      "22      ILA     12          1               PFC        28  0.629550  0.149231   \n",
      "23       PL     12          1               PFC        27  0.776534  0.000000   \n",
      "24     ACAd      0          1               PFC        25  0.900625  0.270353   \n",
      "25      FRP     12          1               PFC         0  1.027845  0.035859   \n",
      "26    SSp-m      0          1       Somatomotor         6  1.046511  0.990427   \n",
      "27      MOp      0          1       Somatomotor         1  1.094387  0.649475   \n",
      "28      MOs      0          1       Somatomotor         2  1.063706  0.412961   \n",
      "29      SSs      0          1       Somatomotor        10  1.103297  0.554455   \n",
      "30   SSp-un      0          1       Somatomotor         9  0.996656  0.831976   \n",
      "31   SSp-tr      0          1       Somatomotor         8  1.013647  0.702462   \n",
      "32   SSp-ul      0          1       Somatomotor         7  1.011643  0.895681   \n",
      "33    SSp-n      0          1       Somatomotor         3  1.059837  1.000000   \n",
      "34   SSp-ll      0          1       Somatomotor         5  1.058617  0.740450   \n",
      "35  SSp-bfd      0          1       Somatomotor         4  1.050575  0.974385   \n",
      "36    VISrl      0          1            Visual        39       NaN       NaN   \n",
      "37    VISli      0          1            Visual        23       NaN       NaN   \n",
      "38    VISal      0          1            Visual        17  1.074838  0.684768   \n",
      "39     VISl      0          1            Visual        19  0.885626  0.591025   \n",
      "40     VISp      0          1            Visual        20  0.977893  0.444189   \n",
      "41   VISpor      0          1            Visual        24       NaN       NaN   \n",
      "42    VISpl      0          1            Visual        21  0.755443  0.324286   \n",
      "\n",
      "         Sst  \n",
      "0   1.000000  \n",
      "1   0.877496  \n",
      "2   0.893964  \n",
      "3   0.822021  \n",
      "4   0.670112  \n",
      "5   0.779297  \n",
      "6   0.795545  \n",
      "7   0.339887  \n",
      "8   0.763264  \n",
      "9   0.870976  \n",
      "10  0.882896  \n",
      "11  0.666877  \n",
      "12  0.270494  \n",
      "13  0.369818  \n",
      "14  0.614523  \n",
      "15       NaN  \n",
      "16  0.616562  \n",
      "17  0.620551  \n",
      "18  0.298822  \n",
      "19  0.087103  \n",
      "20  0.786632  \n",
      "21  0.441925  \n",
      "22  0.963843  \n",
      "23  0.653028  \n",
      "24  0.824908  \n",
      "25  0.000000  \n",
      "26  0.566264  \n",
      "27  0.444813  \n",
      "28  0.359320  \n",
      "29  0.824175  \n",
      "30  0.516020  \n",
      "31  0.573013  \n",
      "32  0.539720  \n",
      "33  0.669301  \n",
      "34  0.497509  \n",
      "35  0.548267  \n",
      "36       NaN  \n",
      "37       NaN  \n",
      "38  0.685528  \n",
      "39  0.765137  \n",
      "40  0.458673  \n",
      "41       NaN  \n",
      "42  0.749569  \n"
     ]
    }
   ],
   "source": [
    "print(region_class)"
   ]
  },
  {
   "cell_type": "code",
   "execution_count": 14,
   "metadata": {
    "ExecuteTime": {
     "end_time": "2023-07-25T15:48:30.147569Z",
     "start_time": "2023-07-25T15:48:30.146208Z"
    },
    "collapsed": false,
    "pycharm": {
     "name": "#%%\n"
    }
   },
   "outputs": [],
   "source": [
    "# get system labels\n",
    "# system_labels = list(region_class[\"system_labels\"])\n",
    "system_labels = list(region_class[\"Isocortex_modules\"])"
   ]
  },
  {
   "cell_type": "code",
   "execution_count": 15,
   "metadata": {
    "ExecuteTime": {
     "end_time": "2023-07-25T15:48:30.150095Z",
     "start_time": "2023-07-25T15:48:30.148423Z"
    },
    "collapsed": false,
    "pycharm": {
     "name": "#%%\n"
    }
   },
   "outputs": [
    {
     "name": "stdout",
     "output_type": "stream",
     "text": [
      "43\n",
      "['Auditory', 'Auditory', 'Auditory', 'Auditory', 'Lateral', 'Lateral', 'Lateral', 'Lateral', 'Lateral', 'Lateral', 'Lateral', 'Lateral', 'Medial', 'Medial', 'Medial', 'Medial', 'Medial', 'Medial', 'PFC', 'PFC']\n"
     ]
    }
   ],
   "source": [
    "print(len(system_labels))\n",
    "print(system_labels[:20])"
   ]
  },
  {
   "cell_type": "code",
   "execution_count": 16,
   "metadata": {
    "ExecuteTime": {
     "end_time": "2023-07-25T15:48:30.151871Z",
     "start_time": "2023-07-25T15:48:30.150686Z"
    },
    "collapsed": false,
    "pycharm": {
     "name": "#%%\n"
    }
   },
   "outputs": [
    {
     "data": {
      "text/plain": [
       "(43,)"
      ]
     },
     "execution_count": 16,
     "metadata": {},
     "output_type": "execute_result"
    }
   ],
   "source": [
    "# use list of system names to create states\n",
    "states, state_labels = convert_states_str2int(system_labels)\n",
    "states.shape"
   ]
  },
  {
   "cell_type": "code",
   "execution_count": 17,
   "metadata": {},
   "outputs": [
    {
     "data": {
      "text/plain": [
       "(6, 43)"
      ]
     },
     "execution_count": 17,
     "metadata": {},
     "output_type": "execute_result"
    }
   ],
   "source": [
    "n_states = len(state_labels)\n",
    "centroids = np.zeros((n_states, n_nodes))\n",
    "for i in np.arange(n_states):\n",
    "    centroids[i, :] = states == i\n",
    "centroids.shape"
   ]
  },
  {
   "cell_type": "code",
   "execution_count": 18,
   "metadata": {},
   "outputs": [
    {
     "data": {
      "image/png": "[encoded data removed]",
      "text/plain": [
       "<Figure size 1000x250 with 2 Axes>"
      ]
     },
     "metadata": {},
     "output_type": "display_data"
    }
   ],
   "source": [
    "f, ax = plt.subplots(figsize=(10, 2.5))\n",
    "sns.heatmap(centroids, ax=ax, square=False)\n",
    "plt.show()"
   ]
  },
  {
   "cell_type": "markdown",
   "metadata": {},
   "source": [
    "## Save data"
   ]
  },
  {
   "cell_type": "code",
   "execution_count": null,
   "metadata": {},
   "outputs": [],
   "source": [
    "file_str = 'mouse_cortex_Am'\n",
    "np.save(os.path.join(outdir, file_str), A)\n",
    "\n",
    "my_dict = dict()\n",
    "my_dict['centroids'] = centroids\n",
    "file_str = 'mouse_cortex_brain_states'\n",
    "np.save(os.path.join(outdir, file_str), my_dict)\n",
    "\n",
    "file_str = 'mouse_cortex_myelin'\n",
    "np.save(os.path.join(outdir, file_str), region_class['T1T2'])\n",
    "file_str = 'mouse_cortex_region_data.csv'\n",
    "region_class.to_csv(os.path.join(outdir, file_str))"
   ]
  }
 ],
 "metadata": {
  "kernelspec": {
   "display_name": "nct_xr",
   "language": "python",
   "name": "python3"
  },
  "language_info": {
   "codemirror_mode": {
    "name": "ipython",
    "version": 3
   },
   "file_extension": ".py",
   "mimetype": "text/x-python",
   "name": "python",
   "nbconvert_exporter": "python",
   "pygments_lexer": "ipython3",
   "version": "3.10.13"
  }
 },
 "nbformat": 4,
 "nbformat_minor": 0
}
