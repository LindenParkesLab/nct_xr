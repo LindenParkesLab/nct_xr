{
 "cells": [
  {
   "cell_type": "code",
   "execution_count": 1,
   "metadata": {
    "ExecuteTime": {
     "end_time": "2023-07-25T15:48:29.391968Z",
     "start_time": "2023-07-25T15:48:29.050955Z"
    },
    "collapsed": true
   },
   "outputs": [],
   "source": [
    "# import\n",
    "import os, sys\n",
    "import numpy as np\n",
    "import pandas as pd\n",
    "import scipy as sp\n",
    "from scipy import stats\n",
    "from scipy.spatial import distance\n",
    "from sklearn.cluster import KMeans\n",
    "from tqdm import tqdm\n",
    "\n",
    "# import plotting libraries\n",
    "import matplotlib.pyplot as plt\n",
    "\n",
    "plt.rcParams.update({\"font.size\": 8})\n",
    "plt.rcParams[\"svg.fonttype\"] = \"none\"\n",
    "import seaborn as sns\n",
    "from nilearn import datasets\n",
    "from nilearn import plotting\n",
    "\n",
    "sys.path.extend([r'/home/lindenmp/research_projects/snaplab_tools'])\n",
    "sys.path.extend([r'/home/lindenmp/research_projects/nctpy/src'])\n",
    "\n",
    "# import nctpy functions\n",
    "from snaplab_tools.plotting.plotting import categorical_kde_plot, reg_plot, brain_scatter_plot, null_plot\n",
    "from snaplab_tools.plotting.utils import get_my_colors, get_p_val_string\n",
    "from snaplab_tools.prediction.regression import Regression\n",
    "from snaplab_tools.utils import get_null_p\n",
    "\n",
    "from nctpy.plotting import add_module_lines\n",
    "from nctpy.utils import convert_states_str2int"
   ]
  },
  {
   "cell_type": "markdown",
   "metadata": {},
   "source": [
    "## Load data"
   ]
  },
  {
   "cell_type": "code",
   "execution_count": 2,
   "metadata": {},
   "outputs": [],
   "source": [
    "# directory where data is stored\n",
    "indir = '/home/lindenmp/research_projects/nct_xr/data/mouse'\n",
    "outdir = '/home/lindenmp/research_projects/nct_xr/data'"
   ]
  },
  {
   "cell_type": "code",
   "execution_count": 3,
   "metadata": {},
   "outputs": [
    {
     "name": "stdout",
     "output_type": "stream",
     "text": [
      "(461, 461)\n",
      "False\n"
     ]
    }
   ],
   "source": [
    "A_file = os.path.join(indir, 'normalized_connection_strength_ipsi.csv')\n",
    "A = np.loadtxt(os.path.join(indir, A_file), dtype=float, delimiter=\",\", encoding=\"utf-8-sig\")\n",
    "A = A.T  # set rows=tagets and columns=sources. That is, Aij = edge from node j to node i\n",
    "print(A.shape)\n",
    "print(np.all(np.round(A, 4) == np.round(A.T, 4)))"
   ]
  },
  {
   "cell_type": "code",
   "execution_count": 4,
   "metadata": {},
   "outputs": [
    {
     "name": "stdout",
     "output_type": "stream",
     "text": [
      "(43, 43)\n",
      "1.0\n",
      "     Region  Class  Isocortex Isocortex_modules  sort_idx\n",
      "0      AUDv      0          1          Auditory        16\n",
      "1     AUDpo      0          1          Auditory        15\n",
      "2      AUDp      0          1          Auditory        14\n",
      "3      AUDd      0          1          Auditory        13\n",
      "4       ECT     12          1           Lateral        42\n",
      "5      PERI     12          1           Lateral        41\n",
      "6        GU     12          1           Lateral        11\n",
      "7       AId      0          1           Lateral        32\n",
      "8      VISC     12          1           Lateral        12\n",
      "9       AIv      0          1           Lateral        34\n",
      "10      TEa     12          1           Lateral        40\n",
      "11      AIp      0          1           Lateral        33\n",
      "12   RSPagl      0          1            Medial        35\n",
      "13     RSPd      0          1            Medial        36\n",
      "14     RSPv      0          1            Medial        37\n",
      "15     VISa      0          1            Medial        38\n",
      "16    VISam      0          1            Medial        18\n",
      "17    VISpm      0          1            Medial        22\n",
      "18    ORBvl      0          1               PFC        31\n",
      "19     ORBm      0          1               PFC        30\n",
      "20     ACAv      0          1               PFC        26\n",
      "21     ORBl      0          1               PFC        29\n",
      "22      ILA     12          1               PFC        28\n",
      "23       PL     12          1               PFC        27\n",
      "24     ACAd      0          1               PFC        25\n",
      "25      FRP     12          1               PFC         0\n",
      "26    SSp-m      0          1       Somatomotor         6\n",
      "27      MOp      0          1       Somatomotor         1\n",
      "28      MOs      0          1       Somatomotor         2\n",
      "29      SSs      0          1       Somatomotor        10\n",
      "30   SSp-un      0          1       Somatomotor         9\n",
      "31   SSp-tr      0          1       Somatomotor         8\n",
      "32   SSp-ul      0          1       Somatomotor         7\n",
      "33    SSp-n      0          1       Somatomotor         3\n",
      "34   SSp-ll      0          1       Somatomotor         5\n",
      "35  SSp-bfd      0          1       Somatomotor         4\n",
      "36    VISrl      0          1            Visual        39\n",
      "37    VISli      0          1            Visual        23\n",
      "38    VISal      0          1            Visual        17\n",
      "39     VISl      0          1            Visual        19\n",
      "40     VISp      0          1            Visual        20\n",
      "41   VISpor      0          1            Visual        24\n",
      "42    VISpl      0          1            Visual        21\n"
     ]
    }
   ],
   "source": [
    "# load region class\n",
    "region_class = pd.read_csv(os.path.join(indir, \"region_class.csv\"))\n",
    "\n",
    "# retain isocortex\n",
    "idx = region_class[\"Isocortex\"] == 1\n",
    "# subset A\n",
    "A = A[region_class[idx].index, :][:, region_class[idx].index]\n",
    "n_nodes = A.shape[0]\n",
    "print(A.shape)\n",
    "\n",
    "# get density including self connections\n",
    "density = np.count_nonzero(A) / A.shape[0] ** 2\n",
    "print(density)\n",
    "\n",
    "# subset region_class\n",
    "region_class = region_class[idx]\n",
    "\n",
    "# sort on Isocortex_modules\n",
    "region_class.reset_index(inplace=True, drop=True)\n",
    "region_class[\"sort_idx\"] = region_class.index\n",
    "region_class.sort_values(\"Isocortex_modules\", inplace=True)\n",
    "region_class.reset_index(inplace=True, drop=True)\n",
    "# sort A to match\n",
    "A = A[region_class.sort_idx, :][:, region_class.sort_idx]\n",
    "\n",
    "print(region_class)"
   ]
  },
  {
   "cell_type": "markdown",
   "metadata": {
    "collapsed": false,
    "pycharm": {
     "name": "#%% md\n"
    }
   },
   "source": [
    "### Plot adjacency"
   ]
  },
  {
   "cell_type": "code",
   "execution_count": 5,
   "metadata": {},
   "outputs": [],
   "source": [
    "A[np.eye(A.shape[0]) == 1] = 0"
   ]
  },
  {
   "cell_type": "code",
   "execution_count": 6,
   "metadata": {
    "ExecuteTime": {
     "end_time": "2023-07-25T15:48:30.139868Z",
     "start_time": "2023-07-25T15:48:29.416114Z"
    },
    "collapsed": false,
    "pycharm": {
     "name": "#%%\n"
    }
   },
   "outputs": [
    {
     "name": "stdout",
     "output_type": "stream",
     "text": [
      "['Auditory' 'Lateral' 'Medial' 'PFC' 'Somatomotor' 'Visual']\n"
     ]
    },
    {
     "name": "stderr",
     "output_type": "stream",
     "text": [
      "/tmp/ipykernel_2574163/389514703.py:2: RuntimeWarning: divide by zero encountered in log10\n",
      "  A_log = np.log10(A)\n"
     ]
    },
    {
     "data": {
      "image/png": "[encoded data removed]",
      "text/plain": [
       "<Figure size 600x600 with 2 Axes>"
      ]
     },
     "metadata": {},
     "output_type": "display_data"
    }
   ],
   "source": [
    "# plot A matrix\n",
    "A_log = np.log10(A)\n",
    "A_log[np.eye(A_log.shape[0]) == 1] = 0\n",
    "f, ax = plt.subplots(figsize=(6, 6))\n",
    "sns.heatmap(\n",
    "    A_log,\n",
    "    ax=ax,\n",
    "    square=True,\n",
    "    cmap=\"inferno\",\n",
    "    xticklabels=region_class.Region,\n",
    "    yticklabels=region_class.Region,\n",
    "    cbar_kws={\"label\": \"log10(connection strength)\", \"shrink\": 0.8},\n",
    ")\n",
    "ax.set_xticklabels(ax.get_xmajorticklabels(), fontsize=7)\n",
    "ax.set_yticklabels(ax.get_ymajorticklabels(), fontsize=7)\n",
    "add_module_lines(region_class[\"Isocortex_modules\"], ax)\n",
    "f.savefig(\n",
    "    os.path.join(outdir, \"mouse_connectome.png\"),\n",
    "    dpi=600,\n",
    "    bbox_inches=\"tight\",\n",
    "    pad_inches=0.01,\n",
    ")\n",
    "plt.show()"
   ]
  },
  {
   "cell_type": "markdown",
   "metadata": {
    "collapsed": false,
    "pycharm": {
     "name": "#%% md\n"
    }
   },
   "source": [
    "### Assign isocortex to DMN based on Whitesell 2021 Neuron"
   ]
  },
  {
   "cell_type": "code",
   "execution_count": 7,
   "metadata": {
    "ExecuteTime": {
     "end_time": "2023-07-25T15:48:30.145592Z",
     "start_time": "2023-07-25T15:48:30.143873Z"
    },
    "collapsed": false,
    "pycharm": {
     "name": "#%%\n"
    }
   },
   "outputs": [
    {
     "name": "stdout",
     "output_type": "stream",
     "text": [
      "     Region  Class  Isocortex Isocortex_modules  sort_idx    DMN system_labels\n",
      "0      AUDv      0          1          Auditory        16  False      Auditory\n",
      "1     AUDpo      0          1          Auditory        15  False      Auditory\n",
      "2      AUDp      0          1          Auditory        14  False      Auditory\n",
      "3      AUDd      0          1          Auditory        13  False      Auditory\n",
      "4       ECT     12          1           Lateral        42  False       Lateral\n",
      "5      PERI     12          1           Lateral        41  False       Lateral\n",
      "6        GU     12          1           Lateral        11  False       Lateral\n",
      "7       AId      0          1           Lateral        32  False       Lateral\n",
      "8      VISC     12          1           Lateral        12  False       Lateral\n",
      "9       AIv      0          1           Lateral        34  False       Lateral\n",
      "10      TEa     12          1           Lateral        40  False       Lateral\n",
      "11      AIp      0          1           Lateral        33  False       Lateral\n",
      "12   RSPagl      0          1            Medial        35   True           DMN\n",
      "13     RSPd      0          1            Medial        36   True           DMN\n",
      "14     RSPv      0          1            Medial        37   True           DMN\n",
      "15     VISa      0          1            Medial        38   True           DMN\n",
      "16    VISam      0          1            Medial        18   True           DMN\n",
      "17    VISpm      0          1            Medial        22  False        Medial\n",
      "18    ORBvl      0          1               PFC        31   True           DMN\n",
      "19     ORBm      0          1               PFC        30   True           DMN\n",
      "20     ACAv      0          1               PFC        26   True           DMN\n",
      "21     ORBl      0          1               PFC        29   True           DMN\n",
      "22      ILA     12          1               PFC        28   True           DMN\n",
      "23       PL     12          1               PFC        27   True           DMN\n",
      "24     ACAd      0          1               PFC        25   True           DMN\n",
      "25      FRP     12          1               PFC         0  False           PFC\n",
      "26    SSp-m      0          1       Somatomotor         6  False   Somatomotor\n",
      "27      MOp      0          1       Somatomotor         1  False   Somatomotor\n",
      "28      MOs      0          1       Somatomotor         2   True           DMN\n",
      "29      SSs      0          1       Somatomotor        10  False   Somatomotor\n",
      "30   SSp-un      0          1       Somatomotor         9  False   Somatomotor\n",
      "31   SSp-tr      0          1       Somatomotor         8   True           DMN\n",
      "32   SSp-ul      0          1       Somatomotor         7  False   Somatomotor\n",
      "33    SSp-n      0          1       Somatomotor         3  False   Somatomotor\n",
      "34   SSp-ll      0          1       Somatomotor         5   True           DMN\n",
      "35  SSp-bfd      0          1       Somatomotor         4  False   Somatomotor\n",
      "36    VISrl      0          1            Visual        39  False        Visual\n",
      "37    VISli      0          1            Visual        23  False        Visual\n",
      "38    VISal      0          1            Visual        17  False        Visual\n",
      "39     VISl      0          1            Visual        19  False        Visual\n",
      "40     VISp      0          1            Visual        20  False        Visual\n",
      "41   VISpor      0          1            Visual        24  False        Visual\n",
      "42    VISpl      0          1            Visual        21  False        Visual\n"
     ]
    }
   ],
   "source": [
    "# Whitesell DMN regions\n",
    "dmn_regions = [\n",
    "    \"ACAd\",\n",
    "    \"ACAv\",\n",
    "    \"PL\",\n",
    "    \"ILA\",\n",
    "    \"ORBl\",\n",
    "    \"ORBm\",\n",
    "    \"ORBvl\",\n",
    "    \"VISa\",\n",
    "    \"VISam\",\n",
    "    \"RSPagl\",\n",
    "    \"RSPd\",\n",
    "    \"RSPv\",\n",
    "    \"SSp-tr\",\n",
    "    \"SSp-ll\",\n",
    "    \"MOs\",\n",
    "]\n",
    "\n",
    "region_class.set_index(\"Region\", inplace=True)\n",
    "region_class[\"DMN\"] = np.zeros(n_nodes).astype(bool)\n",
    "for idx in dmn_regions:\n",
    "    region_class.loc[idx, \"DMN\"] = True\n",
    "region_class.reset_index(inplace=True, drop=False)\n",
    "\n",
    "# create new system labels column that uses DMN to overwrite existing modules\n",
    "region_class[\"system_labels\"] = region_class[\"Isocortex_modules\"]\n",
    "region_class.loc[region_class[\"DMN\"], \"system_labels\"] = \"DMN\"\n",
    "\n",
    "print(region_class)"
   ]
  },
  {
   "cell_type": "markdown",
   "metadata": {
    "collapsed": false
   },
   "source": [
    "### Get states"
   ]
  },
  {
   "cell_type": "code",
   "execution_count": 8,
   "metadata": {
    "ExecuteTime": {
     "end_time": "2023-07-25T15:48:30.147569Z",
     "start_time": "2023-07-25T15:48:30.146208Z"
    },
    "collapsed": false,
    "pycharm": {
     "name": "#%%\n"
    }
   },
   "outputs": [],
   "source": [
    "# get system labels\n",
    "system_labels = list(region_class[\"system_labels\"])"
   ]
  },
  {
   "cell_type": "code",
   "execution_count": 9,
   "metadata": {
    "ExecuteTime": {
     "end_time": "2023-07-25T15:48:30.150095Z",
     "start_time": "2023-07-25T15:48:30.148423Z"
    },
    "collapsed": false,
    "pycharm": {
     "name": "#%%\n"
    }
   },
   "outputs": [
    {
     "name": "stdout",
     "output_type": "stream",
     "text": [
      "43\n",
      "['Auditory', 'Auditory', 'Auditory', 'Auditory', 'Lateral', 'Lateral', 'Lateral', 'Lateral', 'Lateral', 'Lateral', 'Lateral', 'Lateral', 'DMN', 'DMN', 'DMN', 'DMN', 'DMN', 'Medial', 'DMN', 'DMN']\n"
     ]
    }
   ],
   "source": [
    "print(len(system_labels))\n",
    "print(system_labels[:20])"
   ]
  },
  {
   "cell_type": "code",
   "execution_count": 10,
   "metadata": {
    "ExecuteTime": {
     "end_time": "2023-07-25T15:48:30.151871Z",
     "start_time": "2023-07-25T15:48:30.150686Z"
    },
    "collapsed": false,
    "pycharm": {
     "name": "#%%\n"
    }
   },
   "outputs": [
    {
     "data": {
      "text/plain": [
       "(43,)"
      ]
     },
     "execution_count": 10,
     "metadata": {},
     "output_type": "execute_result"
    }
   ],
   "source": [
    "# use list of system names to create states\n",
    "states, state_labels = convert_states_str2int(system_labels)\n",
    "states.shape"
   ]
  },
  {
   "cell_type": "code",
   "execution_count": 11,
   "metadata": {},
   "outputs": [
    {
     "data": {
      "text/plain": [
       "(7, 43)"
      ]
     },
     "execution_count": 11,
     "metadata": {},
     "output_type": "execute_result"
    }
   ],
   "source": [
    "n_states = len(state_labels)\n",
    "centroids = np.zeros((n_states, n_nodes))\n",
    "for i in np.arange(n_states):\n",
    "    centroids[i, :] = states == i\n",
    "centroids.shape"
   ]
  },
  {
   "cell_type": "code",
   "execution_count": 12,
   "metadata": {},
   "outputs": [
    {
     "data": {
      "image/png": "[encoded data removed]",
      "text/plain": [
       "<Figure size 1000x250 with 2 Axes>"
      ]
     },
     "metadata": {},
     "output_type": "display_data"
    }
   ],
   "source": [
    "f, ax = plt.subplots(figsize=(10, 2.5))\n",
    "sns.heatmap(centroids, ax=ax, square=False)\n",
    "plt.show()"
   ]
  },
  {
   "cell_type": "markdown",
   "metadata": {},
   "source": [
    "## Save data"
   ]
  },
  {
   "cell_type": "code",
   "execution_count": 13,
   "metadata": {},
   "outputs": [],
   "source": [
    "file_str = 'mouse_connectome'\n",
    "np.save(os.path.join(outdir, file_str), A)\n",
    "\n",
    "my_dict = dict()\n",
    "my_dict['centroids'] = centroids\n",
    "file_str = 'mouse_brain_states'\n",
    "np.save(os.path.join(outdir, file_str), my_dict)"
   ]
  }
 ],
 "metadata": {
  "kernelspec": {
   "display_name": "nct_xr",
   "language": "python",
   "name": "python3"
  },
  "language_info": {
   "codemirror_mode": {
    "name": "ipython",
    "version": 3
   },
   "file_extension": ".py",
   "mimetype": "text/x-python",
   "name": "python",
   "nbconvert_exporter": "python",
   "pygments_lexer": "ipython3",
   "version": "3.10.13"
  }
 },
 "nbformat": 4,
 "nbformat_minor": 0
}
