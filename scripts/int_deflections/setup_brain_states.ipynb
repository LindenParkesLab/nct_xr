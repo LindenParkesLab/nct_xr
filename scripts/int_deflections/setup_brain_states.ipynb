{
 "cells": [
  {
   "cell_type": "code",
   "execution_count": 1,
   "metadata": {
    "ExecuteTime": {
     "end_time": "2023-11-25T18:08:53.684862Z",
     "start_time": "2023-11-25T18:08:53.483907Z"
    },
    "collapsed": false
   },
   "outputs": [],
   "source": [
    "# import\n",
    "import os, sys, pickle\n",
    "import numpy as np\n",
    "import pandas as pd\n",
    "from tqdm import tqdm\n",
    "\n",
    "# import plotting libraries\n",
    "import matplotlib.pyplot as plt\n",
    "\n",
    "plt.rcParams.update({\"font.size\": 8})\n",
    "plt.rcParams[\"svg.fonttype\"] = \"none\"\n",
    "\n",
    "sys.path.extend([r'/home/lindenmp/research_projects/snaplab_tools'])\n",
    "sys.path.extend([r'/home/lindenmp/research_projects/nctpy/src'])"
   ]
  },
  {
   "cell_type": "markdown",
   "metadata": {
    "collapsed": false
   },
   "source": [
    "## Setup"
   ]
  },
  {
   "cell_type": "code",
   "execution_count": 2,
   "metadata": {},
   "outputs": [],
   "source": [
    "# directory where data is stored\n",
    "indir = '/home/lindenmp/research_projects/nct_xr/data/int_deflections'\n",
    "which_data = 'HCP_YA'\n",
    "# which_data = 'HCP_D'\n",
    "outdir = '/home/lindenmp/research_projects/nct_xr/results/int_deflections/{0}'.format(which_data.replace('_', ''))\n",
    "\n",
    "atlas = 'Schaefer4007'\n",
    "if atlas == 'Schaefer4007':\n",
    "    n_parcels = 400\n",
    "    n_nodes = 400\n",
    "elif atlas == 'Schaefer2007':\n",
    "    n_parcels = 200\n",
    "    n_nodes = 200\n",
    "elif atlas == 'Schaefer1007':\n",
    "    n_parcels = 100\n",
    "    n_nodes = 100\n",
    "    \n",
    "if which_data == 'HCP_YA':\n",
    "    tr = 0.720\n",
    "    tasks = ['tfMRI_EMOTION_LR', 'tfMRI_GAMBLING_LR', 'tfMRI_LANGUAGE_LR', 'tfMRI_RELATIONAL_LR', 'tfMRI_SOCIAL_LR', 'tfMRI_WM_LR']\n",
    "\n",
    "elif which_data == 'HCP_D':\n",
    "    tr = 0.800\n",
    "    tasks = ['tfMRI_CARIT_PA', 'tfMRI_EMOTION_PA', 'tfMRI_GUESSING_PA']"
   ]
  },
  {
   "cell_type": "markdown",
   "metadata": {},
   "source": [
    "# Load data"
   ]
  },
  {
   "cell_type": "code",
   "execution_count": 3,
   "metadata": {},
   "outputs": [
    {
     "data": {
      "text/plain": [
       "(7, 400)"
      ]
     },
     "execution_count": 3,
     "metadata": {},
     "output_type": "execute_result"
    }
   ],
   "source": [
    "fmri_clusters_file = os.path.join(outdir, 'HCPYA_Schaefer4007_rsts_fmri_clusters_k-7.npy')\n",
    "fmri_clusters = np.load(fmri_clusters_file, allow_pickle=True).item()\n",
    "resting_state_centroids = fmri_clusters['centroids']\n",
    "resting_state_centroids.shape"
   ]
  },
  {
   "cell_type": "code",
   "execution_count": 4,
   "metadata": {},
   "outputs": [
    {
     "name": "stdout",
     "output_type": "stream",
     "text": [
      "(8, 400) ['zeros', 'rest_1', 'rest_2', 'rest_3', 'rest_4', 'rest_5', 'rest_6', 'rest_7']\n"
     ]
    }
   ],
   "source": [
    "states_labels = ['zeros',]\n",
    "states = np.zeros((1, n_nodes))\n",
    "\n",
    "states = np.concatenate((states, resting_state_centroids), axis=0)\n",
    "for i in np.arange(resting_state_centroids.shape[0]):\n",
    "    states_labels.append('rest_{0}'.format(i+1))\n",
    "print(states.shape, states_labels)"
   ]
  },
  {
   "cell_type": "code",
   "execution_count": 5,
   "metadata": {},
   "outputs": [
    {
     "name": "stdout",
     "output_type": "stream",
     "text": [
      "tfMRI_EMOTION_LR\n",
      "fear\n",
      "neut\n",
      "tfMRI_GAMBLING_LR\n",
      "win\n",
      "loss\n",
      "tfMRI_LANGUAGE_LR\n",
      "math\n",
      "story\n",
      "tfMRI_RELATIONAL_LR\n",
      "match\n",
      "relation\n",
      "tfMRI_SOCIAL_LR\n",
      "mental\n",
      "rnd\n",
      "tfMRI_WM_LR\n",
      "0bk\n",
      "2bk\n"
     ]
    }
   ],
   "source": [
    "for which_task in tasks:\n",
    "    print(which_task)\n",
    "        \n",
    "    with open(os.path.join(outdir, '{0}_{1}_{2}_contrasts.pkl'.format(which_data.replace('_', ''), atlas, which_task.replace('_', ''))), 'rb') as f:\n",
    "        contrasts = pickle.load(f)\n",
    "\n",
    "    for key in contrasts.keys():\n",
    "        print(key)\n",
    "        con_mean = np.nanmean(contrasts[key], axis=0)[np.newaxis, :]\n",
    "        states = np.concatenate((states, con_mean), axis=0)\n",
    "        states_labels.append('{0}_{1}'.format(which_task, key))\n",
    "\n",
    "np.save(os.path.join(outdir, '{0}_{1}_states.npy'.format(which_data.replace('_', ''), atlas)), states)\n",
    "np.save(os.path.join(outdir, '{0}_{1}_states_labels.npy'.format(which_data.replace('_', ''), atlas)), states_labels)"
   ]
  },
  {
   "cell_type": "code",
   "execution_count": 6,
   "metadata": {},
   "outputs": [
    {
     "data": {
      "text/plain": [
       "(20, 400)"
      ]
     },
     "execution_count": 6,
     "metadata": {},
     "output_type": "execute_result"
    }
   ],
   "source": [
    "states.shape"
   ]
  },
  {
   "cell_type": "code",
   "execution_count": 7,
   "metadata": {},
   "outputs": [
    {
     "data": {
      "text/plain": [
       "['zeros',\n",
       " 'rest_1',\n",
       " 'rest_2',\n",
       " 'rest_3',\n",
       " 'rest_4',\n",
       " 'rest_5',\n",
       " 'rest_6',\n",
       " 'rest_7',\n",
       " 'tfMRI_EMOTION_LR_fear',\n",
       " 'tfMRI_EMOTION_LR_neut',\n",
       " 'tfMRI_GAMBLING_LR_win',\n",
       " 'tfMRI_GAMBLING_LR_loss',\n",
       " 'tfMRI_LANGUAGE_LR_math',\n",
       " 'tfMRI_LANGUAGE_LR_story',\n",
       " 'tfMRI_RELATIONAL_LR_match',\n",
       " 'tfMRI_RELATIONAL_LR_relation',\n",
       " 'tfMRI_SOCIAL_LR_mental',\n",
       " 'tfMRI_SOCIAL_LR_rnd',\n",
       " 'tfMRI_WM_LR_0bk',\n",
       " 'tfMRI_WM_LR_2bk']"
      ]
     },
     "execution_count": 7,
     "metadata": {},
     "output_type": "execute_result"
    }
   ],
   "source": [
    "states_labels"
   ]
  }
 ],
 "metadata": {
  "kernelspec": {
   "display_name": "nct_xr",
   "language": "python",
   "name": "python3"
  },
  "language_info": {
   "codemirror_mode": {
    "name": "ipython",
    "version": 3
   },
   "file_extension": ".py",
   "mimetype": "text/x-python",
   "name": "python",
   "nbconvert_exporter": "python",
   "pygments_lexer": "ipython3",
   "version": "3.10.13"
  }
 },
 "nbformat": 4,
 "nbformat_minor": 0
}
