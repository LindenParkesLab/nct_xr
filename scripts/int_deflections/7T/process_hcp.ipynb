{
 "cells": [
  {
   "cell_type": "code",
   "execution_count": 1,
   "metadata": {},
   "outputs": [],
   "source": [
    "# import\n",
    "import os, sys, shutil, pickle\n",
    "import numpy as np\n",
    "import pandas as pd\n",
    "import scipy as sp\n",
    "import nibabel as nib\n",
    "from tqdm import tqdm\n",
    "from sklearn.linear_model import LinearRegression\n",
    "\n",
    "sys.path.extend([r'/home/lindenmp/research_projects/snaplab_tools'])\n",
    "from snaplab_tools.utils import threshold_consistency, normalize_x\n",
    "from snaplab_tools.plotting.utils import get_my_colors, get_p_val_string\n",
    "\n",
    "# import plotting libraries\n",
    "import matplotlib.pyplot as plt\n",
    "\n",
    "plt.rcParams.update({\"font.size\": 8})\n",
    "plt.rcParams[\"svg.fonttype\"] = \"none\"\n",
    "import seaborn as sns"
   ]
  },
  {
   "cell_type": "markdown",
   "metadata": {},
   "source": [
    "## Load data"
   ]
  },
  {
   "cell_type": "code",
   "execution_count": 2,
   "metadata": {},
   "outputs": [],
   "source": [
    "in_dir = '/mnt/storage_ssd_raid/research_data/HCP_YA/collated_outputs'\n",
    "\n",
    "atlas = 'Schaefer4007'\n",
    "if atlas == 'Schaefer4007':\n",
    "    n_parcels = 400\n",
    "elif atlas == 'Schaefer2007':\n",
    "    n_parcels = 200\n",
    "elif atlas == 'Schaefer1007':\n",
    "    n_parcels = 100"
   ]
  },
  {
   "cell_type": "markdown",
   "metadata": {},
   "source": [
    "### rest fmri"
   ]
  },
  {
   "cell_type": "code",
   "execution_count": 3,
   "metadata": {},
   "outputs": [
    {
     "data": {
      "text/plain": [
       "dict_keys(['100610', '102311', '102816', '104416', '105923', '108323', '109123', '111312', '111514', '114823', '115017', '115825', '116726', '118225', '125525', '126426', '126931', '128935', '130114', '130518', '131217', '131722', '132118', '134627', '134829', '135124', '137128', '140117', '144226', '145834', '146129', '146432', '146735', '146937', '148133', '150423', '155938', '156334', '157336', '158035', '158136', '159239', '162935', '164131', '164636', '165436', '167036', '167440', '169040', '169343', '169444', '169747', '171633', '172130', '173334', '175237', '176542', '177140', '177645', '177746', '178142', '178243', '178647', '180533', '181232', '181636', '182436', '182739', '185442', '186949', '187345', '191033', '191336', '191841', '192439', '192641', '193845', '195041', '196144', '197348', '198653', '199655', '200210', '200311', '200614', '201515', '203418', '204521', '205220', '209228', '212419', '214019', '214524', '221319', '233326', '239136', '246133', '249947', '251833', '257845', '263436', '283543', '318637', '320826', '330324', '346137', '352738', '360030', '365343', '380036', '381038', '385046', '389357', '393247', '395756', '397760', '401422', '406836', '412528', '429040', '436845', '463040', '467351', '473952', '525541', '536647', '541943', '547046', '550439', '552241', '562345', '572045', '573249', '581450', '585256', '601127', '617748', '627549', '638049', '644246', '654552', '671855', '680957', '690152', '706040', '724446', '725751', '732243', '745555', '751550', '757764', '765864', '770352', '771354', '782561', '783462', '789373', '814649', '818859', '825048', '826353', '833249', '859671', '861456', '871762', '872764', '878776', '878877', '898176', '899885', '901139', '901442', '905147', '910241', '926862', '927359', '942658', '943862', '951457', '958976', '966975', '971160', '973770', '995174'])"
      ]
     },
     "execution_count": 3,
     "metadata": {},
     "output_type": "execute_result"
    }
   ],
   "source": [
    "# Load data (deserialize)\n",
    "with open(os.path.join(in_dir, 'hcpya_rsfmri_7T.pkl'), 'rb') as handle:\n",
    "    data = pickle.load(handle)\n",
    "\n",
    "data.keys()"
   ]
  },
  {
   "cell_type": "code",
   "execution_count": 4,
   "metadata": {},
   "outputs": [
    {
     "data": {
      "text/plain": [
       "184"
      ]
     },
     "execution_count": 4,
     "metadata": {},
     "output_type": "execute_result"
    }
   ],
   "source": [
    "subject_ids = list(data.keys())\n",
    "n_subs = len(subject_ids)\n",
    "n_subs"
   ]
  },
  {
   "cell_type": "code",
   "execution_count": 5,
   "metadata": {},
   "outputs": [],
   "source": [
    "subject_filter = np.zeros(n_subs).astype(bool)"
   ]
  },
  {
   "cell_type": "code",
   "execution_count": 6,
   "metadata": {},
   "outputs": [],
   "source": [
    "scans = [\n",
    "    'rfMRIREST17TPA',\n",
    "    'rfMRIREST27TAP',\n",
    "    'rfMRIREST37TPA',\n",
    "    'rfMRIREST47TAP'\n",
    "    ]"
   ]
  },
  {
   "cell_type": "code",
   "execution_count": 7,
   "metadata": {},
   "outputs": [
    {
     "name": "stdout",
     "output_type": "stream",
     "text": [
      "rfMRIREST17TPA\n"
     ]
    },
    {
     "name": "stderr",
     "output_type": "stream",
     "text": [
      "100%|██████████| 184/184 [00:02<00:00, 68.84it/s]\n"
     ]
    },
    {
     "name": "stdout",
     "output_type": "stream",
     "text": [
      "3\n",
      "rfMRIREST27TAP\n"
     ]
    },
    {
     "name": "stderr",
     "output_type": "stream",
     "text": [
      "100%|██████████| 184/184 [00:02<00:00, 89.29it/s]\n"
     ]
    },
    {
     "name": "stdout",
     "output_type": "stream",
     "text": [
      "5\n",
      "rfMRIREST37TPA\n"
     ]
    },
    {
     "name": "stderr",
     "output_type": "stream",
     "text": [
      "100%|██████████| 184/184 [00:01<00:00, 107.25it/s]\n"
     ]
    },
    {
     "name": "stdout",
     "output_type": "stream",
     "text": [
      "10\n",
      "rfMRIREST47TAP\n"
     ]
    },
    {
     "name": "stderr",
     "output_type": "stream",
     "text": [
      "100%|██████████| 184/184 [00:01<00:00, 106.13it/s]"
     ]
    },
    {
     "name": "stdout",
     "output_type": "stream",
     "text": [
      "11\n",
      "11\n"
     ]
    },
    {
     "name": "stderr",
     "output_type": "stream",
     "text": [
      "\n"
     ]
    }
   ],
   "source": [
    "rsts = np.zeros((900, n_parcels, len(scans), n_subs))\n",
    "\n",
    "for s, scan in enumerate(scans):\n",
    "    print(scan)\n",
    "    for i in tqdm(np.arange(n_subs)):\n",
    "        try:\n",
    "            ts = data[subject_ids[i]][atlas][scan].copy()\n",
    "            \n",
    "            gs = np.mean(ts, axis=1).reshape(-1, 1)\n",
    "            gs_diff = np.append(0, np.diff(gs, axis=0)).reshape(-1, 1)\n",
    "            nuis = np.concatenate((gs, gs_diff), axis=1)\n",
    "            nuis = np.concatenate((nuis, np.square(nuis)), axis=1)\n",
    "\n",
    "            regr = LinearRegression()\n",
    "            regr.fit(nuis, ts)\n",
    "            y_pred = regr.predict(nuis)\n",
    "            ts = ts - y_pred\n",
    "            \n",
    "            # z score\n",
    "            ts = sp.stats.zscore(ts, axis=0)\n",
    "            \n",
    "            if np.any(np.isnan(ts)):\n",
    "                print('Found NaNs!')\n",
    "            if np.any(np.isinf(ts)):\n",
    "                print('Found infs!')\n",
    "\n",
    "            rsts[:, :, s, i] = ts\n",
    "        except:\n",
    "            subject_filter[i] = True\n",
    "    print(np.sum(subject_filter))\n",
    "\n",
    "print(np.sum(subject_filter))"
   ]
  },
  {
   "cell_type": "markdown",
   "metadata": {},
   "source": [
    "### movie fmri"
   ]
  },
  {
   "cell_type": "code",
   "execution_count": 8,
   "metadata": {},
   "outputs": [
    {
     "data": {
      "text/plain": [
       "dict_keys(['100610', '102311', '102816', '104416', '105923', '108323', '109123', '111312', '111514', '114823', '115017', '115825', '116726', '118225', '125525', '126426', '126931', '128935', '130114', '130518', '131217', '131722', '132118', '134627', '134829', '135124', '137128', '140117', '144226', '145834', '146129', '146432', '146735', '146937', '148133', '150423', '155938', '156334', '157336', '158035', '158136', '159239', '162935', '164131', '164636', '165436', '167036', '167440', '169040', '169343', '169444', '169747', '171633', '172130', '173334', '175237', '176542', '177140', '177645', '177746', '178142', '178243', '178647', '180533', '181232', '181636', '182436', '182739', '185442', '186949', '187345', '191033', '191336', '191841', '192439', '192641', '193845', '195041', '196144', '197348', '198653', '199655', '200210', '200311', '200614', '201515', '203418', '204521', '205220', '209228', '212419', '214019', '214524', '221319', '233326', '239136', '246133', '249947', '251833', '257845', '263436', '283543', '318637', '320826', '330324', '346137', '352738', '360030', '365343', '380036', '381038', '385046', '389357', '393247', '395756', '397760', '401422', '406836', '412528', '429040', '436845', '463040', '467351', '473952', '525541', '536647', '541943', '547046', '550439', '552241', '562345', '572045', '573249', '581450', '585256', '601127', '617748', '627549', '638049', '644246', '654552', '671855', '680957', '690152', '706040', '724446', '725751', '732243', '745555', '751550', '757764', '765864', '770352', '771354', '782561', '783462', '789373', '814649', '818859', '825048', '826353', '833249', '859671', '861456', '871762', '872764', '878776', '878877', '898176', '899885', '901139', '901442', '905147', '910241', '926862', '927359', '942658', '943862', '951457', '958976', '966975', '971160', '973770', '995174'])"
      ]
     },
     "execution_count": 8,
     "metadata": {},
     "output_type": "execute_result"
    }
   ],
   "source": [
    "# Load data (deserialize)\n",
    "with open(os.path.join(in_dir, 'hcpya_tfmri_7T.pkl'), 'rb') as handle:\n",
    "    data = pickle.load(handle)\n",
    "\n",
    "data.keys()"
   ]
  },
  {
   "cell_type": "code",
   "execution_count": 9,
   "metadata": {},
   "outputs": [],
   "source": [
    "scans = [\n",
    "    'tfMRIMOVIE17TAP',\n",
    "    'tfMRIMOVIE27TPA',\n",
    "    'tfMRIMOVIE37TPA',\n",
    "    'tfMRIMOVIE47TAP']\n",
    "taskts_dict = dict()"
   ]
  },
  {
   "cell_type": "code",
   "execution_count": 10,
   "metadata": {},
   "outputs": [
    {
     "name": "stdout",
     "output_type": "stream",
     "text": [
      "tfMRIMOVIE17TAP 921\n"
     ]
    },
    {
     "name": "stderr",
     "output_type": "stream",
     "text": [
      "100%|██████████| 184/184 [00:02<00:00, 89.57it/s]\n"
     ]
    },
    {
     "name": "stdout",
     "output_type": "stream",
     "text": [
      "11\n",
      "tfMRIMOVIE27TPA 918\n"
     ]
    },
    {
     "name": "stderr",
     "output_type": "stream",
     "text": [
      "100%|██████████| 184/184 [00:01<00:00, 96.28it/s] \n"
     ]
    },
    {
     "name": "stdout",
     "output_type": "stream",
     "text": [
      "11\n",
      "tfMRIMOVIE37TPA 915\n"
     ]
    },
    {
     "name": "stderr",
     "output_type": "stream",
     "text": [
      "100%|██████████| 184/184 [00:01<00:00, 96.37it/s] \n"
     ]
    },
    {
     "name": "stdout",
     "output_type": "stream",
     "text": [
      "11\n",
      "tfMRIMOVIE47TAP 901\n"
     ]
    },
    {
     "name": "stderr",
     "output_type": "stream",
     "text": [
      "100%|██████████| 184/184 [00:02<00:00, 89.91it/s] \n"
     ]
    },
    {
     "name": "stdout",
     "output_type": "stream",
     "text": [
      "11\n",
      "11\n"
     ]
    }
   ],
   "source": [
    "taskts = np.zeros((1, n_parcels, n_subs))\n",
    "\n",
    "for scan in scans:\n",
    "    n_trs_task = data[subject_ids[0]][atlas][scan].shape[0]\n",
    "    print(scan, n_trs_task)\n",
    "    taskts_tmp = np.zeros((n_trs_task, n_parcels, n_subs))\n",
    "    for i in tqdm(np.arange(n_subs)):\n",
    "        try:\n",
    "            ts = data[subject_ids[i]][atlas][scan].copy()\n",
    "            \n",
    "            gs = np.mean(ts, axis=1).reshape(-1, 1)\n",
    "            gs_diff = np.append(0, np.diff(gs, axis=0)).reshape(-1, 1)\n",
    "            nuis = np.concatenate((gs, gs_diff), axis=1)\n",
    "            nuis = np.concatenate((nuis, np.square(nuis)), axis=1)\n",
    "\n",
    "            regr = LinearRegression()\n",
    "            regr.fit(nuis, ts)\n",
    "            y_pred = regr.predict(nuis)\n",
    "            ts = ts - y_pred\n",
    "            \n",
    "            # z score\n",
    "            ts = sp.stats.zscore(ts, axis=0)\n",
    "            \n",
    "            if np.any(np.isnan(ts)):\n",
    "                print('Found NaNs!')\n",
    "            if np.any(np.isinf(ts)):\n",
    "                print('Found infs!')\n",
    "\n",
    "            taskts_tmp[:, :, i] = ts\n",
    "        except:\n",
    "            subject_filter[i] = True\n",
    "    \n",
    "    taskts = np.concatenate((taskts, taskts_tmp.copy()), axis=0)\n",
    "    taskts_dict[scan] = taskts_tmp.copy()\n",
    "    print(np.sum(subject_filter))\n",
    "\n",
    "taskts = taskts[1:]\n",
    "print(np.sum(subject_filter))"
   ]
  },
  {
   "cell_type": "markdown",
   "metadata": {},
   "source": [
    "## Filter"
   ]
  },
  {
   "cell_type": "code",
   "execution_count": 11,
   "metadata": {},
   "outputs": [
    {
     "data": {
      "text/plain": [
       "array(['111312', '126931', '181636', '473952', '536647', '552241',\n",
       "       '585256', '745555', '951457', '973770', '995174'], dtype='<U6')"
      ]
     },
     "execution_count": 11,
     "metadata": {},
     "output_type": "execute_result"
    }
   ],
   "source": [
    "np.asarray(subject_ids)[subject_filter]"
   ]
  },
  {
   "cell_type": "code",
   "execution_count": 12,
   "metadata": {},
   "outputs": [
    {
     "data": {
      "text/plain": [
       "(3655, 400, 184)"
      ]
     },
     "execution_count": 12,
     "metadata": {},
     "output_type": "execute_result"
    }
   ],
   "source": [
    "taskts.shape"
   ]
  },
  {
   "cell_type": "code",
   "execution_count": 13,
   "metadata": {},
   "outputs": [
    {
     "name": "stdout",
     "output_type": "stream",
     "text": [
      "(900, 400, 4, 173) (3655, 400, 173)\n"
     ]
    }
   ],
   "source": [
    "rsts = rsts[:, :, :, ~subject_filter]\n",
    "for scan in taskts_dict.keys():\n",
    "    taskts_dict[scan] = taskts_dict[scan][:, :, ~subject_filter]\n",
    "\n",
    "try:\n",
    "    tasksts = taskts[:, :, ~subject_filter]\n",
    "    print(rsts.shape, tasksts.shape)\n",
    "except:\n",
    "    print(rsts.shape)"
   ]
  },
  {
   "cell_type": "code",
   "execution_count": 14,
   "metadata": {},
   "outputs": [
    {
     "name": "stdout",
     "output_type": "stream",
     "text": [
      "(921, 400, 173)\n",
      "(918, 400, 173)\n",
      "(915, 400, 173)\n",
      "(901, 400, 173)\n"
     ]
    }
   ],
   "source": [
    "try:\n",
    "    for scan in taskts_dict.keys():\n",
    "        print(taskts_dict[scan].shape)\n",
    "except:\n",
    "    pass"
   ]
  },
  {
   "cell_type": "markdown",
   "metadata": {},
   "source": [
    "## Save"
   ]
  },
  {
   "cell_type": "code",
   "execution_count": 15,
   "metadata": {},
   "outputs": [],
   "source": [
    "outdir = '/home/lindenmp/research_projects/nct_xr/data/int_deflections'\n",
    "if not os.path.exists(outdir):\n",
    "    os.makedirs(outdir)"
   ]
  },
  {
   "cell_type": "code",
   "execution_count": 16,
   "metadata": {},
   "outputs": [],
   "source": [
    "# save\n",
    "file_str = os.path.join(outdir, 'HCP-YA-7T_{0}_rsts.npy'.format(atlas))\n",
    "np.save(file_str, rsts)\n",
    "for scan in taskts_dict.keys():\n",
    "    file_str = os.path.join(outdir, 'HCP-YA-7T_{0}_taskts-{1}.npy'.format(atlas, scan))\n",
    "    np.save(file_str, taskts_dict[scan])"
   ]
  },
  {
   "cell_type": "code",
   "execution_count": 17,
   "metadata": {},
   "outputs": [],
   "source": [
    "file_str = os.path.join(outdir, 'HCP-YA-7T_{0}_subjids.txt'.format(atlas))\n",
    "subject_ids_filt = np.asarray(subject_ids)[~subject_filter]\n",
    "np.savetxt(file_str, subject_ids_filt, fmt='%s')"
   ]
  }
 ],
 "metadata": {
  "kernelspec": {
   "display_name": "nct_xr",
   "language": "python",
   "name": "python3"
  },
  "language_info": {
   "codemirror_mode": {
    "name": "ipython",
    "version": 3
   },
   "file_extension": ".py",
   "mimetype": "text/x-python",
   "name": "python",
   "nbconvert_exporter": "python",
   "pygments_lexer": "ipython3",
   "version": "3.10.13"
  }
 },
 "nbformat": 4,
 "nbformat_minor": 2
}
